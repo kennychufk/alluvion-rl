{
 "cells": [
  {
   "cell_type": "code",
   "execution_count": null,
   "metadata": {},
   "outputs": [],
   "source": [
    "import alluvion as al\n",
    "import numpy as np\n",
    "from numpy import linalg as LA\n",
    "from matplotlib import pyplot as plt\n",
    "from util import Unit"
   ]
  },
  {
   "cell_type": "code",
   "execution_count": null,
   "metadata": {},
   "outputs": [],
   "source": [
    "def calculate_mse_yz(v1, v2):\n",
    "    v_diff_y = v1[...,1] - v2[...,1]\n",
    "    v_diff_z = v1[...,2] - v2[...,2]\n",
    "    return np.mean(v_diff_y * v_diff_y + v_diff_z * v_diff_z, axis = 1)\n",
    "\n",
    "def calculate_length_sqr_yz(v):\n",
    "    v_y = v[...,1]\n",
    "    v_z = v[...,2]\n",
    "    return np.mean(v_y * v_y + v_z * v_z, axis = 1)"
   ]
  },
  {
   "cell_type": "code",
   "execution_count": null,
   "metadata": {},
   "outputs": [],
   "source": [
    "dp = al.Depot(np.float32)"
   ]
  },
  {
   "cell_type": "code",
   "execution_count": null,
   "metadata": {},
   "outputs": [],
   "source": [
    "result_dir = 'simulation-vfield/20210409_141511-403d4fd7/' #5e-3ker\n",
    "truth_v_real = np.load(f'{result_dir}/piv/truth_v_real.npy')\n",
    "sim_v_real_403d4fd7 = np.load(f'{result_dir}/piv/sim_v_real.npy')\n",
    "errors = np.load(f'{result_dir}/piv/sim_errors.npy')"
   ]
  },
  {
   "cell_type": "code",
   "execution_count": null,
   "metadata": {},
   "outputs": [],
   "source": [
    "result_dir = 'simulation-vfield/20210409_141511-027ac881/' #I\n",
    "sim_v_real_027ac881 = np.load(f'{result_dir}/piv/sim_v_real.npy')"
   ]
  },
  {
   "cell_type": "code",
   "execution_count": null,
   "metadata": {},
   "outputs": [],
   "source": [
    "result_dir = 'simulation-vfield/20210409_141511-d16fa88f' # simplified vis\n",
    "sim_v_real_d16fa88f = np.load(f'{result_dir}/piv/sim_v_real.npy')"
   ]
  },
  {
   "cell_type": "code",
   "execution_count": null,
   "metadata": {},
   "outputs": [],
   "source": [
    "result_dir = 'simulation-vfield/20210409_141511-4ab8be62' # 0.6 with adv\n",
    "sim_v_real_4ab8be62 = np.load(f'{result_dir}/piv/sim_v_real.npy')"
   ]
  },
  {
   "cell_type": "code",
   "execution_count": null,
   "metadata": {},
   "outputs": [],
   "source": [
    "result_dir = 'simulation-vfield/20210409_141511-6f215634' # 3e-3ker0.18\n",
    "sim_v_real_6f215634 = np.load(f'{result_dir}/piv/sim_v_real.npy')"
   ]
  },
  {
   "cell_type": "code",
   "execution_count": null,
   "metadata": {},
   "outputs": [],
   "source": [
    "fig = plt.figure(figsize=(10,10),dpi=200)\n",
    "ax = fig.add_subplot(1,1,1)\n",
    "\n",
    "ax.plot(calculate_length_sqr_yz(truth_v_real), label='truth')\n",
    "ax.plot(calculate_length_sqr_yz(sim_v_real_4ab8be62), label='0.6 with adv')\n",
    "ax.plot(calculate_length_sqr_yz(sim_v_real_027ac881), label='baseline')\n",
    "ax.plot(calculate_length_sqr_yz(sim_v_real_6f215634), label='3e-3ker0.18')\n",
    "ax.plot(calculate_length_sqr_yz(sim_v_real_403d4fd7), label='5e-3ker')\n",
    "\n",
    "ax.set_ylabel('Sum of velocity squared (m^2/s^2)')\n",
    "# ax.set_xlabel('Time (s)')\n",
    "\n",
    "ax.legend()"
   ]
  }
 ],
 "metadata": {
  "kernelspec": {
   "display_name": "Python 3",
   "language": "python",
   "name": "python3"
  },
  "language_info": {
   "codemirror_mode": {
    "name": "ipython",
    "version": 3
   },
   "file_extension": ".py",
   "mimetype": "text/x-python",
   "name": "python",
   "nbconvert_exporter": "python",
   "pygments_lexer": "ipython3",
   "version": "3.8.5"
  }
 },
 "nbformat": 4,
 "nbformat_minor": 4
}
