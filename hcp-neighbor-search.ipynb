{
 "cells": [
  {
   "cell_type": "code",
   "execution_count": null,
   "metadata": {},
   "outputs": [],
   "source": [
    "import plotly.graph_objects as go\n",
    "import numpy as np\n"
   ]
  },
  {
   "cell_type": "code",
   "execution_count": null,
   "metadata": {
    "scrolled": true
   },
   "outputs": [],
   "source": [
    "def hcp(n):\n",
    "    num_points = n*n*n\n",
    "    points = np.zeros((num_points, 3))\n",
    "    for i in range(num_points):\n",
    "        j = (i % (n*n)) // n\n",
    "        k = i // (n*n)\n",
    "        l = i % n\n",
    "        points[i] = np.array([\n",
    "            np.sqrt(3) * (j + (k % 2)/3), \n",
    "            2 * np.sqrt(6) / 3 * k, \n",
    "            2 * l + (j + k) % 2])\n",
    "    return points\n",
    "\n",
    "def hcp_ipos(n):\n",
    "    num_points = n*n*n\n",
    "    ipos_list = np.zeros((num_points, 3), np.int32)\n",
    "    for i in range(num_points):\n",
    "        j = (i % (n*n)) // n\n",
    "        k = i // (n*n)\n",
    "        l = i % n\n",
    "        ipos_list[i] = np.array([j, k, l], np.int32)\n",
    "    return ipos_list\n",
    "\n",
    "kHcpStep0 = 1.73205080756887729352744634150587236694280525381038062805581\n",
    "kHcpStepInv0 = 0.577350269189625764509148780501957455647601751270126876018602\n",
    "kHcpStep1 = 1.63299316185545206546485604980392759464396498710444675228846\n",
    "kHcpStepInv1 = 0.612372435695794524549321018676472847991486870164167532108173\n",
    "\n",
    "    \n",
    "def get_hcp_cell_center(ipos):\n",
    "    return np.array([\n",
    "        kHcpStep0 * (ipos[0] + (ipos[1] % 2) / 3),\n",
    "        kHcpStep1 * ipos[1],\n",
    "        (ipos[2] * 2 + (ipos[0] + ipos[1]) % 2)\n",
    "    ])\n",
    "\n",
    "coord = hcp(6)\n",
    "ipos_list = hcp_ipos(6)\n",
    "\n",
    "fig = go.Figure(data=go.Scatter3d(\n",
    "    x=coord[:,0], y=coord[:,1], z=coord[:,2], mode='markers',\n",
    "    marker=dict(size=coord[:,0]*0 + 30, symbol=\"circle\", color=-coord[:,2], opacity=1),\n",
    "))\n",
    "fig.show()"
   ]
  },
  {
   "cell_type": "code",
   "execution_count": null,
   "metadata": {},
   "outputs": [],
   "source": [
    "def approximate_hcp_ipos(x):\n",
    "    k = int(np.round(x[1]*3/(2*np.sqrt(6))))\n",
    "    j = int(np.round(x[0]/(np.sqrt(3))-(k%2)/3.0))\n",
    "    l = int(np.round((x[2] - ((j+k)%2))/2))\n",
    "    return np.array([j, k, l], np.int32)"
   ]
  },
  {
   "cell_type": "code",
   "execution_count": null,
   "metadata": {},
   "outputs": [],
   "source": [
    "for i, x in enumerate(coord):\n",
    "    print(approximate_hcp_ipos(x), ipos_list[i])\n",
    "    print(np.sum(approximate_hcp_ipos(x)-ipos_list[i]))"
   ]
  },
  {
   "cell_type": "code",
   "execution_count": null,
   "metadata": {
    "scrolled": false
   },
   "outputs": [],
   "source": [
    "for i, ipos in enumerate(ipos_list):\n",
    "    print(get_hcp_cell_center(ipos), coord[i])"
   ]
  },
  {
   "cell_type": "code",
   "execution_count": null,
   "metadata": {},
   "outputs": [],
   "source": [
    "test_points = np.random.uniform(4,6, (1000000,3))"
   ]
  },
  {
   "cell_type": "code",
   "execution_count": null,
   "metadata": {},
   "outputs": [],
   "source": [
    "closest_ipos = np.zeros((len(test_points), 3), np.int32)\n",
    "for i, test_point in enumerate(test_points):\n",
    "    displacements = np.tile(test_point, (len(coord), 1)) - coord\n",
    "    distance_sqr = np.sum(displacements*displacements, axis=1)\n",
    "    closest_id = np.argmin(distance_sqr)\n",
    "    closest_ipos[i] = ipos_list[closest_id]"
   ]
  },
  {
   "cell_type": "code",
   "execution_count": null,
   "metadata": {},
   "outputs": [],
   "source": [
    "approximate_closest_ipos = np.zeros((len(test_points), 3), np.int32)\n",
    "for i, test_point in enumerate(test_points):\n",
    "    approximate_ipos = approximate_hcp_ipos(test_point)\n",
    "    approximate_closest_ipos[i] = approximate_ipos"
   ]
  },
  {
   "cell_type": "code",
   "execution_count": null,
   "metadata": {},
   "outputs": [],
   "source": [
    "approximate_discrepancy = closest_ipos - approximate_closest_ipos"
   ]
  },
  {
   "cell_type": "code",
   "execution_count": null,
   "metadata": {},
   "outputs": [],
   "source": [
    "possible_offsets = []\n",
    "occupied_encoded_offset = np.zeros(1000, np.int32)\n",
    "def encode_offset(diff_ipos):\n",
    "    return (diff_ipos[0] + 5)*100 + (diff_ipos[1] + 5)*10 + (diff_ipos[2]+5)\n",
    "for diff_ipos in approximate_discrepancy:\n",
    "    encoded = encode_offset(diff_ipos)\n",
    "#     print(diff_ipos, encoded)\n",
    "    if occupied_encoded_offset[encoded] == 0:\n",
    "        possible_offsets.append(diff_ipos)\n",
    "    occupied_encoded_offset[encoded]+=1"
   ]
  },
  {
   "cell_type": "code",
   "execution_count": 63,
   "metadata": {},
   "outputs": [
    {
     "data": {
      "text/plain": [
       "([array([0, 0, 0], dtype=int32),\n",
       "  array([1, 0, 1], dtype=int32),\n",
       "  array([ 0, -1,  1], dtype=int32),\n",
       "  array([0, 1, 0], dtype=int32),\n",
       "  array([ 0,  1, -1], dtype=int32),\n",
       "  array([-1,  1,  0], dtype=int32),\n",
       "  array([ 0, -1,  0], dtype=int32),\n",
       "  array([-1,  0, -1], dtype=int32),\n",
       "  array([1, 1, 0], dtype=int32),\n",
       "  array([-1, -1,  0], dtype=int32),\n",
       "  array([ 0, -1, -1], dtype=int32),\n",
       "  array([1, 0, 0], dtype=int32),\n",
       "  array([-1,  0,  0], dtype=int32),\n",
       "  array([ 1, -1,  0], dtype=int32),\n",
       "  array([0, 1, 1], dtype=int32),\n",
       "  array([-1,  0,  1], dtype=int32),\n",
       "  array([ 1,  0, -1], dtype=int32)],\n",
       " 17)"
      ]
     },
     "execution_count": 63,
     "metadata": {},
     "output_type": "execute_result"
    }
   ],
   "source": [
    "possible_offsets, len(possible_offsets)"
   ]
  },
  {
   "cell_type": "code",
   "execution_count": 70,
   "metadata": {},
   "outputs": [
    {
     "name": "stdout",
     "output_type": "stream",
     "text": [
      "[0 0 0] 828390\n",
      "[1 0 1] 14075\n",
      "[ 0 -1  1] 11342\n",
      "[0 1 0] 19683\n",
      "[ 0  1 -1] 14107\n",
      "[-1  1  0] 3958\n",
      "[ 0 -1  0] 28865\n",
      "[-1  0 -1] 9973\n",
      "[1 1 0] 5828\n",
      "[-1 -1  0] 5624\n",
      "[ 0 -1 -1] 17475\n",
      "[1 0 0] 14196\n",
      "[-1  0  0] 12144\n",
      "[ 1 -1  0] 5667\n",
      "[0 1 1] 5837\n",
      "[-1  0  1] 2584\n",
      "[ 1  0 -1] 252\n"
     ]
    }
   ],
   "source": [
    "frequencies = np.zeros(len(possible_offsets), np.int32)\n",
    "for i, diff_ipos in enumerate(possible_offsets):\n",
    "    frequencies[i] = occupied_encoded_offset[encode_offset(diff_ipos)]\n",
    "    print(diff_ipos, frequencies[i])\n",
    "    "
   ]
  },
  {
   "cell_type": "code",
   "execution_count": 67,
   "metadata": {},
   "outputs": [],
   "source": [
    "## inspect rare case\n",
    "# target_encoded = encode_offset([ 1,  0, -1])\n",
    "# for i, test_point in enumerate(test_points):\n",
    "#     diff_pos = approximate_discrepancy[i]\n",
    "#     if encode_offset(diff_pos) ==target_encoded :\n",
    "#         closest_center = get_hcp_cell_center(closest_ipos[i])\n",
    "#         diff_closest = closest_center - test_point\n",
    "#         distance_closest_sqr = np.sum(diff_closest * diff_closest)\n",
    "#         approx_center = get_hcp_cell_center(approximate_closest_ipos[i])\n",
    "#         diff_approx = approx_center - test_point\n",
    "#         distance_approx_sqr = np.sum(diff_approx * diff_approx)\n",
    "#         print(distance_closest_sqr, distance_approx_sqr)"
   ]
  },
  {
   "cell_type": "code",
   "execution_count": 71,
   "metadata": {},
   "outputs": [
    {
     "data": {
      "text/plain": [
       "array([828390,  14075,  11342,  19683,  14107,   3958,  28865,   9973,\n",
       "         5828,   5624,  17475,  14196,  12144,   5667,   5837,   2584,\n",
       "          252], dtype=int32)"
      ]
     },
     "execution_count": 71,
     "metadata": {},
     "output_type": "execute_result"
    }
   ],
   "source": [
    "frequencies"
   ]
  },
  {
   "cell_type": "code",
   "execution_count": 72,
   "metadata": {},
   "outputs": [
    {
     "data": {
      "text/plain": [
       "array([   252,   2584,   3958,   5624,   5667,   5828,   5837,   9973,\n",
       "        11342,  12144,  14075,  14107,  14196,  17475,  19683,  28865,\n",
       "       828390], dtype=int32)"
      ]
     },
     "execution_count": 72,
     "metadata": {},
     "output_type": "execute_result"
    }
   ],
   "source": [
    "np.argsort(frequencies)"
   ]
  },
  {
   "cell_type": "code",
   "execution_count": 80,
   "metadata": {},
   "outputs": [
    {
     "name": "stdout",
     "output_type": "stream",
     "text": [
      "828390 [0 0 0]\n",
      "28865 [ 0 -1  0]\n",
      "19683 [0 1 0]\n",
      "17475 [ 0 -1 -1]\n",
      "14196 [1 0 0]\n",
      "14107 [ 0  1 -1]\n",
      "14075 [1 0 1]\n",
      "12144 [-1  0  0]\n",
      "11342 [ 0 -1  1]\n",
      "9973 [-1  0 -1]\n",
      "5837 [0 1 1]\n",
      "5828 [1 1 0]\n",
      "5667 [ 1 -1  0]\n",
      "5624 [-1 -1  0]\n",
      "3958 [-1  1  0]\n",
      "2584 [-1  0  1]\n",
      "252 [ 1  0 -1]\n"
     ]
    }
   ],
   "source": [
    "sorted_idx = np.argsort(frequencies)\n",
    "sorted_possible_offsets = np.zeros_like(possible_offsets)\n",
    "for i, sorted_id in enumerate(reversed(sorted_idx)):\n",
    "    print(frequencies[sorted_id], possible_offsets[sorted_id])\n",
    "    sorted_possible_offsets[i] = possible_offsets[sorted_id]"
   ]
  },
  {
   "cell_type": "code",
   "execution_count": 81,
   "metadata": {},
   "outputs": [
    {
     "data": {
      "text/plain": [
       "array([[ 0,  0,  0],\n",
       "       [ 0, -1,  0],\n",
       "       [ 0,  1,  0],\n",
       "       [ 0, -1, -1],\n",
       "       [ 1,  0,  0],\n",
       "       [ 0,  1, -1],\n",
       "       [ 1,  0,  1],\n",
       "       [-1,  0,  0],\n",
       "       [ 0, -1,  1],\n",
       "       [-1,  0, -1],\n",
       "       [ 0,  1,  1],\n",
       "       [ 1,  1,  0],\n",
       "       [ 1, -1,  0],\n",
       "       [-1, -1,  0],\n",
       "       [-1,  1,  0],\n",
       "       [-1,  0,  1],\n",
       "       [ 1,  0, -1]], dtype=int32)"
      ]
     },
     "execution_count": 81,
     "metadata": {},
     "output_type": "execute_result"
    }
   ],
   "source": [
    "sorted_possible_offsets"
   ]
  },
  {
   "cell_type": "code",
   "execution_count": 83,
   "metadata": {},
   "outputs": [],
   "source": [
    "faster_closest_ipos = np.zeros((len(test_points), 3), np.int32)\n",
    "for i, test_point in enumerate(test_points):\n",
    "    approximate_ipos = approximate_hcp_ipos(test_point)\n",
    "    faster_closest_ipos[i] = approximate_ipos\n",
    "    \n",
    "    min_distance_sqr = 999.9\n",
    "    min_jpos = None\n",
    "    for ipos_offset in sorted_possible_offsets:\n",
    "        jpos = approximate_ipos + ipos_offset\n",
    "        jcenter = get_hcp_cell_center(jpos)\n",
    "        diff = jcenter - test_point\n",
    "        distance_sqr = np.sum(diff*diff)\n",
    "        if distance_sqr<min_distance_sqr:\n",
    "            min_distance_sqr = distance_sqr\n",
    "            min_jpos = jpos\n",
    "    faster_closest_ipos[i] = min_jpos"
   ]
  },
  {
   "cell_type": "code",
   "execution_count": 84,
   "metadata": {},
   "outputs": [
    {
     "data": {
      "text/plain": [
       "0"
      ]
     },
     "execution_count": 84,
     "metadata": {},
     "output_type": "execute_result"
    }
   ],
   "source": [
    "np.sum(closest_ipos - faster_closest_ipos)"
   ]
  },
  {
   "cell_type": "code",
   "execution_count": 12,
   "metadata": {},
   "outputs": [
    {
     "name": "stdout",
     "output_type": "stream",
     "text": [
      "jpos = ipos + I3{ -1, -2, -1 };\n",
      "jpos_linear = linearize_hcp_ipos(jpos);\n",
      "if (within_hcp_grid(jpos)) need_ghost(jpos_linear) = jpos_linear;\n",
      "jpos = ipos + I3{ -1, -2, 0 };\n",
      "jpos_linear = linearize_hcp_ipos(jpos);\n",
      "if (within_hcp_grid(jpos)) need_ghost(jpos_linear) = jpos_linear;\n",
      "jpos = ipos + I3{ 0, -2, -1 };\n",
      "jpos_linear = linearize_hcp_ipos(jpos);\n",
      "if (within_hcp_grid(jpos)) need_ghost(jpos_linear) = jpos_linear;\n",
      "jpos = ipos + I3{ 0, -2, 0 };\n",
      "jpos_linear = linearize_hcp_ipos(jpos);\n",
      "if (within_hcp_grid(jpos)) need_ghost(jpos_linear) = jpos_linear;\n",
      "jpos = ipos + I3{ 0, -2, 1 };\n",
      "jpos_linear = linearize_hcp_ipos(jpos);\n",
      "if (within_hcp_grid(jpos)) need_ghost(jpos_linear) = jpos_linear;\n",
      "jpos = ipos + I3{ 1, -2, -1 };\n",
      "jpos_linear = linearize_hcp_ipos(jpos);\n",
      "if (within_hcp_grid(jpos)) need_ghost(jpos_linear) = jpos_linear;\n",
      "jpos = ipos + I3{ 1, -2, 0 };\n",
      "jpos_linear = linearize_hcp_ipos(jpos);\n",
      "if (within_hcp_grid(jpos)) need_ghost(jpos_linear) = jpos_linear;\n",
      "jpos = ipos + I3{ -2, -1, -1 };\n",
      "jpos_linear = linearize_hcp_ipos(jpos);\n",
      "if (within_hcp_grid(jpos)) need_ghost(jpos_linear) = jpos_linear;\n",
      "jpos = ipos + I3{ -2, -1, 0 };\n",
      "jpos_linear = linearize_hcp_ipos(jpos);\n",
      "if (within_hcp_grid(jpos)) need_ghost(jpos_linear) = jpos_linear;\n",
      "jpos = ipos + I3{ -1, -1, -1 };\n",
      "jpos_linear = linearize_hcp_ipos(jpos);\n",
      "if (within_hcp_grid(jpos)) need_ghost(jpos_linear) = jpos_linear;\n",
      "jpos = ipos + I3{ -1, -1, 0 };\n",
      "jpos_linear = linearize_hcp_ipos(jpos);\n",
      "if (within_hcp_grid(jpos)) need_ghost(jpos_linear) = jpos_linear;\n",
      "jpos = ipos + I3{ -1, -1, 1 };\n",
      "jpos_linear = linearize_hcp_ipos(jpos);\n",
      "if (within_hcp_grid(jpos)) need_ghost(jpos_linear) = jpos_linear;\n",
      "jpos = ipos + I3{ 0, -1, -2 };\n",
      "jpos_linear = linearize_hcp_ipos(jpos);\n",
      "if (within_hcp_grid(jpos)) need_ghost(jpos_linear) = jpos_linear;\n",
      "jpos = ipos + I3{ 0, -1, -1 };\n",
      "jpos_linear = linearize_hcp_ipos(jpos);\n",
      "if (within_hcp_grid(jpos)) need_ghost(jpos_linear) = jpos_linear;\n",
      "jpos = ipos + I3{ 0, -1, 0 };\n",
      "jpos_linear = linearize_hcp_ipos(jpos);\n",
      "if (within_hcp_grid(jpos)) need_ghost(jpos_linear) = jpos_linear;\n",
      "jpos = ipos + I3{ 0, -1, 1 };\n",
      "jpos_linear = linearize_hcp_ipos(jpos);\n",
      "if (within_hcp_grid(jpos)) need_ghost(jpos_linear) = jpos_linear;\n",
      "jpos = ipos + I3{ 1, -1, -1 };\n",
      "jpos_linear = linearize_hcp_ipos(jpos);\n",
      "if (within_hcp_grid(jpos)) need_ghost(jpos_linear) = jpos_linear;\n",
      "jpos = ipos + I3{ 1, -1, 0 };\n",
      "jpos_linear = linearize_hcp_ipos(jpos);\n",
      "if (within_hcp_grid(jpos)) need_ghost(jpos_linear) = jpos_linear;\n",
      "jpos = ipos + I3{ 1, -1, 1 };\n",
      "jpos_linear = linearize_hcp_ipos(jpos);\n",
      "if (within_hcp_grid(jpos)) need_ghost(jpos_linear) = jpos_linear;\n",
      "jpos = ipos + I3{ -2, 0, -1 };\n",
      "jpos_linear = linearize_hcp_ipos(jpos);\n",
      "if (within_hcp_grid(jpos)) need_ghost(jpos_linear) = jpos_linear;\n",
      "jpos = ipos + I3{ -2, 0, 0 };\n",
      "jpos_linear = linearize_hcp_ipos(jpos);\n",
      "if (within_hcp_grid(jpos)) need_ghost(jpos_linear) = jpos_linear;\n",
      "jpos = ipos + I3{ -2, 0, 1 };\n",
      "jpos_linear = linearize_hcp_ipos(jpos);\n",
      "if (within_hcp_grid(jpos)) need_ghost(jpos_linear) = jpos_linear;\n",
      "jpos = ipos + I3{ -1, 0, -2 };\n",
      "jpos_linear = linearize_hcp_ipos(jpos);\n",
      "if (within_hcp_grid(jpos)) need_ghost(jpos_linear) = jpos_linear;\n",
      "jpos = ipos + I3{ -1, 0, -1 };\n",
      "jpos_linear = linearize_hcp_ipos(jpos);\n",
      "if (within_hcp_grid(jpos)) need_ghost(jpos_linear) = jpos_linear;\n",
      "jpos = ipos + I3{ -1, 0, 0 };\n",
      "jpos_linear = linearize_hcp_ipos(jpos);\n",
      "if (within_hcp_grid(jpos)) need_ghost(jpos_linear) = jpos_linear;\n",
      "jpos = ipos + I3{ -1, 0, 1 };\n",
      "jpos_linear = linearize_hcp_ipos(jpos);\n",
      "if (within_hcp_grid(jpos)) need_ghost(jpos_linear) = jpos_linear;\n",
      "jpos = ipos + I3{ 0, 0, -2 };\n",
      "jpos_linear = linearize_hcp_ipos(jpos);\n",
      "if (within_hcp_grid(jpos)) need_ghost(jpos_linear) = jpos_linear;\n",
      "jpos = ipos + I3{ 0, 0, -1 };\n",
      "jpos_linear = linearize_hcp_ipos(jpos);\n",
      "if (within_hcp_grid(jpos)) need_ghost(jpos_linear) = jpos_linear;\n",
      "jpos = ipos + I3{ 0, 0, 0 };\n",
      "jpos_linear = linearize_hcp_ipos(jpos);\n",
      "if (within_hcp_grid(jpos)) need_ghost(jpos_linear) = jpos_linear;\n",
      "jpos = ipos + I3{ 0, 0, 1 };\n",
      "jpos_linear = linearize_hcp_ipos(jpos);\n",
      "if (within_hcp_grid(jpos)) need_ghost(jpos_linear) = jpos_linear;\n",
      "jpos = ipos + I3{ 0, 0, 2 };\n",
      "jpos_linear = linearize_hcp_ipos(jpos);\n",
      "if (within_hcp_grid(jpos)) need_ghost(jpos_linear) = jpos_linear;\n",
      "jpos = ipos + I3{ 1, 0, -2 };\n",
      "jpos_linear = linearize_hcp_ipos(jpos);\n",
      "if (within_hcp_grid(jpos)) need_ghost(jpos_linear) = jpos_linear;\n",
      "jpos = ipos + I3{ 1, 0, -1 };\n",
      "jpos_linear = linearize_hcp_ipos(jpos);\n",
      "if (within_hcp_grid(jpos)) need_ghost(jpos_linear) = jpos_linear;\n",
      "jpos = ipos + I3{ 1, 0, 0 };\n",
      "jpos_linear = linearize_hcp_ipos(jpos);\n",
      "if (within_hcp_grid(jpos)) need_ghost(jpos_linear) = jpos_linear;\n",
      "jpos = ipos + I3{ 1, 0, 1 };\n",
      "jpos_linear = linearize_hcp_ipos(jpos);\n",
      "if (within_hcp_grid(jpos)) need_ghost(jpos_linear) = jpos_linear;\n",
      "jpos = ipos + I3{ 2, 0, -1 };\n",
      "jpos_linear = linearize_hcp_ipos(jpos);\n",
      "if (within_hcp_grid(jpos)) need_ghost(jpos_linear) = jpos_linear;\n",
      "jpos = ipos + I3{ 2, 0, 0 };\n",
      "jpos_linear = linearize_hcp_ipos(jpos);\n",
      "if (within_hcp_grid(jpos)) need_ghost(jpos_linear) = jpos_linear;\n",
      "jpos = ipos + I3{ 2, 0, 1 };\n",
      "jpos_linear = linearize_hcp_ipos(jpos);\n",
      "if (within_hcp_grid(jpos)) need_ghost(jpos_linear) = jpos_linear;\n",
      "jpos = ipos + I3{ -2, 1, -1 };\n",
      "jpos_linear = linearize_hcp_ipos(jpos);\n",
      "if (within_hcp_grid(jpos)) need_ghost(jpos_linear) = jpos_linear;\n",
      "jpos = ipos + I3{ -2, 1, 0 };\n",
      "jpos_linear = linearize_hcp_ipos(jpos);\n",
      "if (within_hcp_grid(jpos)) need_ghost(jpos_linear) = jpos_linear;\n",
      "jpos = ipos + I3{ -1, 1, -1 };\n",
      "jpos_linear = linearize_hcp_ipos(jpos);\n",
      "if (within_hcp_grid(jpos)) need_ghost(jpos_linear) = jpos_linear;\n",
      "jpos = ipos + I3{ -1, 1, 0 };\n",
      "jpos_linear = linearize_hcp_ipos(jpos);\n",
      "if (within_hcp_grid(jpos)) need_ghost(jpos_linear) = jpos_linear;\n",
      "jpos = ipos + I3{ -1, 1, 1 };\n",
      "jpos_linear = linearize_hcp_ipos(jpos);\n",
      "if (within_hcp_grid(jpos)) need_ghost(jpos_linear) = jpos_linear;\n",
      "jpos = ipos + I3{ 0, 1, -2 };\n",
      "jpos_linear = linearize_hcp_ipos(jpos);\n",
      "if (within_hcp_grid(jpos)) need_ghost(jpos_linear) = jpos_linear;\n",
      "jpos = ipos + I3{ 0, 1, -1 };\n",
      "jpos_linear = linearize_hcp_ipos(jpos);\n",
      "if (within_hcp_grid(jpos)) need_ghost(jpos_linear) = jpos_linear;\n",
      "jpos = ipos + I3{ 0, 1, 0 };\n",
      "jpos_linear = linearize_hcp_ipos(jpos);\n",
      "if (within_hcp_grid(jpos)) need_ghost(jpos_linear) = jpos_linear;\n",
      "jpos = ipos + I3{ 0, 1, 1 };\n",
      "jpos_linear = linearize_hcp_ipos(jpos);\n",
      "if (within_hcp_grid(jpos)) need_ghost(jpos_linear) = jpos_linear;\n",
      "jpos = ipos + I3{ 1, 1, -1 };\n",
      "jpos_linear = linearize_hcp_ipos(jpos);\n",
      "if (within_hcp_grid(jpos)) need_ghost(jpos_linear) = jpos_linear;\n",
      "jpos = ipos + I3{ 1, 1, 0 };\n",
      "jpos_linear = linearize_hcp_ipos(jpos);\n",
      "if (within_hcp_grid(jpos)) need_ghost(jpos_linear) = jpos_linear;\n",
      "jpos = ipos + I3{ 1, 1, 1 };\n",
      "jpos_linear = linearize_hcp_ipos(jpos);\n",
      "if (within_hcp_grid(jpos)) need_ghost(jpos_linear) = jpos_linear;\n",
      "jpos = ipos + I3{ -1, 2, -1 };\n",
      "jpos_linear = linearize_hcp_ipos(jpos);\n",
      "if (within_hcp_grid(jpos)) need_ghost(jpos_linear) = jpos_linear;\n",
      "jpos = ipos + I3{ -1, 2, 0 };\n",
      "jpos_linear = linearize_hcp_ipos(jpos);\n",
      "if (within_hcp_grid(jpos)) need_ghost(jpos_linear) = jpos_linear;\n",
      "jpos = ipos + I3{ 0, 2, -1 };\n",
      "jpos_linear = linearize_hcp_ipos(jpos);\n",
      "if (within_hcp_grid(jpos)) need_ghost(jpos_linear) = jpos_linear;\n",
      "jpos = ipos + I3{ 0, 2, 0 };\n",
      "jpos_linear = linearize_hcp_ipos(jpos);\n",
      "if (within_hcp_grid(jpos)) need_ghost(jpos_linear) = jpos_linear;\n",
      "jpos = ipos + I3{ 0, 2, 1 };\n",
      "jpos_linear = linearize_hcp_ipos(jpos);\n",
      "if (within_hcp_grid(jpos)) need_ghost(jpos_linear) = jpos_linear;\n",
      "jpos = ipos + I3{ 1, 2, -1 };\n",
      "jpos_linear = linearize_hcp_ipos(jpos);\n",
      "if (within_hcp_grid(jpos)) need_ghost(jpos_linear) = jpos_linear;\n",
      "jpos = ipos + I3{ 1, 2, 0 };\n",
      "jpos_linear = linearize_hcp_ipos(jpos);\n",
      "if (within_hcp_grid(jpos)) need_ghost(jpos_linear) = jpos_linear;\n"
     ]
    }
   ],
   "source": [
    "eps =1e-3\n",
    "\n",
    "coord = hcp(12)\n",
    "ipos = hcp_ipos(12)\n",
    "\n",
    "ref = np.array([np.sqrt(48), np.sqrt(128/3), 8])\n",
    "ref_ipos = np.array([4, 4, 4], np.int32)\n",
    "for i in range(len(coord)):\n",
    "    x = coord[i]\n",
    "    relative_ipos = ipos[i]-ref_ipos\n",
    "    displacement = x - ref\n",
    "    dist_sqr = np.dot(displacement,displacement)\n",
    "    assigned_mat = None\n",
    "    if dist_sqr < 20-eps:\n",
    "        print('jpos = ipos + I3{', f'{relative_ipos[0]}, {relative_ipos[1]}, {relative_ipos[2]}', '};')\n",
    "        print('jpos_linear = linearize_hcp_ipos(jpos);')\n",
    "        print('if (within_hcp_grid(jpos)) need_ghost(jpos_linear) = jpos_linear;')"
   ]
  },
  {
   "cell_type": "code",
   "execution_count": null,
   "metadata": {},
   "outputs": [],
   "source": []
  }
 ],
 "metadata": {
  "kernelspec": {
   "display_name": "Python 3",
   "language": "python",
   "name": "python3"
  },
  "language_info": {
   "codemirror_mode": {
    "name": "ipython",
    "version": 3
   },
   "file_extension": ".py",
   "mimetype": "text/x-python",
   "name": "python",
   "nbconvert_exporter": "python",
   "pygments_lexer": "ipython3",
   "version": "3.8.5"
  }
 },
 "nbformat": 4,
 "nbformat_minor": 4
}
