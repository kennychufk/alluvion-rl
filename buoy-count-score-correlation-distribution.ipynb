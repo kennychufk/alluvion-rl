{
 "cells": [
  {
   "cell_type": "code",
   "execution_count": null,
   "id": "3e00a6c0-f4c7-4eb9-b67c-d7ff923e9a50",
   "metadata": {},
   "outputs": [],
   "source": [
    "import numpy as np\n",
    "import wandb\n",
    "from matplotlib import pyplot as plt\n",
    "from util import populate_plt_settings, get_column_width, get_fig_size, get_latex_float\n",
    "import re\n",
    "import plotly.express as px\n",
    "import pandas as pd"
   ]
  },
  {
   "cell_type": "code",
   "execution_count": null,
   "id": "7e83fc7b-2726-49da-aa46-ae01227a82f5",
   "metadata": {},
   "outputs": [],
   "source": [
    "populate_plt_settings(plt)"
   ]
  },
  {
   "cell_type": "code",
   "execution_count": null,
   "id": "cc44cff5-631b-4f20-bf88-80e1d9dc247e",
   "metadata": {},
   "outputs": [],
   "source": [
    "api = wandb.Api()\n",
    "run = api.run('kennychufk/alluvion-rl/fa8dq4m1Aug-diagonal100')"
   ]
  },
  {
   "cell_type": "code",
   "execution_count": null,
   "id": "1895791a-aa45-442c-b113-475347bc8743",
   "metadata": {},
   "outputs": [],
   "source": [
    "history = run.scan_history(keys=None,\n",
    "                           page_size=1000,\n",
    "                           min_step=None,\n",
    "                           max_step=None)"
   ]
  },
  {
   "cell_type": "code",
   "execution_count": null,
   "id": "a7328b86-e9e1-4071-a2cf-936af1d9b8b2",
   "metadata": {},
   "outputs": [],
   "source": [
    "metric_name = 'eulerian_masked'\n",
    "# metric_name = 'eulerian'\n",
    "pattern=re.compile('([0-9]+)-uth-.*-'+metric_name+'-m%')\n",
    "\n",
    "buoy_counts_in_trials = []\n",
    "\n",
    "step_interval = 50\n",
    "for row in history:\n",
    "    if len(buoy_counts_in_trials)>0:\n",
    "        continue\n",
    "    for key in row:\n",
    "        match_result = pattern.match(key)\n",
    "        if match_result is not None:\n",
    "            num_buoys = int(match_result[1])\n",
    "            buoy_counts_in_trials.append(num_buoys)\n",
    "buoy_counts_in_trials.sort()\n",
    "\n",
    "buoy_counts_in_trials\n",
    "buoy_counts_grouped = []\n",
    "curr_buoy_count = -1\n",
    "curr_idx =-1\n",
    "for buoy_count in buoy_counts_in_trials:\n",
    "    if curr_buoy_count!=buoy_count:\n",
    "        buoy_counts_grouped.append([])\n",
    "        curr_buoy_count = buoy_count\n",
    "        curr_idx+=1\n",
    "    buoy_counts_grouped[curr_idx].append(buoy_count)\n",
    "    \n",
    "buoy_count_to_id = {}\n",
    "for idx, buoy_counts_same in enumerate(buoy_counts_grouped):\n",
    "    buoy_count_to_id[buoy_counts_same[0]] = idx\n",
    "    \n",
    "\n",
    "val_scores = []\n",
    "for buoy_counts_same in buoy_counts_grouped:\n",
    "    val_scores.append(np.zeros(len(buoy_counts_same)))\n",
    "\n",
    "artifact_id = 0\n",
    "cursors = np.zeros(len(buoy_counts_grouped), int)\n",
    "for row_id, row in enumerate(history):\n",
    "    if (row['_step']+1)%50!=0:\n",
    "        continue\n",
    "    for key in row:\n",
    "        match_result = pattern.match(key)\n",
    "        if match_result is not None:\n",
    "            num_buoys = int(match_result[1])\n",
    "            buoy_count_index = buoy_count_to_id[num_buoys]\n",
    "            val_scores[buoy_count_index][cursors[buoy_count_index]] = 1-row[key]\n",
    "            cursors[buoy_count_index]+=1\n",
    "    artifact_id+=1\n",
    "distinct_buoy_counts = []\n",
    "for buoy_counts_same in buoy_counts_grouped:\n",
    "    distinct_buoy_counts.append(buoy_counts_same[0])"
   ]
  },
  {
   "cell_type": "code",
   "execution_count": null,
   "id": "e8ffea33-cc32-4c07-8455-f686a6936719",
   "metadata": {},
   "outputs": [],
   "source": [
    "buoy_counts_grouped"
   ]
  },
  {
   "cell_type": "code",
   "execution_count": null,
   "id": "8d32dfa3-6939-487f-959b-2bee96058061",
   "metadata": {},
   "outputs": [],
   "source": [
    "for i in range(len(buoy_counts_grouped)):\n",
    "    plt.scatter(buoy_counts_grouped[i], val_scores[i])"
   ]
  },
  {
   "cell_type": "code",
   "execution_count": null,
   "id": "2737e881-f5e2-4fc2-a0e4-3b488f651bda",
   "metadata": {},
   "outputs": [],
   "source": [
    "score_std = np.zeros(len(val_scores))\n",
    "score_mean = np.zeros(len(val_scores))\n",
    "\n",
    "for i, scores in enumerate(val_scores):\n",
    "    score_std[i] = scores.std()\n",
    "    score_mean[i] = scores.mean()"
   ]
  },
  {
   "cell_type": "code",
   "execution_count": null,
   "id": "7d9fbfc8-64ae-4fdf-8335-8d77f0e657c6",
   "metadata": {},
   "outputs": [],
   "source": [
    "from matplotlib.ticker import (AutoMinorLocator, MultipleLocator)\n",
    "num_rows = 1\n",
    "num_cols = 1\n",
    "fig, ax = plt.subplots(num_rows, num_cols, figsize = get_fig_size(get_column_width(), ratio=(np.sqrt(5)-1)*0.5))\n",
    "\n",
    "# ax.plot(distinct_buoy_counts, score_mean)\n",
    "# ax.fill_between(distinct_buoy_counts, score_mean - score_std, score_mean + score_std, color='b', alpha=0.2)\n",
    "\n",
    "ax.errorbar(distinct_buoy_counts, score_mean, yerr=score_std, capsize=2, capthick=1)\n",
    "ax.set_xlabel('Number of buoys')\n",
    "ax.set_ylabel('Eulerian Score')\n",
    "\n",
    "ax.set_xlim(0,100)\n",
    "ax.xaxis.set_major_locator(MultipleLocator(10))\n",
    "ax.xaxis.set_minor_locator(AutoMinorLocator(5))\n",
    "ax.grid(which='minor', color='#DDDDDD', linewidth=0.5)\n",
    "\n",
    "fig.tight_layout(pad=0.05) # should set tight_layout before add_axes()\n",
    "fig.savefig('buoy-count-score-correlation.pgf')"
   ]
  },
  {
   "cell_type": "code",
   "execution_count": null,
   "id": "0987c0da-1ed2-4eb1-a21f-45822ca5f53b",
   "metadata": {},
   "outputs": [],
   "source": [
    "score_std"
   ]
  }
 ],
 "metadata": {
  "kernelspec": {
   "display_name": "Python 3 (ipykernel)",
   "language": "python",
   "name": "python3"
  },
  "language_info": {
   "codemirror_mode": {
    "name": "ipython",
    "version": 3
   },
   "file_extension": ".py",
   "mimetype": "text/x-python",
   "name": "python",
   "nbconvert_exporter": "python",
   "pygments_lexer": "ipython3",
   "version": "3.8.13"
  }
 },
 "nbformat": 4,
 "nbformat_minor": 5
}
