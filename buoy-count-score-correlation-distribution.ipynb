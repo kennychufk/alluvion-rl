{
 "cells": [
  {
   "cell_type": "code",
   "execution_count": null,
   "id": "3e00a6c0-f4c7-4eb9-b67c-d7ff923e9a50",
   "metadata": {},
   "outputs": [],
   "source": [
    "import numpy as np\n",
    "import wandb\n",
    "from matplotlib import pyplot as plt\n",
    "from util import populate_plt_settings, get_column_width, get_fig_size, get_latex_float\n",
    "import re\n",
    "import plotly.express as px\n",
    "import pandas as pd"
   ]
  },
  {
   "cell_type": "code",
   "execution_count": null,
   "id": "7e83fc7b-2726-49da-aa46-ae01227a82f5",
   "metadata": {},
   "outputs": [],
   "source": [
    "populate_plt_settings(plt)"
   ]
  },
  {
   "cell_type": "code",
   "execution_count": null,
   "id": "cc44cff5-631b-4f20-bf88-80e1d9dc247e",
   "metadata": {},
   "outputs": [],
   "source": [
    "api = wandb.Api()\n",
    "# run, target_step = api.run('kennychufk/alluvion-rl/fa8dq4m1Aug-diagonal100'), 600\n",
    "# run, target_step = api.run('kennychufk/alluvion-rl/fa8dq4m1Aug-val-diagonal2-0.011'), 600\n",
    "\n",
    "# run, target_step = api.run('kennychufk/alluvion-rl/2v7m4mucAug-val-loop2-0.011'), 2600 \n",
    "# run, target_step = api.run('kennychufk/alluvion-rl/fa8dq4m1Aug-val-loop2-0.011'), 600 \n",
    "# run, target_step = api.run('kennychufk/alluvion-rl/2nw7bxr4Aug-val-loop2-0.011'), 600 \n",
    "\n",
    "# run, target_step = api.run('kennychufk/alluvion-rl/2v7m4mucAug-val-bidir-circles2-0.011'), 2600\n",
    "# run, target_step = api.run('kennychufk/alluvion-rl/fa8dq4m1Aug-val-bidir-circles2-0.011'), 600\n",
    "# run, target_step = api.run('kennychufk/alluvion-rl/2nw7bxr4Aug-val-bidir-circles2-0.011'), 600\n",
    "\n",
    "# run, target_step = api.run('kennychufk/alluvion-rl/2v7m4mucAug-val-nephroid2-0.011'), 2600\n",
    "# run, target_step = api.run('kennychufk/alluvion-rl/fa8dq4m1Aug-val-nephroid2-0.011'), 600\n",
    "# run, target_step = api.run('kennychufk/alluvion-rl/2nw7bxr4Aug-val-nephroid2-0.011'), 600\n",
    "\n",
    "# run, target_step = api.run('kennychufk/alluvion-rl/2v7m4mucAug-val-diagonal2-0.011'), 2600\n",
    "# run, target_step = api.run('kennychufk/alluvion-rl/fa8dq4m1Aug-val-diagonal2-0.011'), 600\n",
    "# run, target_step = api.run('kennychufk/alluvion-rl/2nw7bxr4Aug-val-diagonal2-0.011'), 600"
   ]
  },
  {
   "cell_type": "code",
   "execution_count": null,
   "id": "1895791a-aa45-442c-b113-475347bc8743",
   "metadata": {},
   "outputs": [],
   "source": []
  },
  {
   "cell_type": "code",
   "execution_count": null,
   "id": "a7328b86-e9e1-4071-a2cf-936af1d9b8b2",
   "metadata": {},
   "outputs": [],
   "source": [
    "def get_grouped_scores(run, target_step, metric_name):\n",
    "    history = run.scan_history(keys=None,\n",
    "                           page_size=1000,\n",
    "                           min_step=None,\n",
    "                           max_step=None)\n",
    "    pattern=re.compile('([0-9]+)-uth-([0-9a-zA-z]+)-'+metric_name+'-m%')\n",
    "\n",
    "    buoy_counts_in_trials = []\n",
    "\n",
    "    step_interval = 50\n",
    "    for row in history:\n",
    "        if row['_step']+1!=target_step:\n",
    "            continue\n",
    "        for key in row:\n",
    "            match_result = pattern.match(key)\n",
    "            if match_result is not None:\n",
    "                num_buoys = int(match_result[1])\n",
    "                buoy_counts_in_trials.append(num_buoys)\n",
    "        break\n",
    "    buoy_counts_in_trials.sort()\n",
    "\n",
    "    buoy_counts_in_trials\n",
    "    buoy_counts_grouped = []\n",
    "    curr_buoy_count = -1\n",
    "    curr_idx =-1\n",
    "    for buoy_count in buoy_counts_in_trials:\n",
    "        if curr_buoy_count!=buoy_count:\n",
    "            buoy_counts_grouped.append([])\n",
    "            curr_buoy_count = buoy_count\n",
    "            curr_idx+=1\n",
    "        buoy_counts_grouped[curr_idx].append(buoy_count)\n",
    "\n",
    "    buoy_count_to_id = {}\n",
    "    for idx, buoy_counts_same in enumerate(buoy_counts_grouped):\n",
    "        buoy_count_to_id[buoy_counts_same[0]] = idx\n",
    "\n",
    "\n",
    "    val_scores = []\n",
    "    for buoy_counts_same in buoy_counts_grouped:\n",
    "        val_scores.append(np.zeros(len(buoy_counts_same)))\n",
    "    val_scores_named = []\n",
    "\n",
    "\n",
    "    cursors = np.zeros(len(buoy_counts_grouped), int)\n",
    "    for row_id, row in enumerate(history):\n",
    "        if (row['_step']+1)%50!=0:\n",
    "            continue\n",
    "        if row['_step']+1!=target_step:\n",
    "            continue\n",
    "        for key in row:\n",
    "            match_result = pattern.match(key)\n",
    "            if match_result is not None:\n",
    "                num_buoys = int(match_result[1])\n",
    "                buoy_count_index = buoy_count_to_id[num_buoys]\n",
    "                score = 1-row[key]\n",
    "                val_scores[buoy_count_index][cursors[buoy_count_index]] = score\n",
    "                val_scores_named.append([f'{num_buoys:03d}-{match_result[2]}', score])\n",
    "                val_scores\n",
    "                cursors[buoy_count_index]+=1\n",
    "        break\n",
    "    distinct_buoy_counts = []\n",
    "    for buoy_counts_same in buoy_counts_grouped:\n",
    "        distinct_buoy_counts.append(buoy_counts_same[0])\n",
    "    val_scores_named.sort(key=lambda x: x[0])\n",
    "    \n",
    "    return val_scores, val_scores_named, buoy_counts_grouped, distinct_buoy_counts\n",
    "\n",
    "def print_scores(val_scores_named):\n",
    "    for name_score in val_scores_named:\n",
    "        print(f'{name_score[0]},{name_score[1]}')\n",
    "        \n",
    "def print_buoy_statistics(distinct_buoy_counts, score_mean, score_std):\n",
    "    for i, buoy_count in enumerate(distinct_buoy_counts):\n",
    "        print(f'{buoy_count},{score_mean[i]},{score_std[i]}')\n",
    "        \n",
    "def get_statistics(val_scores):\n",
    "    score_std = np.zeros(len(val_scores))\n",
    "    score_mean = np.zeros(len(val_scores))\n",
    "\n",
    "    for i, scores in enumerate(val_scores):\n",
    "        score_std[i] = scores.std()\n",
    "        score_mean[i] = scores.mean()\n",
    "    return score_mean, score_std"
   ]
  },
  {
   "cell_type": "code",
   "execution_count": null,
   "id": "f9611565-7e8e-48d7-9460-06f4efa8adb9",
   "metadata": {},
   "outputs": [],
   "source": [
    "homo_eulerian_scores, homo_eulerian_scores_named, homo_eulerian_buoy_counts_grouped, eulerian_distinct_buoy_counts = get_grouped_scores(api.run('kennychufk/alluvion-rl/fa8dq4m1Aug-diagonal100'), 600, 'eulerian_masked')\n",
    "# homo_height_field_scores, homo_height_field_scores_named, homo_height_field_buoy_counts_grouped, height_field_distinct_buoy_counts = get_grouped_scores(api.run('kennychufk/alluvion-rl/fa8dq4m1Aug-val-diagonal2-0.011'), 600, 'height_field')\n",
    "hetero_eulerian_scores, hetero_eulerian_scores_named, hetero_eulerian_buoy_counts_grouped, eulerian_distinct_buoy_counts = get_grouped_scores(api.run('kennychufk/alluvion-rl/2v7m4mucAug-diagonal100'), 2600, 'eulerian_masked')\n",
    "# hetero_height_field_scores, hetero_height_field_scores_named, hetero_height_field_buoy_counts_grouped, height_field_distinct_buoy_counts = get_grouped_scores(api.run('kennychufk/alluvion-rl/2v7m4mucAug-val-diagonal2-0.011'), 2600, 'height_field')"
   ]
  },
  {
   "cell_type": "code",
   "execution_count": null,
   "id": "c310213f-49d4-46a5-8d0f-1131825ba896",
   "metadata": {},
   "outputs": [],
   "source": []
  },
  {
   "cell_type": "code",
   "execution_count": null,
   "id": "8d32dfa3-6939-487f-959b-2bee96058061",
   "metadata": {},
   "outputs": [],
   "source": [
    "for i in range(len(homo_eulerian_buoy_counts_grouped)):\n",
    "    plt.scatter(homo_eulerian_buoy_counts_grouped[i], homo_eulerian_scores[i])"
   ]
  },
  {
   "cell_type": "code",
   "execution_count": null,
   "id": "2737e881-f5e2-4fc2-a0e4-3b488f651bda",
   "metadata": {},
   "outputs": [],
   "source": [
    "homo_eulerian_mean, homo_eulerian_std = get_statistics(homo_eulerian_scores)\n",
    "# homo_height_field_mean, homo_height_field_std = get_statistics(homo_height_field_scores)\n",
    "\n",
    "hetero_eulerian_mean, hetero_eulerian_std = get_statistics(hetero_eulerian_scores)\n",
    "# hetero_height_field_mean, hetero_height_field_std = get_statistics(hetero_height_field_scores)"
   ]
  },
  {
   "cell_type": "code",
   "execution_count": null,
   "id": "7d9fbfc8-64ae-4fdf-8335-8d77f0e657c6",
   "metadata": {},
   "outputs": [],
   "source": [
    "from matplotlib.ticker import (AutoMinorLocator, MultipleLocator)\n",
    "num_rows = 1\n",
    "num_cols = 1\n",
    "fig, ax = plt.subplots(num_rows, num_cols, figsize = get_fig_size(get_column_width(), ratio=(np.sqrt(5)-1)*0.5))\n",
    "\n",
    "ax.errorbar(eulerian_distinct_buoy_counts, hetero_eulerian_mean, yerr=hetero_eulerian_std, capsize=2, capthick=1, label=r'Trained with \\emph{Stars \\& trefoiloids} (Fig. 9b)')\n",
    "ax.errorbar(eulerian_distinct_buoy_counts, homo_eulerian_mean, yerr=homo_eulerian_std, capsize=2, capthick=1, label=r'Trained with \\emph{Diagonal oscillations} (Fig. 9a)')\n",
    "# ax.errorbar(height_field_distinct_buoy_counts, homo_height_field_mean, yerr=homo_height_field_std, capsize=2, capthick=1, label='Trained height field')\n",
    "# ax.errorbar(height_field_distinct_buoy_counts, hetero_height_field_mean, yerr=hetero_height_field_std, capsize=2, capthick=1, label='Validated height field')\n",
    "ax.set_xlabel('Number of buoys')\n",
    "ax.set_ylabel('Eulerian score')\n",
    "\n",
    "ax.set_xlim(0,100)\n",
    "ax.xaxis.set_major_locator(MultipleLocator(10))\n",
    "ax.xaxis.set_minor_locator(AutoMinorLocator(5))\n",
    "ax.grid(which='minor', color='#DDDDDD', linewidth=0.5)\n",
    "ax.legend()\n",
    "\n",
    "fig.tight_layout(pad=0.05) # should set tight_layout before add_axes()\n",
    "fig.savefig('buoy-count-score-correlation.pgf')"
   ]
  },
  {
   "cell_type": "code",
   "execution_count": null,
   "id": "3c7982f9-1de3-4b3d-926c-a7470eaa6fac",
   "metadata": {},
   "outputs": [],
   "source": []
  },
  {
   "cell_type": "code",
   "execution_count": null,
   "id": "d89a95f0-541a-4bdb-bdfa-b3d6e378c912",
   "metadata": {},
   "outputs": [],
   "source": []
  },
  {
   "cell_type": "code",
   "execution_count": null,
   "id": "8845453a-5ea1-46ca-b73d-2103d2956de3",
   "metadata": {},
   "outputs": [],
   "source": []
  },
  {
   "cell_type": "code",
   "execution_count": null,
   "id": "9119556f-7b04-4831-809a-6a5df2713c59",
   "metadata": {},
   "outputs": [],
   "source": []
  }
 ],
 "metadata": {
  "kernelspec": {
   "display_name": "Python 3 (ipykernel)",
   "language": "python",
   "name": "python3"
  },
  "language_info": {
   "codemirror_mode": {
    "name": "ipython",
    "version": 3
   },
   "file_extension": ".py",
   "mimetype": "text/x-python",
   "name": "python",
   "nbconvert_exporter": "python",
   "pygments_lexer": "ipython3",
   "version": "3.8.13"
  }
 },
 "nbformat": 4,
 "nbformat_minor": 5
}
