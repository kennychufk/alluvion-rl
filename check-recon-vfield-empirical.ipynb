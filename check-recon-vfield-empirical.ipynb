{
 "cells": [
  {
   "cell_type": "code",
   "execution_count": 1,
   "metadata": {},
   "outputs": [],
   "source": [
    "import numpy as np\n",
    "from numpy import linalg as LA\n",
    "from matplotlib import pyplot as plt\n",
    "from scipy import ndimage\n",
    "from util import Unit\n",
    "from util import populate_plt_settings, get_column_width, get_fig_size, get_latex_float\n",
    "\n",
    "from matplotlib import pyplot as plt\n",
    "import matplotlib"
   ]
  },
  {
   "cell_type": "code",
   "execution_count": 2,
   "metadata": {},
   "outputs": [],
   "source": [
    "def calculate_masked_mse(v1, v2, mask):\n",
    "    v_diff = v1 - v2\n",
    "    masked_se = np.sum(v_diff * v_diff, axis=1) * mask\n",
    "    num_masked = np.sum(mask)\n",
    "    return np.sum(masked_se)/num_masked if num_masked>0 else 0"
   ]
  },
  {
   "cell_type": "code",
   "execution_count": 3,
   "metadata": {},
   "outputs": [],
   "source": [
    "populate_plt_settings(plt)"
   ]
  },
  {
   "cell_type": "code",
   "execution_count": 17,
   "metadata": {},
   "outputs": [],
   "source": [
    "def analyze_recon(recon_dir, filter_size=250):\n",
    "    piv_dir = '/media/kennychufk/vol1bk0/'+recon_dir[6:recon_dir.find('2ssz4ihe')-1]\n",
    "    h_start_pos = recon_dir.find('9000')+5\n",
    "    real_h = recon_dir[h_start_pos:recon_dir.find('-',h_start_pos)]\n",
    "    mask_hyphen_start_pos = recon_dir.find('-at')\n",
    "    mask_postfix = ''\n",
    "    if (mask_hyphen_start_pos>0):\n",
    "        mask_start_pos = mask_hyphen_start_pos+3\n",
    "        mask_size = recon_dir[mask_start_pos:recon_dir.find('-', mask_start_pos)]\n",
    "        mask_postfix=f'-at{mask_size}'\n",
    "    f_start_pos = recon_dir.find('-f')+2\n",
    "    f_size = recon_dir[f_start_pos:f_start_pos+2]\n",
    "\n",
    "    vel_piv= np.load(f'recon-results-2ssz4ihe/{recon_dir}/piv/truth_v_real.npy')[..., [2, 1]]\n",
    "    vel_recon= np.load(f'recon-results-2ssz4ihe/{recon_dir}/piv/sim_v_real.npy')[..., [2, 1]]\n",
    "    sim_errors = np.load(f'recon-results-2ssz4ihe/{recon_dir}/piv/sim_errors.npy')\n",
    "\n",
    "    mask = np.load(f'{piv_dir}/mat_results/mask{mask_postfix}.npy').astype(bool)\n",
    "    piv_freq = 500.0\n",
    "\n",
    "    num_frames = len(vel_piv)\n",
    "    num_samples = vel_piv.shape[1]\n",
    "    vel_piv = vel_piv.reshape(num_frames, num_samples, 2)\n",
    "    np.nan_to_num(vel_piv, copy=False)\n",
    "    zero_vector = np.zeros_like(vel_piv[0])\n",
    "    vel_recon = vel_recon.reshape(num_frames, num_samples, 2)\n",
    "    mask = mask.reshape(num_frames, num_samples)\n",
    "\n",
    "    mse_sum = 0\n",
    "    v2_sum = 0\n",
    "    mse_list = np.zeros(num_frames)\n",
    "    v2_sim_list = np.zeros(num_frames)\n",
    "    v2_list = np.zeros(num_frames)\n",
    "\n",
    "    for frame_id in range(num_frames):\n",
    "        mse = calculate_masked_mse(vel_recon[frame_id], vel_piv[frame_id], mask[frame_id])\n",
    "        piv_v2 = calculate_masked_mse(zero_vector, vel_piv[frame_id], mask[frame_id])\n",
    "        sim_v2 = calculate_masked_mse(zero_vector, vel_recon[frame_id], mask[frame_id])\n",
    "\n",
    "        mse_sum += mse\n",
    "        v2_sum += piv_v2\n",
    "        mse_list[frame_id] = mse\n",
    "        v2_list[frame_id] = piv_v2\n",
    "        v2_sim_list[frame_id] = sim_v2\n",
    "    score = -mse_sum/v2_sum\n",
    "    print(real_h, f_size, mask_postfix, score, np.load(f'recon-results-2ssz4ihe/{recon_dir}/piv/score.npy'))\n",
    "\n",
    "    mse_filtered = ndimage.uniform_filter(mse_list, size=filter_size, mode='mirror')\n",
    "    v2_filtered = ndimage.uniform_filter(v2_list, size=filter_size, mode='mirror')\n",
    "    score_filtered = - mse_filtered/v2_filtered\n",
    "    v2_sim_filtered = ndimage.uniform_filter(v2_sim_list, size=filter_size, mode='mirror')\n",
    "    \n",
    "    return score, score_filtered, v2_filtered, v2_sim_filtered"
   ]
  },
  {
   "cell_type": "code",
   "execution_count": 5,
   "metadata": {},
   "outputs": [],
   "source": [
    "recon_dirs2 = [\"recon-20210415_162749-laser-too-high-wr518z6d-9000-0.0125-at0.0424264-f18-07c87905/\"\n",
    "        ,\"recon-20210416_101435-wr518z6d-9000-0.0125-at0.0424264-f18-7d4defe0/\"\n",
    "        ,\"recon-20210416_102548-wr518z6d-9000-0.0125-at0.0424264-f18-68439e53/\"\n",
    "        ,\"recon-20210416_103739-wr518z6d-9000-0.0125-at0.0424264-f18-a17bc755/\"\n",
    "        ,\"recon-20210416_104936-wr518z6d-9000-0.0125-at0.0424264-f18-4db9e783/\"\n",
    "        ,\"recon-20210416_120534-wr518z6d-9000-0.0125-at0.0424264-f18-4c6b7a6b/\"\n",
    "        ,\"recon-20210415_162749-laser-too-high-wr518z6d-9000-0.0125-at0.0424264-f16-95fce6d9/\"\n",
    "        ,\"recon-20210416_101435-wr518z6d-9000-0.0125-at0.0424264-f16-9ad9b5f4/\"\n",
    "        ,\"recon-20210416_102548-wr518z6d-9000-0.0125-at0.0424264-f16-e8e4fb33/\"\n",
    "        ,\"recon-20210416_103739-wr518z6d-9000-0.0125-at0.0424264-f16-32c98e5f/\"\n",
    "        ,\"recon-20210416_104936-wr518z6d-9000-0.0125-at0.0424264-f16-feeb2a0d/\"\n",
    "        ,\"recon-20210416_120534-wr518z6d-9000-0.0125-at0.0424264-f16-74003018/\"\n",
    "        ,\"recon-20210415_162749-laser-too-high-wr518z6d-9000-0.0125-at0.0424264-f14-ef9598c7/\"\n",
    "        ,\"recon-20210416_101435-wr518z6d-9000-0.0125-at0.0424264-f14-595e6a94/\"\n",
    "        ,\"recon-20210416_102548-wr518z6d-9000-0.0125-at0.0424264-f14-cc6a6476/\"\n",
    "        ,\"recon-20210416_103739-wr518z6d-9000-0.0125-at0.0424264-f14-63007bc3/\"\n",
    "        ,\"recon-20210416_104936-wr518z6d-9000-0.0125-at0.0424264-f14-1b0d07b3/\"\n",
    "        ,\"recon-20210416_120534-wr518z6d-9000-0.0125-at0.0424264-f14-60b67d6d/\"]"
   ]
  },
  {
   "cell_type": "code",
   "execution_count": null,
   "metadata": {},
   "outputs": [],
   "source": [
    "#0.0125, f18\n",
    "results = [analyze_recon(recon_dirs2[recon_dir_id]) for recon_dir_id in range(6)]"
   ]
  },
  {
   "cell_type": "code",
   "execution_count": null,
   "metadata": {},
   "outputs": [],
   "source": [
    "#0.0125, f16\n",
    "results = [analyze_recon(recon_dirs2[recon_dir_id]) for recon_dir_id in range(6, 12)]"
   ]
  },
  {
   "cell_type": "code",
   "execution_count": null,
   "metadata": {},
   "outputs": [],
   "source": [
    "#0.0125, f14\n",
    "results = [analyze_recon(recon_dirs2[recon_dir_id]) for recon_dir_id in range(12, 18)]"
   ]
  },
  {
   "cell_type": "code",
   "execution_count": 6,
   "metadata": {},
   "outputs": [],
   "source": [
    "recon_dirs3 = [\n",
    "    \"recon-20210415_162749-laser-too-high-wr518z6d-9000-0.011-at0.0424264-f18-9f540928/\",\n",
    "    \"recon-20210416_101435-wr518z6d-9000-0.011-at0.0424264-f18-ba6216bb/\",\n",
    "    \"recon-20210416_102548-wr518z6d-9000-0.011-at0.0424264-f18-9a02b02f/\",\n",
    "    \"recon-20210416_103739-wr518z6d-9000-0.011-at0.0424264-f18-6232963a/\",\n",
    "    \"recon-20210416_104936-wr518z6d-9000-0.011-at0.0424264-f18-8a0fc3b1/\",\n",
    "    \"recon-20210416_120534-wr518z6d-9000-0.011-at0.0424264-f18-f0584315/\",\n",
    "    \"recon-20210415_162749-laser-too-high-wr518z6d-9000-0.011-at0.0424264-f16-93333ea0/\",\n",
    "    \"recon-20210416_101435-wr518z6d-9000-0.011-at0.0424264-f16-125d6821/\",\n",
    "    \"recon-20210416_102548-wr518z6d-9000-0.011-at0.0424264-f16-c09b4524/\",\n",
    "    \"recon-20210416_103739-wr518z6d-9000-0.011-at0.0424264-f16-643545d9/\",\n",
    "    \"recon-20210416_104936-wr518z6d-9000-0.011-at0.0424264-f16-18218ef8/\",\n",
    "    \"recon-20210416_120534-wr518z6d-9000-0.011-at0.0424264-f16-35be825f/\",\n",
    "    \"recon-20210415_162749-laser-too-high-wr518z6d-9000-0.011-at0.0424264-f14-2ac13fc3/\",\n",
    "    \"recon-20210416_101435-wr518z6d-9000-0.011-at0.0424264-f14-da86a44c/\",\n",
    "    \"recon-20210416_102548-wr518z6d-9000-0.011-at0.0424264-f14-9c0a1d64/\",\n",
    "    \"recon-20210416_103739-wr518z6d-9000-0.011-at0.0424264-f14-210b2376/\",\n",
    "    \"recon-20210416_104936-wr518z6d-9000-0.011-at0.0424264-f14-3982f2ff/\",\n",
    "    \"recon-20210416_120534-wr518z6d-9000-0.011-at0.0424264-f14-7ba843d5/\"\n",
    "]"
   ]
  },
  {
   "cell_type": "code",
   "execution_count": 7,
   "metadata": {},
   "outputs": [
    {
     "name": "stdout",
     "output_type": "stream",
     "text": [
      "0.011 18 -at0.0424264 -0.8212301631055496 -0.8212280209455045\n",
      "0.011 18 -at0.0424264 -0.562673697425452 -0.5626735671933767\n",
      "0.011 18 -at0.0424264 -0.5976653938177908 -0.5976652327228227\n",
      "0.011 18 -at0.0424264 -0.5413444890987816 -0.5413443710596662\n",
      "0.011 18 -at0.0424264 -0.6026220890718802 -0.6026218706895791\n",
      "0.011 18 -at0.0424264 -0.5778245813416895 -0.5778206999605239\n"
     ]
    }
   ],
   "source": [
    "#0.011, f18\n",
    "results = [analyze_recon(recon_dirs3[recon_dir_id]) for recon_dir_id in range(6)]"
   ]
  },
  {
   "cell_type": "code",
   "execution_count": 8,
   "metadata": {},
   "outputs": [
    {
     "name": "stdout",
     "output_type": "stream",
     "text": [
      "0.011 16 -at0.0424264 -0.8380215937868001 -0.8380196524653485\n",
      "0.011 16 -at0.0424264 -0.575175067483337 -0.5751749410123458\n",
      "0.011 16 -at0.0424264 -0.6051407190704577 -0.605140562058442\n",
      "0.011 16 -at0.0424264 -0.5595466232193286 -0.5595465104197666\n",
      "0.011 16 -at0.0424264 -0.6207014586827069 -0.620701250254647\n",
      "0.011 16 -at0.0424264 -0.5592093176053575 -0.5592052630281077\n"
     ]
    }
   ],
   "source": [
    "#0.011, f16\n",
    "results = [analyze_recon(recon_dirs3[recon_dir_id]) for recon_dir_id in range(6, 12)]"
   ]
  },
  {
   "cell_type": "code",
   "execution_count": 9,
   "metadata": {},
   "outputs": [
    {
     "name": "stdout",
     "output_type": "stream",
     "text": [
      "0.011 14 -at0.0424264 -0.81849142289151 -0.818489248415466\n",
      "0.011 14 -at0.0424264 -0.5680654592622669 -0.5680653309723777\n",
      "0.011 14 -at0.0424264 -0.5760659824684843 -0.5760658134806771\n",
      "0.011 14 -at0.0424264 -0.5648621902096068 -0.5648620776964709\n",
      "0.011 14 -at0.0424264 -0.6307394261538022 -0.6307392234145781\n",
      "0.011 14 -at0.0424264 -0.5686964094005731 -0.568692443376544\n"
     ]
    }
   ],
   "source": [
    "#0.0125, f14\n",
    "results = [analyze_recon(recon_dirs3[recon_dir_id]) for recon_dir_id in range(12, 18)]"
   ]
  },
  {
   "cell_type": "code",
   "execution_count": 10,
   "metadata": {},
   "outputs": [
    {
     "name": "stdout",
     "output_type": "stream",
     "text": [
      "0.011 18 -at0.0424264 -0.5413444890987816 -0.5413443710596662\n"
     ]
    }
   ],
   "source": [
    "selected_diagonal_dir = \"recon-20210416_103739-wr518z6d-9000-0.011-at0.0424264-f18-6232963a/\"\n",
    "score, score_filtered, v2_filtered, v2_sim_filtered = analyze_recon(selected_diagonal_dir, filter_size=200)"
   ]
  },
  {
   "cell_type": "code",
   "execution_count": 11,
   "metadata": {},
   "outputs": [
    {
     "data": {
      "text/plain": [
       "[<matplotlib.axis.YTick at 0x7f0f0e19bf40>,\n",
       " <matplotlib.axis.YTick at 0x7f0f0e19bb20>,\n",
       " <matplotlib.axis.YTick at 0x7f0f061647c0>,\n",
       " <matplotlib.axis.YTick at 0x7f0f0617b2b0>,\n",
       " <matplotlib.axis.YTick at 0x7f0f0617b7c0>,\n",
       " <matplotlib.axis.YTick at 0x7f0f06157b80>,\n",
       " <matplotlib.axis.YTick at 0x7f0f0e18c970>,\n",
       " <matplotlib.axis.YTick at 0x7f0f84bcbf10>,\n",
       " <matplotlib.axis.YTick at 0x7f0f84bd3460>,\n",
       " <matplotlib.axis.YTick at 0x7f0f84bd3970>,\n",
       " <matplotlib.axis.YTick at 0x7f0f84bd3e80>]"
      ]
     },
     "execution_count": 11,
     "metadata": {},
     "output_type": "execute_result"
    },
    {
     "data": {
      "image/png": "[encoded data removed]",
      "text/plain": [
       "<Figure size 242.239x149.712 with 1 Axes>"
      ]
     },
     "metadata": {},
     "output_type": "display_data"
    }
   ],
   "source": [
    "num_rows = 1\n",
    "num_cols = 1\n",
    "matplotlib.rcParams['axes.unicode_minus'] = False\n",
    "fig, ax = plt.subplots(num_rows, num_cols, figsize = get_fig_size(get_column_width()))\n",
    "cmap = plt.get_cmap(\"tab10\")\n",
    "\n",
    "piv_freq = 500\n",
    "ts = np.arange(len(score_filtered)) / piv_freq\n",
    "ax.plot(ts, score_filtered)\n",
    "ax.set_xlabel(r'$t$ (s)')\n",
    "ax.set_ylim(-1, 0)\n",
    "ax.set_ylabel(r\"Time-averaged score\")\n",
    "ax.set_xlim(0, 20)\n",
    "\n",
    "fig.tight_layout(pad=0.05) # pad is 1.08 by default https://stackoverflow.com/a/59252633\n",
    "\n",
    "ax.axvspan(0.833, 4.85, color=cmap(1), alpha=0.5)\n",
    "ax.axvspan(5.083, 9.1, color=cmap(3), alpha=0.5)\n",
    "ax.annotate(\"Diagonal 1\", xy=(2.7, -0.1), xycoords=\"data\",\n",
    "                  va=\"center\", ha=\"center\",\n",
    "                  bbox=dict(boxstyle=\"square,pad=0.3\", fc=\"w\", ec=\"black\", lw=1.5, alpha=0.5))\n",
    "\n",
    "ax.annotate(\"Diagonal 2\", xy=(7.4, -0.1), xycoords=\"data\",\n",
    "                  va=\"center\", ha=\"center\",\n",
    "                  bbox=dict(boxstyle=\"square,pad=0.3\", fc=\"w\", ec=\"black\", lw=1.5, alpha=0.5))\n",
    "ax.xaxis.set_ticks(np.arange(0, 20.5, 1))\n",
    "ax.yaxis.set_ticks(np.arange(-1, 0.05, 0.1))\n",
    "# fig.savefig('linear-stir-two-diagonals-time-score.pgf', bbox_inches='tight') # bbox_inches='tight' necessary for keeping the time legend inside the canvas"
   ]
  },
  {
   "cell_type": "code",
   "execution_count": 20,
   "metadata": {},
   "outputs": [],
   "source": [
    "recon_dirs3 = [\n",
    "    \"recon-20210415_162749-laser-too-high-2ssz4ihe-27500-0.011-at0.0424264-f18-7ebedae3/\",\n",
    "    \"recon-20210416_101435-2ssz4ihe-27500-0.011-at0.0424264-f18-57fe5df4/\",\n",
    "    \"recon-20210416_102548-2ssz4ihe-27500-0.011-at0.0424264-f18-1a47e6c8/\",\n",
    "    \"recon-20210416_103739-2ssz4ihe-27500-0.011-at0.0424264-f18-12aa1f7f/\",\n",
    "    \"recon-20210416_104936-2ssz4ihe-27500-0.011-at0.0424264-f18-61ddf90c/\",\n",
    "    \"recon-20210416_114327-2ssz4ihe-27500-0.011-at0.0424264-f18-c13d74e4/\",\n",
    "    \"recon-20210416_115523-2ssz4ihe-27500-0.011-at0.0424264-f18-e0a9e0c3/\",\n",
    "    \"recon-20210416_120534-2ssz4ihe-27500-0.011-at0.0424264-f18-c712c120/\"\n",
    "]"
   ]
  },
  {
   "cell_type": "code",
   "execution_count": 21,
   "metadata": {},
   "outputs": [
    {
     "name": "stdout",
     "output_type": "stream",
     "text": [
      "n 18 -at0.0424264 -0.9289381914444567 -0.9289373380863873\n",
      "n 18 -at0.0424264 -0.880904912857465 -0.8809048770519432\n",
      "n 18 -at0.0424264 -0.7370856582037125 -0.7370855547037765\n",
      "n 18 -at0.0424264 -0.8503556556065452 -0.850355617943955\n",
      "n 18 -at0.0424264 -0.7761726038991398 -0.7761724810733109\n",
      "n 18 -at0.0424264 -0.951760814164328 -0.9517607732424864\n"
     ]
    }
   ],
   "source": [
    "#0.011, f18\n",
    "results = [analyze_recon(recon_dirs3[recon_dir_id]) for recon_dir_id in range(6)]"
   ]
  },
  {
   "cell_type": "code",
   "execution_count": 22,
   "metadata": {},
   "outputs": [
    {
     "name": "stdout",
     "output_type": "stream",
     "text": [
      "n 18 -at0.0424264 -0.8503556556065452 -0.850355617943955\n"
     ]
    }
   ],
   "source": [
    "selected_diagonal_dir = \"recon-20210416_103739-2ssz4ihe-27500-0.011-at0.0424264-f18-12aa1f7f/\"\n",
    "score, score_filtered, v2_filtered, v2_sim_filtered = analyze_recon(selected_diagonal_dir, filter_size=200)"
   ]
  },
  {
   "cell_type": "code",
   "execution_count": 23,
   "metadata": {},
   "outputs": [
    {
     "data": {
      "text/plain": [
       "[<matplotlib.axis.YTick at 0x7f0f84a479d0>,\n",
       " <matplotlib.axis.YTick at 0x7f0f84a475e0>,\n",
       " <matplotlib.axis.YTick at 0x7f0f84bcbfd0>,\n",
       " <matplotlib.axis.YTick at 0x7f0f849fc130>,\n",
       " <matplotlib.axis.YTick at 0x7f0f849fc640>,\n",
       " <matplotlib.axis.YTick at 0x7f0f849f45e0>,\n",
       " <matplotlib.axis.YTick at 0x7f0f84a58490>,\n",
       " <matplotlib.axis.YTick at 0x7f0f84a0e4c0>,\n",
       " <matplotlib.axis.YTick at 0x7f0f84a1b940>,\n",
       " <matplotlib.axis.YTick at 0x7f0f84a1bd00>,\n",
       " <matplotlib.axis.YTick at 0x7f0f84a22250>]"
      ]
     },
     "execution_count": 23,
     "metadata": {},
     "output_type": "execute_result"
    },
    {
     "data": {
      "image/png": "[encoded data removed]",
      "text/plain": [
       "<Figure size 242.239x149.712 with 1 Axes>"
      ]
     },
     "metadata": {},
     "output_type": "display_data"
    }
   ],
   "source": [
    "num_rows = 1\n",
    "num_cols = 1\n",
    "matplotlib.rcParams['axes.unicode_minus'] = False\n",
    "fig, ax = plt.subplots(num_rows, num_cols, figsize = get_fig_size(get_column_width()))\n",
    "cmap = plt.get_cmap(\"tab10\")\n",
    "\n",
    "piv_freq = 500\n",
    "ts = np.arange(len(score_filtered)) / piv_freq\n",
    "ax.plot(ts, score_filtered)\n",
    "ax.set_xlabel(r'$t$ (s)')\n",
    "ax.set_ylim(-1, 0)\n",
    "ax.set_ylabel(r\"Time-averaged score\")\n",
    "ax.set_xlim(0, 20)\n",
    "\n",
    "fig.tight_layout(pad=0.05) # pad is 1.08 by default https://stackoverflow.com/a/59252633\n",
    "\n",
    "ax.axvspan(0.833, 4.85, color=cmap(1), alpha=0.5)\n",
    "ax.axvspan(5.083, 9.1, color=cmap(3), alpha=0.5)\n",
    "ax.annotate(\"Diagonal 1\", xy=(2.7, -0.1), xycoords=\"data\",\n",
    "                  va=\"center\", ha=\"center\",\n",
    "                  bbox=dict(boxstyle=\"square,pad=0.3\", fc=\"w\", ec=\"black\", lw=1.5, alpha=0.5))\n",
    "\n",
    "ax.annotate(\"Diagonal 2\", xy=(7.4, -0.1), xycoords=\"data\",\n",
    "                  va=\"center\", ha=\"center\",\n",
    "                  bbox=dict(boxstyle=\"square,pad=0.3\", fc=\"w\", ec=\"black\", lw=1.5, alpha=0.5))\n",
    "ax.xaxis.set_ticks(np.arange(0, 20.5, 1))\n",
    "ax.yaxis.set_ticks(np.arange(-1, 0.05, 0.1))\n",
    "# fig.savefig('linear-stir-two-diagonals-time-score.pgf', bbox_inches='tight') # bbox_inches='tight' necessary for keeping the time legend inside the canvas"
   ]
  },
  {
   "cell_type": "code",
   "execution_count": null,
   "metadata": {},
   "outputs": [],
   "source": [
    "for item in np.where(score_filtered>-0.5)[0]:\n",
    "    print(item/piv_freq)"
   ]
  },
  {
   "cell_type": "code",
   "execution_count": null,
   "metadata": {},
   "outputs": [],
   "source": [
    "recon_dirs_hc=[\n",
    "    \"recon-20210416_114327-wr518z6d-9000-0.0125-at0.0424264-f18-9446a4d9/\",\n",
    "    \"recon-20210416_115523-wr518z6d-9000-0.0125-at0.0424264-f18-24459a25/\",\n",
    "    \"recon-20210416_114327-wr518z6d-9000-0.0125-at0.0424264-f16-657c6d28/\",\n",
    "    \"recon-20210416_115523-wr518z6d-9000-0.0125-at0.0424264-f16-78625131/\",\n",
    "    \"recon-20210416_114327-wr518z6d-9000-0.0125-at0.0424264-f14-5eacbfbf/\",\n",
    "    \"recon-20210416_115523-wr518z6d-9000-0.0125-at0.0424264-f14-8970e49b/\",\n",
    "               \n",
    "    \"recon-20210416_114327-wr518z6d-9000-0.011-at0.0424264-f18-9f09347e/\",\n",
    "    \"recon-20210416_115523-wr518z6d-9000-0.011-at0.0424264-f18-04ed9747/\",\n",
    "    \"recon-20210416_114327-wr518z6d-9000-0.011-at0.0424264-f16-bc5d5a07/\",\n",
    "    \"recon-20210416_115523-wr518z6d-9000-0.011-at0.0424264-f16-fa50c9b8/\",\n",
    "    \"recon-20210416_114327-wr518z6d-9000-0.011-at0.0424264-f14-a61cb31e/\",\n",
    "    \"recon-20210416_115523-wr518z6d-9000-0.011-at0.0424264-f14-a8993b93/\",\n",
    "]"
   ]
  },
  {
   "cell_type": "code",
   "execution_count": null,
   "metadata": {},
   "outputs": [],
   "source": [
    "# 0.0125 f18\n",
    "results = [analyze_recon(recon_dirs_hc[recon_dir_id]) for recon_dir_id in range(2)]"
   ]
  },
  {
   "cell_type": "code",
   "execution_count": null,
   "metadata": {},
   "outputs": [],
   "source": [
    "# 0.0125 f16\n",
    "results = [analyze_recon(recon_dirs_hc[recon_dir_id]) for recon_dir_id in range(2,4)]"
   ]
  },
  {
   "cell_type": "code",
   "execution_count": null,
   "metadata": {},
   "outputs": [],
   "source": [
    "# 0.0125 f14\n",
    "results = [analyze_recon(recon_dirs_hc[recon_dir_id]) for recon_dir_id in range(4,6)]"
   ]
  },
  {
   "cell_type": "code",
   "execution_count": null,
   "metadata": {},
   "outputs": [],
   "source": [
    "# 0.011 f18\n",
    "results = [analyze_recon(recon_dirs_hc[recon_dir_id]) for recon_dir_id in range(6,8)]"
   ]
  },
  {
   "cell_type": "code",
   "execution_count": null,
   "metadata": {},
   "outputs": [],
   "source": [
    "# 0.011 f16\n",
    "# selected !!!!\n",
    "results = [analyze_recon(recon_dirs_hc[recon_dir_id]) for recon_dir_id in range(8,10)]"
   ]
  },
  {
   "cell_type": "code",
   "execution_count": null,
   "metadata": {},
   "outputs": [],
   "source": [
    "# 0.011 f14\n",
    "results = [analyze_recon(recon_dirs_hc[recon_dir_id]) for recon_dir_id in range(10,12)]"
   ]
  },
  {
   "cell_type": "code",
   "execution_count": null,
   "metadata": {},
   "outputs": [],
   "source": [
    "selected_hc_dir = \"recon-20210416_114327-wr518z6d-9000-0.011-at0.0424264-f16-bc5d5a07/\""
   ]
  },
  {
   "cell_type": "code",
   "execution_count": null,
   "metadata": {},
   "outputs": [],
   "source": [
    "score, score_filtered, v2_filtered, v2_sim_filtered = analyze_recon(selected_hc_dir, filter_size=200)"
   ]
  },
  {
   "cell_type": "code",
   "execution_count": null,
   "metadata": {},
   "outputs": [],
   "source": [
    "num_rows = 1\n",
    "num_cols = 1\n",
    "matplotlib.rcParams['axes.unicode_minus'] = False\n",
    "fig, ax = plt.subplots(num_rows, num_cols, figsize = get_fig_size(get_column_width()))\n",
    "cmap = plt.get_cmap(\"tab10\")\n",
    "\n",
    "piv_freq = 500\n",
    "ts = np.arange(len(score_filtered)) / piv_freq\n",
    "ax.plot(ts, score_filtered)\n",
    "ax.set_xlabel(r'$t$ (s)')\n",
    "ax.set_ylim(-1, 0)\n",
    "ax.set_ylabel(r\"Time-averaged score\")\n",
    "ax.set_xlim(0, 14)\n",
    "\n",
    "fig.tight_layout(pad=0.05) # pad is 1.08 by default https://stackoverflow.com/a/59252633\n",
    "\n",
    "ax.axvspan(0.983, 6.78, color=cmap(1), alpha=0.5)\n",
    "ax.axvspan(7.15, 10.9, color=cmap(3), alpha=0.5)\n",
    "ax.annotate(\"Linear\", xy=(4.0, -0.1), xycoords=\"data\",\n",
    "                  va=\"center\", ha=\"center\",\n",
    "                  bbox=dict(boxstyle=\"square,pad=0.3\", fc=\"w\", ec=\"black\", lw=1.5, alpha=0.5))\n",
    "\n",
    "ax.annotate(\"Circular\", xy=(9.1, -0.1), xycoords=\"data\",\n",
    "                  va=\"center\", ha=\"center\",\n",
    "                  bbox=dict(boxstyle=\"square,pad=0.3\", fc=\"w\", ec=\"black\", lw=1.5, alpha=0.5))\n",
    "ax.xaxis.set_ticks(np.arange(0, 14.5, 1))\n",
    "ax.yaxis.set_ticks(np.arange(-1, 0.05, 0.1))\n",
    "fig.savefig('linear-circular-stir-time-score.pgf', bbox_inches='tight') # bbox_inches='tight' necessary for keeping the time legend inside the canvas"
   ]
  },
  {
   "cell_type": "code",
   "execution_count": null,
   "metadata": {},
   "outputs": [],
   "source": [
    "recon_dirs_fh = [\n",
    "    \"recon-20210416_154851-wr518z6d-9000-0.0125-f18-d77ff823/\",\n",
    "    \"recon-20210416_155948-wr518z6d-9000-0.0125-f18-493cd24d/\",\n",
    "    \"recon-20210416_161703-wr518z6d-9000-0.0125-f18-e19e3bb4/\",\n",
    "    \"recon-20210416_162740-wr518z6d-9000-0.0125-f18-a67d9e92/\",\n",
    "    \"recon-20210416_164544-slightly-wrong-focus-wr518z6d-9000-0.0125-f18-59111f15/\",\n",
    "    \"recon-20210416_165720-wr518z6d-9000-0.0125-f18-35f7b4d9/\",\n",
    "    \"recon-20210416_154851-wr518z6d-9000-0.0125-f16-a81acbbd/\",\n",
    "    \"recon-20210416_155948-wr518z6d-9000-0.0125-f16-b21c2f8e/\",\n",
    "    \"recon-20210416_161703-wr518z6d-9000-0.0125-f16-4c2974f8/\",\n",
    "    \"recon-20210416_162740-wr518z6d-9000-0.0125-f16-49595ac9/\",\n",
    "    \"recon-20210416_164544-slightly-wrong-focus-wr518z6d-9000-0.0125-f16-6cf92070/\",\n",
    "    \"recon-20210416_165720-wr518z6d-9000-0.0125-f16-a877a862/\",\n",
    "    \"recon-20210416_154851-wr518z6d-9000-0.0125-f20-517c9856/\",\n",
    "    \"recon-20210416_155948-wr518z6d-9000-0.0125-f20-5ee22730/\",\n",
    "    \"recon-20210416_161703-wr518z6d-9000-0.0125-f20-1a8de773/\",\n",
    "    \"recon-20210416_162740-wr518z6d-9000-0.0125-f20-7c8cac28/\",\n",
    "    \"recon-20210416_164544-slightly-wrong-focus-wr518z6d-9000-0.0125-f20-bd66190d/\",\n",
    "    \"recon-20210416_165720-wr518z6d-9000-0.0125-f20-7cf6f8af/\",\n",
    "    \"recon-20210416_154851-wr518z6d-9000-0.011-f18-f7a01e83/\",\n",
    "    \"recon-20210416_155948-wr518z6d-9000-0.011-f18-76929f1c/\",\n",
    "    \"recon-20210416_161703-wr518z6d-9000-0.011-f18-7b310271/\",\n",
    "    \"recon-20210416_162740-wr518z6d-9000-0.011-f18-df187dd4/\",\n",
    "    \"recon-20210416_164544-slightly-wrong-focus-wr518z6d-9000-0.011-f18-067e1e24/\",\n",
    "    \"recon-20210416_165720-wr518z6d-9000-0.011-f18-68bc28af/\",\n",
    "    \"recon-20210416_154851-wr518z6d-9000-0.011-f16-a5b08fe3/\",\n",
    "    \"recon-20210416_155948-wr518z6d-9000-0.011-f16-01968b89/\",\n",
    "    \"recon-20210416_161703-wr518z6d-9000-0.011-f16-b7e778e7/\",\n",
    "    \"recon-20210416_162740-wr518z6d-9000-0.011-f16-ba7d62be/\",\n",
    "    \"recon-20210416_164544-slightly-wrong-focus-wr518z6d-9000-0.011-f16-5ea384f3/\",\n",
    "    \"recon-20210416_165720-wr518z6d-9000-0.011-f16-4aed4e58/\",\n",
    "    \"recon-20210416_154851-wr518z6d-9000-0.011-f20-64795b54/\",\n",
    "    \"recon-20210416_155948-wr518z6d-9000-0.011-f20-d57d9186/\",\n",
    "    \"recon-20210416_161703-wr518z6d-9000-0.011-f20-3bba5270/\",\n",
    "    \"recon-20210416_162740-wr518z6d-9000-0.011-f20-4f37d8eb/\",\n",
    "    \"recon-20210416_164544-slightly-wrong-focus-wr518z6d-9000-0.011-f20-1566e454/\",\n",
    "    \"recon-20210416_165720-wr518z6d-9000-0.011-f20-4da9a6e0/\",\n",
    "]"
   ]
  },
  {
   "cell_type": "code",
   "execution_count": null,
   "metadata": {},
   "outputs": [],
   "source": [
    "# 0.0125, 18\n",
    "results = [analyze_recon(recon_dirs_fh[recon_dir_id]) for recon_dir_id in range(0, 6)]"
   ]
  },
  {
   "cell_type": "code",
   "execution_count": null,
   "metadata": {},
   "outputs": [],
   "source": [
    "# 0.0125, 16 !!\n",
    "results = [analyze_recon(recon_dirs_fh[recon_dir_id]) for recon_dir_id in range(6, 12)]"
   ]
  },
  {
   "cell_type": "code",
   "execution_count": null,
   "metadata": {},
   "outputs": [],
   "source": [
    "# 0.0125, 20\n",
    "results = [analyze_recon(recon_dirs_fh[recon_dir_id]) for recon_dir_id in range(12, 18)]"
   ]
  },
  {
   "cell_type": "code",
   "execution_count": null,
   "metadata": {},
   "outputs": [],
   "source": [
    "# 0.011, 18\n",
    "results = [analyze_recon(recon_dirs_fh[recon_dir_id]) for recon_dir_id in range(18, 24)]"
   ]
  },
  {
   "cell_type": "code",
   "execution_count": null,
   "metadata": {},
   "outputs": [],
   "source": [
    "# 0.011, 16 !!\n",
    "results = [analyze_recon(recon_dirs_fh[recon_dir_id]) for recon_dir_id in range(24, 30)]"
   ]
  },
  {
   "cell_type": "code",
   "execution_count": null,
   "metadata": {},
   "outputs": [],
   "source": [
    "# 0.011, 20\n",
    "results = [analyze_recon(recon_dirs_fh[recon_dir_id]) for recon_dir_id in range(30, 36)]"
   ]
  },
  {
   "cell_type": "code",
   "execution_count": null,
   "metadata": {},
   "outputs": [],
   "source": [
    "recon_dirs_os = [\n",
    "    \"recon-20210415_131750-wr518z6d-9000-0.011-f18-76e506c2/\",\n",
    "    \"recon-20210415_133012-wr518z6d-9000-0.011-f18-738cb619/\",\n",
    "    \"recon-20210415_142855-wr518z6d-9000-0.011-f18-cd41a13f/\",\n",
    "    \"recon-20210415_144021-wr518z6d-9000-0.011-f18-e485d3e0/\",\n",
    "    \"recon-20210415_145307-wr518z6d-9000-0.011-f18-c59b55ff/\",\n",
    "    \"recon-20210415_150358-wr518z6d-9000-0.011-f18-6675640b/\",\n",
    "    \"recon-20210415_151554-wr518z6d-9000-0.011-f18-65fb373e/\",\n",
    "    \"recon-20210415_152942-wr518z6d-9000-0.011-f18-482fd437/\",\n",
    "]"
   ]
  },
  {
   "cell_type": "code",
   "execution_count": null,
   "metadata": {},
   "outputs": [],
   "source": [
    "# 0.011, 20\n",
    "results = [analyze_recon(recon_dirs_os[recon_dir_id]) for recon_dir_id in range(2,8)]"
   ]
  },
  {
   "cell_type": "code",
   "execution_count": null,
   "metadata": {},
   "outputs": [],
   "source": [
    "selected_os_dir = \"recon-20210415_133012-wr518z6d-9000-0.011-f18-738cb619\"\n",
    "score, score_filtered, v2_filtered, v2_sim_filtered = analyze_recon(selected_os_dir, filter_size=200)"
   ]
  },
  {
   "cell_type": "code",
   "execution_count": null,
   "metadata": {},
   "outputs": [],
   "source": [
    "num_rows = 1\n",
    "num_cols = 1\n",
    "matplotlib.rcParams['axes.unicode_minus'] = False\n",
    "fig, ax = plt.subplots(num_rows, num_cols, figsize = get_fig_size(get_column_width()))\n",
    "cmap = plt.get_cmap(\"tab10\")\n",
    "\n",
    "piv_freq = 500\n",
    "ts = np.arange(len(score_filtered)) / piv_freq\n",
    "ax.plot(ts, score_filtered)\n",
    "ax.set_xlabel(r'$t$ (s)')\n",
    "ax.set_ylim(-1, 0)\n",
    "ax.set_ylabel(r\"Time-averaged score\")\n",
    "ax.set_xlim(0, 20)\n",
    "\n",
    "fig.tight_layout(pad=0.05) # pad is 1.08 by default https://stackoverflow.com/a/59252633\n",
    "\n",
    "ax.axvspan(0.6, 5.133, color=cmap(1), alpha=0.5)\n",
    "ax.annotate(\"Oscillating\", xy=(2.90, -0.1), xycoords=\"data\",\n",
    "                  va=\"center\", ha=\"center\",\n",
    "                  bbox=dict(boxstyle=\"square,pad=0.3\", fc=\"w\", ec=\"black\", lw=1.5, alpha=0.5))\n",
    "ax.xaxis.set_ticks(np.arange(0, 20.5, 1))\n",
    "ax.yaxis.set_ticks(np.arange(-1, 0.05, 0.1))\n",
    "fig.savefig('oscillating-container-time-score.pgf', bbox_inches='tight') # bbox_inches='tight' necessary for keeping the time legend inside the canvas"
   ]
  },
  {
   "cell_type": "code",
   "execution_count": null,
   "metadata": {},
   "outputs": [],
   "source": []
  }
 ],
 "metadata": {
  "kernelspec": {
   "display_name": "Python 3",
   "language": "python",
   "name": "python3"
  },
  "language_info": {
   "codemirror_mode": {
    "name": "ipython",
    "version": 3
   },
   "file_extension": ".py",
   "mimetype": "text/x-python",
   "name": "python",
   "nbconvert_exporter": "python",
   "pygments_lexer": "ipython3",
   "version": "3.8.5"
  }
 },
 "nbformat": 4,
 "nbformat_minor": 4
}
