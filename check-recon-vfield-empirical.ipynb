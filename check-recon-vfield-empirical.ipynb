{
 "cells": [
  {
   "cell_type": "code",
   "execution_count": null,
   "metadata": {},
   "outputs": [],
   "source": [
    "import numpy as np\n",
    "from numpy import linalg as LA\n",
    "from matplotlib import pyplot as plt\n",
    "from scipy import ndimage\n",
    "from util import Unit\n",
    "from util import populate_plt_settings, get_column_width, get_fig_size, get_latex_float\n",
    "\n",
    "from matplotlib import pyplot as plt\n",
    "import matplotlib"
   ]
  },
  {
   "cell_type": "code",
   "execution_count": null,
   "metadata": {},
   "outputs": [],
   "source": [
    "populate_plt_settings(plt)"
   ]
  },
  {
   "cell_type": "code",
   "execution_count": null,
   "metadata": {},
   "outputs": [],
   "source": [
    "def plot_diagonal(filter_size, error_history, baseline_history):\n",
    "    error_filtered = ndimage.uniform_filter(error_history,\n",
    "                                            size=filter_size,\n",
    "                                            mode='mirror')\n",
    "    baseline_filtered = ndimage.uniform_filter(baseline_history,\n",
    "                                               size=filter_size,\n",
    "                                               mode='mirror')\n",
    "    score_filtered = 1 - error_filtered / baseline_filtered\n",
    "    \n",
    "    num_rows = 1\n",
    "    num_cols = 1\n",
    "    matplotlib.rcParams['axes.unicode_minus'] = False\n",
    "    fig, ax = plt.subplots(num_rows, num_cols, figsize = get_fig_size(get_column_width()))\n",
    "    cmap = plt.get_cmap(\"tab10\")\n",
    "\n",
    "    piv_freq = 500\n",
    "    ts = np.arange(len(score_filtered)) / piv_freq\n",
    "    ax.plot(ts, score_filtered)\n",
    "    ax.set_xlabel(r'$t$ (s)')\n",
    "    ax.set_ylim(0, 1)\n",
    "    ax.set_ylabel(r\"2D Eulerian score\")\n",
    "    ax.set_xlim(0, 20)\n",
    "\n",
    "    fig.tight_layout(pad=0.05) # pad is 1.08 by default https://stackoverflow.com/a/59252633\n",
    "\n",
    "    ax.axvspan(0.833, 4.85, color=cmap(1), alpha=0.5)\n",
    "    ax.axvspan(5.083, 9.1, color=cmap(3), alpha=0.5)\n",
    "    ax.annotate(\"Diagonal 1\", xy=(2.7, 0.9), xycoords=\"data\",\n",
    "                      va=\"center\", ha=\"center\",\n",
    "                      bbox=dict(boxstyle=\"square,pad=0.3\", fc=\"w\", ec=\"black\", lw=1.5, alpha=0.5))\n",
    "\n",
    "    ax.annotate(\"Diagonal 2\", xy=(7.4, 0.9), xycoords=\"data\",\n",
    "                      va=\"center\", ha=\"center\",\n",
    "                      bbox=dict(boxstyle=\"square,pad=0.3\", fc=\"w\", ec=\"black\", lw=1.5, alpha=0.5))\n",
    "    \n",
    "    epsilon = 0.01\n",
    "    ax.xaxis.set_ticks(np.arange(0, 20 + epsilon, 1))\n",
    "    ax.yaxis.set_ticks(np.arange(0, 1 + epsilon, 0.1))\n",
    "    fig.savefig('linear-stir-two-diagonals-time-score.pgf', bbox_inches='tight') # bbox_inches='tight' necessary for keeping the time legend inside the canvas"
   ]
  },
  {
   "cell_type": "code",
   "execution_count": null,
   "metadata": {},
   "outputs": [],
   "source": [
    "metric = 'eulerian_masked'\n",
    "recon_dir = '/home/kennychufk/workspace/pythonWs/alluvion-optim/val-0416_103739-2v7m4muc-2600-16813553'\n",
    "error_history = np.load(f'{recon_dir}/{metric}_error.npy')\n",
    "baseline_history = np.load(f'{recon_dir}/{metric}_baseline.npy')\n",
    "num_samples_history = np.load(f'{recon_dir}/{metric}_num_samples.npy')\n",
    "\n",
    "filter_size = 200\n",
    "plot_diagonal(filter_size, error_history, baseline_history)"
   ]
  },
  {
   "cell_type": "code",
   "execution_count": null,
   "metadata": {},
   "outputs": [],
   "source": [
    "def plot_linear_circular(filter_size, error_history, baseline_history):\n",
    "    error_filtered = ndimage.uniform_filter(error_history,\n",
    "                                            size=filter_size,\n",
    "                                            mode='mirror')\n",
    "    baseline_filtered = ndimage.uniform_filter(baseline_history,\n",
    "                                               size=filter_size,\n",
    "                                               mode='mirror')\n",
    "    score_filtered = 1 - error_filtered / baseline_filtered\n",
    "    \n",
    "    num_rows = 1\n",
    "    num_cols = 1\n",
    "    matplotlib.rcParams['axes.unicode_minus'] = False\n",
    "    fig, ax = plt.subplots(num_rows, num_cols, figsize = get_fig_size(get_column_width()))\n",
    "    cmap = plt.get_cmap(\"tab10\")\n",
    "\n",
    "    piv_freq = 500\n",
    "    ts = np.arange(len(score_filtered)) / piv_freq\n",
    "    ax.plot(ts, score_filtered)\n",
    "    ax.set_xlabel(r'$t$ (s)')\n",
    "    ax.set_ylim(0, 1)\n",
    "    ax.set_ylabel(r\"2D Eulerian score\")\n",
    "    ax.set_xlim(0, 14)\n",
    "\n",
    "    fig.tight_layout(pad=0.05) # pad is 1.08 by default https://stackoverflow.com/a/59252633\n",
    "\n",
    "    ax.axvspan(0.983, 6.78, color=cmap(1), alpha=0.5)\n",
    "    ax.axvspan(7.15, 10.9, color=cmap(3), alpha=0.5)\n",
    "    ax.annotate(\"Linear\", xy=(4.0, 0.9), xycoords=\"data\",\n",
    "                      va=\"center\", ha=\"center\",\n",
    "                      bbox=dict(boxstyle=\"square,pad=0.3\", fc=\"w\", ec=\"black\", lw=1.5, alpha=0.5))\n",
    "\n",
    "    ax.annotate(\"Circular\", xy=(9.1, 0.9), xycoords=\"data\",\n",
    "                      va=\"center\", ha=\"center\",\n",
    "                      bbox=dict(boxstyle=\"square,pad=0.3\", fc=\"w\", ec=\"black\", lw=1.5, alpha=0.5))\n",
    "    epsilon = 0.01\n",
    "    ax.xaxis.set_ticks(np.arange(0, 20 + epsilon, 1))\n",
    "    ax.yaxis.set_ticks(np.arange(0, 1 + epsilon, 0.1))\n",
    "    fig.savefig('linear-circular-stir-time-score.pgf', bbox_inches='tight') # bbox_inches='tight' necessary for keeping the time legend inside the canvas"
   ]
  },
  {
   "cell_type": "code",
   "execution_count": null,
   "metadata": {},
   "outputs": [],
   "source": [
    "metric = 'eulerian_masked'\n",
    "recon_dir = '/home/kennychufk/workspace/pythonWs/alluvion-optim/val-0416_114327-2v7m4muc-2600-16813553'\n",
    "error_history = np.load(f'{recon_dir}/{metric}_error.npy')\n",
    "baseline_history = np.load(f'{recon_dir}/{metric}_baseline.npy')\n",
    "num_samples_history = np.load(f'{recon_dir}/{metric}_num_samples.npy')\n",
    "\n",
    "filter_size = 200\n",
    "plot_linear_circular(filter_size, error_history, baseline_history)"
   ]
  },
  {
   "cell_type": "code",
   "execution_count": null,
   "metadata": {},
   "outputs": [],
   "source": []
  }
 ],
 "metadata": {
  "kernelspec": {
   "display_name": "Python 3 (ipykernel)",
   "language": "python",
   "name": "python3"
  },
  "language_info": {
   "codemirror_mode": {
    "name": "ipython",
    "version": 3
   },
   "file_extension": ".py",
   "mimetype": "text/x-python",
   "name": "python",
   "nbconvert_exporter": "python",
   "pygments_lexer": "ipython3",
   "version": "3.8.13"
  }
 },
 "nbformat": 4,
 "nbformat_minor": 4
}
