{
 "cells": [
  {
   "cell_type": "code",
   "execution_count": null,
   "metadata": {},
   "outputs": [],
   "source": [
    "import numpy as np\n",
    "from numpy import linalg as LA\n",
    "from matplotlib import pyplot as plt\n",
    "from scipy import ndimage\n",
    "from util import Unit\n",
    "from util import populate_plt_settings, get_column_width, get_fig_size, get_latex_float\n",
    "\n",
    "from matplotlib import pyplot as plt\n",
    "import matplotlib"
   ]
  },
  {
   "cell_type": "code",
   "execution_count": null,
   "metadata": {},
   "outputs": [],
   "source": [
    "def calculate_masked_mse(v1, v2, mask):\n",
    "    v_diff = v1 - v2\n",
    "    masked_se = np.sum(v_diff * v_diff, axis=1) * mask\n",
    "    num_masked = np.sum(mask)\n",
    "    return np.sum(masked_se)/num_masked if num_masked>0 else 0"
   ]
  },
  {
   "cell_type": "code",
   "execution_count": null,
   "metadata": {},
   "outputs": [],
   "source": [
    "populate_plt_settings(plt)"
   ]
  },
  {
   "cell_type": "code",
   "execution_count": null,
   "metadata": {},
   "outputs": [],
   "source": [
    "def analyze_recon(recon_dir, filter_size=250):\n",
    "    piv_dir = '/media/kennychufk/vol1bk0/'+recon_dir[6:recon_dir.find('wr518z6d')-1]\n",
    "    h_start_pos = recon_dir.find('9000')+5\n",
    "    real_h = recon_dir[h_start_pos:recon_dir.find('-',h_start_pos)]\n",
    "    mask_hyphen_start_pos = recon_dir.find('-at')\n",
    "    mask_postfix = ''\n",
    "    if (mask_hyphen_start_pos>0):\n",
    "        mask_start_pos = mask_hyphen_start_pos+3\n",
    "        mask_size = recon_dir[mask_start_pos:recon_dir.find('-', mask_start_pos)]\n",
    "        mask_postfix=f'-at{mask_size}'\n",
    "    f_start_pos = recon_dir.find('-f')+2\n",
    "    f_size = recon_dir[f_start_pos:f_start_pos+2]\n",
    "\n",
    "    vel_piv= np.load(f'recon-results/{recon_dir}/piv/truth_v_real.npy')[..., [2, 1]]\n",
    "    vel_recon= np.load(f'recon-results/{recon_dir}/piv/sim_v_real.npy')[..., [2, 1]]\n",
    "    sim_errors = np.load(f'recon-results/{recon_dir}/piv/sim_errors.npy')\n",
    "\n",
    "    mask = np.load(f'{piv_dir}/mat_results/mask{mask_postfix}.npy').astype(bool)\n",
    "    piv_freq = 500.0\n",
    "\n",
    "    num_frames = len(vel_piv)\n",
    "    num_samples = vel_piv.shape[1]\n",
    "    vel_piv = vel_piv.reshape(num_frames, num_samples, 2)\n",
    "    np.nan_to_num(vel_piv, copy=False)\n",
    "    zero_vector = np.zeros_like(vel_piv[0])\n",
    "    vel_recon = vel_recon.reshape(num_frames, num_samples, 2)\n",
    "    mask = mask.reshape(num_frames, num_samples)\n",
    "\n",
    "    mse_sum = 0\n",
    "    v2_sum = 0\n",
    "    mse_list = np.zeros(num_frames)\n",
    "    v2_sim_list = np.zeros(num_frames)\n",
    "    v2_list = np.zeros(num_frames)\n",
    "\n",
    "    for frame_id in range(num_frames):\n",
    "        mse = calculate_masked_mse(vel_recon[frame_id], vel_piv[frame_id], mask[frame_id])\n",
    "        piv_v2 = calculate_masked_mse(zero_vector, vel_piv[frame_id], mask[frame_id])\n",
    "        sim_v2 = calculate_masked_mse(zero_vector, vel_recon[frame_id], mask[frame_id])\n",
    "\n",
    "        mse_sum += mse\n",
    "        v2_sum += piv_v2\n",
    "        mse_list[frame_id] = mse\n",
    "        v2_list[frame_id] = piv_v2\n",
    "        v2_sim_list[frame_id] = sim_v2\n",
    "    score = -mse_sum/v2_sum\n",
    "    print(real_h, f_size, mask_postfix, score, np.load(f'recon-results/{recon_dir}/piv/score.npy'))\n",
    "\n",
    "    mse_filtered = ndimage.uniform_filter(mse_list, size=filter_size, mode='mirror')\n",
    "    v2_filtered = ndimage.uniform_filter(v2_list, size=filter_size, mode='mirror')\n",
    "    score_filtered = - mse_filtered/v2_filtered\n",
    "    v2_sim_filtered = ndimage.uniform_filter(v2_sim_list, size=filter_size, mode='mirror')\n",
    "    \n",
    "    return score, score_filtered, v2_filtered, v2_sim_filtered"
   ]
  },
  {
   "cell_type": "code",
   "execution_count": null,
   "metadata": {},
   "outputs": [],
   "source": [
    "recon_dirs2 = [\"recon-20210415_162749-laser-too-high-wr518z6d-9000-0.0125-at0.0424264-f18-07c87905/\"\n",
    "        ,\"recon-20210416_101435-wr518z6d-9000-0.0125-at0.0424264-f18-7d4defe0/\"\n",
    "        ,\"recon-20210416_102548-wr518z6d-9000-0.0125-at0.0424264-f18-68439e53/\"\n",
    "        ,\"recon-20210416_103739-wr518z6d-9000-0.0125-at0.0424264-f18-a17bc755/\"\n",
    "        ,\"recon-20210416_104936-wr518z6d-9000-0.0125-at0.0424264-f18-4db9e783/\"\n",
    "        ,\"recon-20210416_120534-wr518z6d-9000-0.0125-at0.0424264-f18-4c6b7a6b/\"\n",
    "        ,\"recon-20210415_162749-laser-too-high-wr518z6d-9000-0.0125-at0.0424264-f16-95fce6d9/\"\n",
    "        ,\"recon-20210416_101435-wr518z6d-9000-0.0125-at0.0424264-f16-9ad9b5f4/\"\n",
    "        ,\"recon-20210416_102548-wr518z6d-9000-0.0125-at0.0424264-f16-e8e4fb33/\"\n",
    "        ,\"recon-20210416_103739-wr518z6d-9000-0.0125-at0.0424264-f16-32c98e5f/\"\n",
    "        ,\"recon-20210416_104936-wr518z6d-9000-0.0125-at0.0424264-f16-feeb2a0d/\"\n",
    "        ,\"recon-20210416_120534-wr518z6d-9000-0.0125-at0.0424264-f16-74003018/\"\n",
    "        ,\"recon-20210415_162749-laser-too-high-wr518z6d-9000-0.0125-at0.0424264-f14-ef9598c7/\"\n",
    "        ,\"recon-20210416_101435-wr518z6d-9000-0.0125-at0.0424264-f14-595e6a94/\"\n",
    "        ,\"recon-20210416_102548-wr518z6d-9000-0.0125-at0.0424264-f14-cc6a6476/\"\n",
    "        ,\"recon-20210416_103739-wr518z6d-9000-0.0125-at0.0424264-f14-63007bc3/\"\n",
    "        ,\"recon-20210416_104936-wr518z6d-9000-0.0125-at0.0424264-f14-1b0d07b3/\"\n",
    "        ,\"recon-20210416_120534-wr518z6d-9000-0.0125-at0.0424264-f14-60b67d6d/\"]"
   ]
  },
  {
   "cell_type": "code",
   "execution_count": null,
   "metadata": {},
   "outputs": [],
   "source": [
    "#0.0125, f18\n",
    "results = [analyze_recon(recon_dirs2[recon_dir_id]) for recon_dir_id in range(6)]"
   ]
  },
  {
   "cell_type": "code",
   "execution_count": null,
   "metadata": {},
   "outputs": [],
   "source": [
    "#0.0125, f16\n",
    "results = [analyze_recon(recon_dirs2[recon_dir_id]) for recon_dir_id in range(6, 12)]"
   ]
  },
  {
   "cell_type": "code",
   "execution_count": null,
   "metadata": {},
   "outputs": [],
   "source": [
    "#0.0125, f14\n",
    "results = [analyze_recon(recon_dirs2[recon_dir_id]) for recon_dir_id in range(12, 18)]"
   ]
  },
  {
   "cell_type": "code",
   "execution_count": null,
   "metadata": {},
   "outputs": [],
   "source": [
    "recon_dirs3 = [\n",
    "    \"recon-20210415_162749-laser-too-high-wr518z6d-9000-0.011-at0.0424264-f18-9f540928/\",\n",
    "    \"recon-20210416_101435-wr518z6d-9000-0.011-at0.0424264-f18-ba6216bb/\",\n",
    "    \"recon-20210416_102548-wr518z6d-9000-0.011-at0.0424264-f18-9a02b02f/\",\n",
    "    \"recon-20210416_103739-wr518z6d-9000-0.011-at0.0424264-f18-6232963a/\",\n",
    "    \"recon-20210416_104936-wr518z6d-9000-0.011-at0.0424264-f18-8a0fc3b1/\",\n",
    "    \"recon-20210416_120534-wr518z6d-9000-0.011-at0.0424264-f18-f0584315/\",\n",
    "    \"recon-20210415_162749-laser-too-high-wr518z6d-9000-0.011-at0.0424264-f16-93333ea0/\",\n",
    "    \"recon-20210416_101435-wr518z6d-9000-0.011-at0.0424264-f16-125d6821/\",\n",
    "    \"recon-20210416_102548-wr518z6d-9000-0.011-at0.0424264-f16-c09b4524/\",\n",
    "    \"recon-20210416_103739-wr518z6d-9000-0.011-at0.0424264-f16-643545d9/\",\n",
    "    \"recon-20210416_104936-wr518z6d-9000-0.011-at0.0424264-f16-18218ef8/\",\n",
    "    \"recon-20210416_120534-wr518z6d-9000-0.011-at0.0424264-f16-35be825f/\",\n",
    "    \"recon-20210415_162749-laser-too-high-wr518z6d-9000-0.011-at0.0424264-f14-2ac13fc3/\",\n",
    "    \"recon-20210416_101435-wr518z6d-9000-0.011-at0.0424264-f14-da86a44c/\",\n",
    "    \"recon-20210416_102548-wr518z6d-9000-0.011-at0.0424264-f14-9c0a1d64/\",\n",
    "    \"recon-20210416_103739-wr518z6d-9000-0.011-at0.0424264-f14-210b2376/\",\n",
    "    \"recon-20210416_104936-wr518z6d-9000-0.011-at0.0424264-f14-3982f2ff/\",\n",
    "    \"recon-20210416_120534-wr518z6d-9000-0.011-at0.0424264-f14-7ba843d5/\"\n",
    "]"
   ]
  },
  {
   "cell_type": "code",
   "execution_count": null,
   "metadata": {},
   "outputs": [],
   "source": [
    "#0.011, f18\n",
    "results = [analyze_recon(recon_dirs3[recon_dir_id]) for recon_dir_id in range(6)]"
   ]
  },
  {
   "cell_type": "code",
   "execution_count": null,
   "metadata": {},
   "outputs": [],
   "source": [
    "#0.011, f16\n",
    "results = [analyze_recon(recon_dirs3[recon_dir_id]) for recon_dir_id in range(6, 12)]"
   ]
  },
  {
   "cell_type": "code",
   "execution_count": null,
   "metadata": {},
   "outputs": [],
   "source": [
    "#0.0125, f14\n",
    "results = [analyze_recon(recon_dirs3[recon_dir_id]) for recon_dir_id in range(12, 18)]"
   ]
  },
  {
   "cell_type": "code",
   "execution_count": null,
   "metadata": {},
   "outputs": [],
   "source": [
    "selected_diagonal_dir = \"recon-20210416_103739-wr518z6d-9000-0.011-at0.0424264-f18-6232963a/\"\n",
    "score, score_filtered, v2_filtered, v2_sim_filtered = analyze_recon(selected_diagonal_dir, filter_size=200)"
   ]
  },
  {
   "cell_type": "code",
   "execution_count": null,
   "metadata": {},
   "outputs": [],
   "source": [
    "num_rows = 1\n",
    "num_cols = 1\n",
    "matplotlib.rcParams['axes.unicode_minus'] = False\n",
    "fig, ax = plt.subplots(num_rows, num_cols, figsize = get_fig_size(get_column_width()))\n",
    "cmap = plt.get_cmap(\"tab10\")\n",
    "\n",
    "piv_freq = 500\n",
    "ts = np.arange(len(score_filtered)) / piv_freq\n",
    "ax.plot(ts, score_filtered)\n",
    "ax.set_xlabel(r'$t$ (s)')\n",
    "ax.set_ylim(-1, 0)\n",
    "ax.set_ylabel(r\"Time-averaged score\")\n",
    "ax.set_xlim(0, 20)\n",
    "\n",
    "fig.tight_layout(pad=0.05) # pad is 1.08 by default https://stackoverflow.com/a/59252633\n",
    "\n",
    "ax.axvspan(0.833, 4.85, color=cmap(1), alpha=0.5)\n",
    "ax.axvspan(5.083, 9.1, color=cmap(3), alpha=0.5)\n",
    "ax.annotate(\"Diagonal 1\", xy=(2.7, -0.1), xycoords=\"data\",\n",
    "                  va=\"center\", ha=\"center\",\n",
    "                  bbox=dict(boxstyle=\"square,pad=0.3\", fc=\"w\", ec=\"black\", lw=1.5, alpha=0.5))\n",
    "\n",
    "ax.annotate(\"Diagonal 2\", xy=(7.4, -0.1), xycoords=\"data\",\n",
    "                  va=\"center\", ha=\"center\",\n",
    "                  bbox=dict(boxstyle=\"square,pad=0.3\", fc=\"w\", ec=\"black\", lw=1.5, alpha=0.5))\n",
    "ax.xaxis.set_ticks(np.arange(0, 20.5, 1))\n",
    "ax.yaxis.set_ticks(np.arange(-1, 0.05, 0.1))\n",
    "fig.savefig('linear-stir-two-diagonals-time-score.pgf', bbox_inches='tight') # bbox_inches='tight' necessary for keeping the time legend inside the canvas"
   ]
  },
  {
   "cell_type": "code",
   "execution_count": null,
   "metadata": {},
   "outputs": [],
   "source": [
    "for item in np.where(score_filtered>-0.5)[0]:\n",
    "    print(item/piv_freq)"
   ]
  },
  {
   "cell_type": "code",
   "execution_count": null,
   "metadata": {},
   "outputs": [],
   "source": [
    "recon_dirs_hc=[\n",
    "    \"recon-20210416_114327-wr518z6d-9000-0.0125-at0.0424264-f18-9446a4d9/\",\n",
    "    \"recon-20210416_115523-wr518z6d-9000-0.0125-at0.0424264-f18-24459a25/\",\n",
    "    \"recon-20210416_114327-wr518z6d-9000-0.0125-at0.0424264-f16-657c6d28/\",\n",
    "    \"recon-20210416_115523-wr518z6d-9000-0.0125-at0.0424264-f16-78625131/\",\n",
    "    \"recon-20210416_114327-wr518z6d-9000-0.0125-at0.0424264-f14-5eacbfbf/\",\n",
    "    \"recon-20210416_115523-wr518z6d-9000-0.0125-at0.0424264-f14-8970e49b/\",\n",
    "               \n",
    "    \"recon-20210416_114327-wr518z6d-9000-0.011-at0.0424264-f18-9f09347e/\",\n",
    "    \"recon-20210416_115523-wr518z6d-9000-0.011-at0.0424264-f18-04ed9747/\",\n",
    "    \"recon-20210416_114327-wr518z6d-9000-0.011-at0.0424264-f16-bc5d5a07/\",\n",
    "    \"recon-20210416_115523-wr518z6d-9000-0.011-at0.0424264-f16-fa50c9b8/\",\n",
    "    \"recon-20210416_114327-wr518z6d-9000-0.011-at0.0424264-f14-a61cb31e/\",\n",
    "    \"recon-20210416_115523-wr518z6d-9000-0.011-at0.0424264-f14-a8993b93/\",\n",
    "]"
   ]
  },
  {
   "cell_type": "code",
   "execution_count": null,
   "metadata": {},
   "outputs": [],
   "source": [
    "# 0.0125 f18\n",
    "results = [analyze_recon(recon_dirs_hc[recon_dir_id]) for recon_dir_id in range(2)]"
   ]
  },
  {
   "cell_type": "code",
   "execution_count": null,
   "metadata": {},
   "outputs": [],
   "source": [
    "# 0.0125 f16\n",
    "results = [analyze_recon(recon_dirs_hc[recon_dir_id]) for recon_dir_id in range(2,4)]"
   ]
  },
  {
   "cell_type": "code",
   "execution_count": null,
   "metadata": {},
   "outputs": [],
   "source": [
    "# 0.0125 f14\n",
    "results = [analyze_recon(recon_dirs_hc[recon_dir_id]) for recon_dir_id in range(4,6)]"
   ]
  },
  {
   "cell_type": "code",
   "execution_count": null,
   "metadata": {},
   "outputs": [],
   "source": [
    "# 0.011 f18\n",
    "results = [analyze_recon(recon_dirs_hc[recon_dir_id]) for recon_dir_id in range(6,8)]"
   ]
  },
  {
   "cell_type": "code",
   "execution_count": null,
   "metadata": {},
   "outputs": [],
   "source": [
    "# 0.011 f16\n",
    "# selected !!!!\n",
    "results = [analyze_recon(recon_dirs_hc[recon_dir_id]) for recon_dir_id in range(8,10)]"
   ]
  },
  {
   "cell_type": "code",
   "execution_count": null,
   "metadata": {},
   "outputs": [],
   "source": [
    "# 0.011 f14\n",
    "results = [analyze_recon(recon_dirs_hc[recon_dir_id]) for recon_dir_id in range(10,12)]"
   ]
  },
  {
   "cell_type": "code",
   "execution_count": null,
   "metadata": {},
   "outputs": [],
   "source": [
    "selected_hc_dir = \"recon-20210416_114327-wr518z6d-9000-0.011-at0.0424264-f16-bc5d5a07/\""
   ]
  },
  {
   "cell_type": "code",
   "execution_count": null,
   "metadata": {},
   "outputs": [],
   "source": [
    "score, score_filtered, v2_filtered, v2_sim_filtered = analyze_recon(selected_hc_dir, filter_size=200)"
   ]
  },
  {
   "cell_type": "code",
   "execution_count": null,
   "metadata": {},
   "outputs": [],
   "source": [
    "num_rows = 1\n",
    "num_cols = 1\n",
    "matplotlib.rcParams['axes.unicode_minus'] = False\n",
    "fig, ax = plt.subplots(num_rows, num_cols, figsize = get_fig_size(get_column_width()))\n",
    "cmap = plt.get_cmap(\"tab10\")\n",
    "\n",
    "piv_freq = 500\n",
    "ts = np.arange(len(score_filtered)) / piv_freq\n",
    "ax.plot(ts, score_filtered)\n",
    "ax.set_xlabel(r'$t$ (s)')\n",
    "ax.set_ylim(-1, 0)\n",
    "ax.set_ylabel(r\"Time-averaged score\")\n",
    "ax.set_xlim(0, 14)\n",
    "\n",
    "fig.tight_layout(pad=0.05) # pad is 1.08 by default https://stackoverflow.com/a/59252633\n",
    "\n",
    "ax.axvspan(0.983, 6.78, color=cmap(1), alpha=0.5)\n",
    "ax.axvspan(7.15, 10.9, color=cmap(3), alpha=0.5)\n",
    "ax.annotate(\"Linear\", xy=(4.0, -0.1), xycoords=\"data\",\n",
    "                  va=\"center\", ha=\"center\",\n",
    "                  bbox=dict(boxstyle=\"square,pad=0.3\", fc=\"w\", ec=\"black\", lw=1.5, alpha=0.5))\n",
    "\n",
    "ax.annotate(\"Circular\", xy=(9.1, -0.1), xycoords=\"data\",\n",
    "                  va=\"center\", ha=\"center\",\n",
    "                  bbox=dict(boxstyle=\"square,pad=0.3\", fc=\"w\", ec=\"black\", lw=1.5, alpha=0.5))\n",
    "ax.xaxis.set_ticks(np.arange(0, 14.5, 1))\n",
    "ax.yaxis.set_ticks(np.arange(-1, 0.05, 0.1))\n",
    "fig.savefig('linear-circular-stir-time-score.pgf', bbox_inches='tight') # bbox_inches='tight' necessary for keeping the time legend inside the canvas"
   ]
  },
  {
   "cell_type": "code",
   "execution_count": null,
   "metadata": {},
   "outputs": [],
   "source": [
    "recon_dirs_fh = [\n",
    "    \"recon-20210416_154851-wr518z6d-9000-0.0125-f18-d77ff823/\",\n",
    "    \"recon-20210416_155948-wr518z6d-9000-0.0125-f18-493cd24d/\",\n",
    "    \"recon-20210416_161703-wr518z6d-9000-0.0125-f18-e19e3bb4/\",\n",
    "    \"recon-20210416_162740-wr518z6d-9000-0.0125-f18-a67d9e92/\",\n",
    "    \"recon-20210416_164544-slightly-wrong-focus-wr518z6d-9000-0.0125-f18-59111f15/\",\n",
    "    \"recon-20210416_165720-wr518z6d-9000-0.0125-f18-35f7b4d9/\",\n",
    "    \"recon-20210416_154851-wr518z6d-9000-0.0125-f16-a81acbbd/\",\n",
    "    \"recon-20210416_155948-wr518z6d-9000-0.0125-f16-b21c2f8e/\",\n",
    "    \"recon-20210416_161703-wr518z6d-9000-0.0125-f16-4c2974f8/\",\n",
    "    \"recon-20210416_162740-wr518z6d-9000-0.0125-f16-49595ac9/\",\n",
    "    \"recon-20210416_164544-slightly-wrong-focus-wr518z6d-9000-0.0125-f16-6cf92070/\",\n",
    "    \"recon-20210416_165720-wr518z6d-9000-0.0125-f16-a877a862/\",\n",
    "    \"recon-20210416_154851-wr518z6d-9000-0.0125-f20-517c9856/\",\n",
    "    \"recon-20210416_155948-wr518z6d-9000-0.0125-f20-5ee22730/\",\n",
    "    \"recon-20210416_161703-wr518z6d-9000-0.0125-f20-1a8de773/\",\n",
    "    \"recon-20210416_162740-wr518z6d-9000-0.0125-f20-7c8cac28/\",\n",
    "    \"recon-20210416_164544-slightly-wrong-focus-wr518z6d-9000-0.0125-f20-bd66190d/\",\n",
    "    \"recon-20210416_165720-wr518z6d-9000-0.0125-f20-7cf6f8af/\",\n",
    "    \"recon-20210416_154851-wr518z6d-9000-0.011-f18-f7a01e83/\",\n",
    "    \"recon-20210416_155948-wr518z6d-9000-0.011-f18-76929f1c/\",\n",
    "    \"recon-20210416_161703-wr518z6d-9000-0.011-f18-7b310271/\",\n",
    "    \"recon-20210416_162740-wr518z6d-9000-0.011-f18-df187dd4/\",\n",
    "    \"recon-20210416_164544-slightly-wrong-focus-wr518z6d-9000-0.011-f18-067e1e24/\",\n",
    "    \"recon-20210416_165720-wr518z6d-9000-0.011-f18-68bc28af/\",\n",
    "    \"recon-20210416_154851-wr518z6d-9000-0.011-f16-a5b08fe3/\",\n",
    "    \"recon-20210416_155948-wr518z6d-9000-0.011-f16-01968b89/\",\n",
    "    \"recon-20210416_161703-wr518z6d-9000-0.011-f16-b7e778e7/\",\n",
    "    \"recon-20210416_162740-wr518z6d-9000-0.011-f16-ba7d62be/\",\n",
    "    \"recon-20210416_164544-slightly-wrong-focus-wr518z6d-9000-0.011-f16-5ea384f3/\",\n",
    "    \"recon-20210416_165720-wr518z6d-9000-0.011-f16-4aed4e58/\",\n",
    "    \"recon-20210416_154851-wr518z6d-9000-0.011-f20-64795b54/\",\n",
    "    \"recon-20210416_155948-wr518z6d-9000-0.011-f20-d57d9186/\",\n",
    "    \"recon-20210416_161703-wr518z6d-9000-0.011-f20-3bba5270/\",\n",
    "    \"recon-20210416_162740-wr518z6d-9000-0.011-f20-4f37d8eb/\",\n",
    "    \"recon-20210416_164544-slightly-wrong-focus-wr518z6d-9000-0.011-f20-1566e454/\",\n",
    "    \"recon-20210416_165720-wr518z6d-9000-0.011-f20-4da9a6e0/\",\n",
    "]"
   ]
  },
  {
   "cell_type": "code",
   "execution_count": null,
   "metadata": {},
   "outputs": [],
   "source": [
    "# 0.0125, 18\n",
    "results = [analyze_recon(recon_dirs_fh[recon_dir_id]) for recon_dir_id in range(0, 6)]"
   ]
  },
  {
   "cell_type": "code",
   "execution_count": null,
   "metadata": {},
   "outputs": [],
   "source": [
    "# 0.0125, 16 !!\n",
    "results = [analyze_recon(recon_dirs_fh[recon_dir_id]) for recon_dir_id in range(6, 12)]"
   ]
  },
  {
   "cell_type": "code",
   "execution_count": null,
   "metadata": {},
   "outputs": [],
   "source": [
    "# 0.0125, 20\n",
    "results = [analyze_recon(recon_dirs_fh[recon_dir_id]) for recon_dir_id in range(12, 18)]"
   ]
  },
  {
   "cell_type": "code",
   "execution_count": null,
   "metadata": {},
   "outputs": [],
   "source": [
    "# 0.011, 18\n",
    "results = [analyze_recon(recon_dirs_fh[recon_dir_id]) for recon_dir_id in range(18, 24)]"
   ]
  },
  {
   "cell_type": "code",
   "execution_count": null,
   "metadata": {},
   "outputs": [],
   "source": [
    "# 0.011, 16 !!\n",
    "results = [analyze_recon(recon_dirs_fh[recon_dir_id]) for recon_dir_id in range(24, 30)]"
   ]
  },
  {
   "cell_type": "code",
   "execution_count": null,
   "metadata": {},
   "outputs": [],
   "source": [
    "# 0.011, 20\n",
    "results = [analyze_recon(recon_dirs_fh[recon_dir_id]) for recon_dir_id in range(30, 36)]"
   ]
  },
  {
   "cell_type": "code",
   "execution_count": null,
   "metadata": {},
   "outputs": [],
   "source": [
    "recon_dirs_os = [\n",
    "    \"recon-20210415_131750-wr518z6d-9000-0.011-f18-76e506c2/\",\n",
    "    \"recon-20210415_133012-wr518z6d-9000-0.011-f18-738cb619/\",\n",
    "    \"recon-20210415_142855-wr518z6d-9000-0.011-f18-cd41a13f/\",\n",
    "    \"recon-20210415_144021-wr518z6d-9000-0.011-f18-e485d3e0/\",\n",
    "    \"recon-20210415_145307-wr518z6d-9000-0.011-f18-c59b55ff/\",\n",
    "    \"recon-20210415_150358-wr518z6d-9000-0.011-f18-6675640b/\",\n",
    "    \"recon-20210415_151554-wr518z6d-9000-0.011-f18-65fb373e/\",\n",
    "    \"recon-20210415_152942-wr518z6d-9000-0.011-f18-482fd437/\",\n",
    "]"
   ]
  },
  {
   "cell_type": "code",
   "execution_count": null,
   "metadata": {},
   "outputs": [],
   "source": [
    "# 0.011, 20\n",
    "results = [analyze_recon(recon_dirs_os[recon_dir_id]) for recon_dir_id in range(2,8)]"
   ]
  },
  {
   "cell_type": "code",
   "execution_count": null,
   "metadata": {},
   "outputs": [],
   "source": [
    "selected_os_dir = \"recon-20210415_133012-wr518z6d-9000-0.011-f18-738cb619\"\n",
    "score, score_filtered, v2_filtered, v2_sim_filtered = analyze_recon(selected_os_dir, filter_size=200)"
   ]
  },
  {
   "cell_type": "code",
   "execution_count": null,
   "metadata": {},
   "outputs": [],
   "source": [
    "num_rows = 1\n",
    "num_cols = 1\n",
    "matplotlib.rcParams['axes.unicode_minus'] = False\n",
    "fig, ax = plt.subplots(num_rows, num_cols, figsize = get_fig_size(get_column_width()))\n",
    "cmap = plt.get_cmap(\"tab10\")\n",
    "\n",
    "piv_freq = 500\n",
    "ts = np.arange(len(score_filtered)) / piv_freq\n",
    "ax.plot(ts, score_filtered)\n",
    "ax.set_xlabel(r'$t$ (s)')\n",
    "ax.set_ylim(-1, 0)\n",
    "ax.set_ylabel(r\"Time-averaged score\")\n",
    "ax.set_xlim(0, 20)\n",
    "\n",
    "fig.tight_layout(pad=0.05) # pad is 1.08 by default https://stackoverflow.com/a/59252633\n",
    "\n",
    "ax.axvspan(0.6, 5.133, color=cmap(1), alpha=0.5)\n",
    "ax.annotate(\"Oscillating\", xy=(2.90, -0.1), xycoords=\"data\",\n",
    "                  va=\"center\", ha=\"center\",\n",
    "                  bbox=dict(boxstyle=\"square,pad=0.3\", fc=\"w\", ec=\"black\", lw=1.5, alpha=0.5))\n",
    "ax.xaxis.set_ticks(np.arange(0, 20.5, 1))\n",
    "ax.yaxis.set_ticks(np.arange(-1, 0.05, 0.1))\n",
    "fig.savefig('oscillating-container-time-score.pgf', bbox_inches='tight') # bbox_inches='tight' necessary for keeping the time legend inside the canvas"
   ]
  },
  {
   "cell_type": "code",
   "execution_count": null,
   "metadata": {},
   "outputs": [],
   "source": []
  }
 ],
 "metadata": {
  "kernelspec": {
   "display_name": "Python 3",
   "language": "python",
   "name": "python3"
  },
  "language_info": {
   "codemirror_mode": {
    "name": "ipython",
    "version": 3
   },
   "file_extension": ".py",
   "mimetype": "text/x-python",
   "name": "python",
   "nbconvert_exporter": "python",
   "pygments_lexer": "ipython3",
   "version": "3.8.5"
  }
 },
 "nbformat": 4,
 "nbformat_minor": 4
}
