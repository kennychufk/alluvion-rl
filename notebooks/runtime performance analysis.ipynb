{
 "cells": [
  {
   "cell_type": "code",
   "execution_count": null,
   "metadata": {},
   "outputs": [],
   "source": [
    "import numpy as np\n",
    "import pickle\n",
    "import yaml"
   ]
  },
  {
   "cell_type": "code",
   "execution_count": null,
   "metadata": {},
   "outputs": [],
   "source": [
    "def calculate_stats(dirname):\n",
    "    with open(f'benchmark/{dirname}/inference_time_list.pkl', 'rb') as f:\n",
    "        inference_time_list =pickle.load(f)\n",
    "    with open(f'benchmark/{dirname}/sampling_time_list.pkl', 'rb') as f:\n",
    "        sampling_time_list =pickle.load(f)\n",
    "    with open(f'benchmark/{dirname}/solver_step_time_list.pkl', 'rb') as f:\n",
    "        solver_step_time_list =pickle.load(f)\n",
    "    with open(f'benchmark/{dirname}/num_density_solve_list.pkl', 'rb') as f:\n",
    "        num_density_solve_list =pickle.load(f)\n",
    "    \n",
    "    with open(f'benchmark/{dirname}/optimized.yaml', 'r') as f:\n",
    "        kernel_stat = yaml.safe_load(f)\n",
    "    kernel_stat_mean = {}\n",
    "    for key in kernel_stat:\n",
    "        for elapsed_mean in kernel_stat[key]:\n",
    "            if elapsed_mean != -1:\n",
    "                kernel_stat_mean[key] = elapsed_mean\n",
    "                break\n",
    "    \n",
    "    step_kernel_time_except_solve = kernel_stat_mean[\"clear_acceleration\"]+ kernel_stat_mean[\"compute_particle_boundary_analytic(BoxDistance)\"]+ kernel_stat_mean[\"update_particle_grid\"]+ kernel_stat_mean[\"make_neighbor_list\"]+ kernel_stat_mean[\"compute_density\"]+ kernel_stat_mean[\"compute_viscosity\"]+ kernel_stat_mean[\"drive_n_ellipse\"]+ kernel_stat_mean[\"calculate_cfl_v2\"]+ kernel_stat_mean[\"advect_and_init_pressure\"]+ kernel_stat_mean[\"calculate_isph_diagonal_adv_density\"]+ kernel_stat_mean[\"compute_pressure_accels\"]+ kernel_stat_mean[\"kinematic_integration\"]\n",
    "    simulation_kernel_sum_list = []\n",
    "    \n",
    "    usher_kernel_time = kernel_stat_mean[\"update_particle_grid\"]+ kernel_stat_mean[\"make_neighbor_list\"]+ kernel_stat_mean[\"compute_density\"]+ kernel_stat_mean[\"make_neighbor_list\"]+ kernel_stat_mean[\"compute_particle_boundary_analytic(BoxDistance)\"]+ kernel_stat_mean[\"compute_sample_vorticity\"]+ kernel_stat_mean[\"sample_position_density\"]+ kernel_stat_mean[\"compute_sample_velocity\"]\n",
    "\n",
    "    \n",
    "    simulation_python_list = []\n",
    "    for frame_id, item in enumerate(solver_step_time_list):\n",
    "        if len(item)>0:\n",
    "            simulation_python_list.append(np.sum(item))\n",
    "            \n",
    "            frame_num_density_solve = np.sum(num_density_solve_list[frame_id])\n",
    "#             print(len(item))\n",
    "            simulation_time = kernel_stat_mean['isph_solve_iteration'] * frame_num_density_solve + step_kernel_time_except_solve * len(item)\n",
    "            simulation_kernel_sum_list.append(simulation_time)\n",
    "            \n",
    "    simulation_kernel_avg = np.mean(simulation_kernel_sum_list)\n",
    "    inference_avg = np.mean(inference_time_list[1:])\n",
    "    print('simulation kernel', simulation_kernel_avg, np.mean(simulation_python_list[1:]))\n",
    "    print('usher kernel', usher_kernel_time, 'python', np.mean(sampling_time_list[1:]))\n",
    "    print('inference', inference_avg)\n",
    "    return simulation_kernel_avg+usher_kernel_time + 0.4464 #+ inference_avg"
   ]
  },
  {
   "cell_type": "code",
   "execution_count": null,
   "metadata": {},
   "outputs": [],
   "source": [
    "calculate_stats('.alcache-optimize-validate-rl-0.015')"
   ]
  },
  {
   "cell_type": "code",
   "execution_count": null,
   "metadata": {},
   "outputs": [],
   "source": [
    "calculate_stats('.alcache-optimize-validate-rl-0.0125')"
   ]
  },
  {
   "cell_type": "code",
   "execution_count": null,
   "metadata": {},
   "outputs": [],
   "source": [
    "calculate_stats('.alcache-optimize-validate-rl-0.011')"
   ]
  },
  {
   "cell_type": "code",
   "execution_count": null,
   "metadata": {},
   "outputs": [],
   "source": [
    "calculate_stats('.alcache-optimize-validate-rl-0.01')"
   ]
  },
  {
   "cell_type": "code",
   "execution_count": null,
   "metadata": {},
   "outputs": [],
   "source": [
    "calculate_stats('.alcache-optimize-validate-rl-0.009')"
   ]
  }
 ],
 "metadata": {
  "kernelspec": {
   "display_name": "Python 3 (ipykernel)",
   "language": "python",
   "name": "python3"
  },
  "language_info": {
   "codemirror_mode": {
    "name": "ipython",
    "version": 3
   },
   "file_extension": ".py",
   "mimetype": "text/x-python",
   "name": "python",
   "nbconvert_exporter": "python",
   "pygments_lexer": "ipython3",
   "version": "3.8.13"
  }
 },
 "nbformat": 4,
 "nbformat_minor": 4
}
