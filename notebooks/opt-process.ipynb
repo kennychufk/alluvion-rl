{
 "cells": [
  {
   "cell_type": "code",
   "execution_count": null,
   "metadata": {},
   "outputs": [],
   "source": [
    "import wandb\n",
    "import numpy as np\n",
    "from util import populate_plt_settings, get_column_width, get_fig_size, get_latex_float\n",
    "from matplotlib import pyplot as plt"
   ]
  },
  {
   "cell_type": "code",
   "execution_count": null,
   "metadata": {},
   "outputs": [],
   "source": [
    "api = wandb.Api()\n",
    "run = api.run('kennychufk/alluvion/1egs88bw')\n",
    "history = run.scan_history()"
   ]
  },
  {
   "cell_type": "code",
   "execution_count": null,
   "metadata": {},
   "outputs": [],
   "source": [
    "num_steps = 2000\n",
    "vis = np.zeros(num_steps)\n",
    "bvis = np.zeros(num_steps)\n",
    "vis_grad = np.zeros(num_steps)\n",
    "bvis_grad = np.zeros(num_steps)\n",
    "loss = np.zeros(num_steps)\n",
    "\n",
    "for row in history:\n",
    "    step = row['_step']\n",
    "    if 'vis_real' in row:\n",
    "        vis[step] = row['vis_real']\n",
    "    if 'bvis_real' in row:\n",
    "        bvis[step] = row['bvis_real']\n",
    "    if '∇vis' in row:\n",
    "        vis_grad[step] = row['∇vis']\n",
    "    if '∇bvis' in row:\n",
    "        bvis_grad[step] = row['∇bvis']\n",
    "    if 'loss' in row:\n",
    "        loss[step] = row['loss']"
   ]
  },
  {
   "cell_type": "code",
   "execution_count": null,
   "metadata": {},
   "outputs": [],
   "source": [
    "populate_plt_settings(plt)\n",
    "plt.rcParams.update({\"axes.unicode_minus\":False})"
   ]
  },
  {
   "cell_type": "code",
   "execution_count": null,
   "metadata": {
    "tags": []
   },
   "outputs": [],
   "source": [
    "num_psteps = 1200\n",
    "num_rows = 1\n",
    "num_cols = 1\n",
    "fig, axs = plt.subplots(num_rows, num_cols, figsize = get_fig_size(get_column_width(), ratio=0.44))\n",
    "cmap = plt.get_cmap(\"tab10\")\n",
    "scale_velocity = 1000\n",
    "scale_acceleration = 1000\n",
    "scale_r = 1000\n",
    "scale_vis = 1e6\n",
    "scale_loss = 1e6\n",
    "\n",
    "vis_ax = axs\n",
    "vis_color = 'tab:blue'\n",
    "bvis_color = 'tab:red'\n",
    "\n",
    "# vis_grad_ax.plot(vis_grad[:num_psteps], color=vis_color)\n",
    "# vis_grad_ax.set_ylabel(r\"$\\partial \\mathrm{MSE} / \\partial \\nu_{\\mathcal{F}} (s^{-1})$\", color = vis_color)\n",
    "# vis_grad_ax.tick_params(axis='y', labelcolor=vis_color)\n",
    "# vis_grad_ax.set_ylim(-2.6e-6, 2.4e-6)\n",
    "# vis_grad_ax.set_xlim(0, num_psteps)\n",
    "\n",
    "# bvis_grad_ax = vis_grad_ax.twinx()\n",
    "# bvis_grad_ax.plot(bvis_grad[:num_psteps], color = bvis_color)\n",
    "# bvis_grad_ax.set_ylabel(r\"$\\partial \\mathrm{MSE} / \\partial \\nu_{\\mathcal{B}} (s^{-1})$\", color = bvis_color)\n",
    "# bvis_grad_ax.tick_params(axis='y', labelcolor=bvis_color)\n",
    "# bvis_grad_ax.set_ylim(-0.4e-6, 0.6e-6)\n",
    "# bvis_grad_ax.set_xlim(0, num_psteps)\n",
    "\n",
    "\n",
    "vis_ax.plot(vis[:num_psteps]*scale_vis, color=vis_color)\n",
    "vis_ax.set_ylabel(r\"SPH viscosity $\\nu_{\\mathcal{F}}$ (\\SI{}{\\centi\\stokes})\", color=vis_color)\n",
    "vis_ax.tick_params(axis='y', labelcolor=vis_color)\n",
    "vis_ax.set_xlim(0, num_psteps)\n",
    "vis_ax.set_ylim(2, 2.5)\n",
    "vis_ax.set_xlabel('Optimization steps')\n",
    "\n",
    "bvis_ax = vis_ax.twinx()\n",
    "bvis_ax.set_ylabel(r\"$\\nu_{\\mathcal{B}}$ (\\SI{}{\\centi\\stokes})\", color=bvis_color)\n",
    "bvis_ax.plot(bvis[:num_psteps]*scale_vis, color=bvis_color)\n",
    "bvis_ax.tick_params(axis='y', labelcolor=bvis_color)\n",
    "bvis_ax.set_xlim(0, num_psteps)\n",
    "bvis_ax.set_ylim(3.2, 4.2)\n",
    "bvis_ax.grid(False) # avoid grid lines on top of line plot\n",
    "\n",
    "fig.tight_layout(pad=0.05) # should set tight_layout before add_axes()\n",
    "\n",
    "# loss_color = 'tab:green'\n",
    "# loss_ax = fig.add_axes([0.3, 0.15, 0.55, 0.2])\n",
    "# loss_ax.set_ylabel(r\"$ \\mathrm{MSE}  (mm^2 / s^2)$\")\n",
    "# loss_ax.plot(loss[:num_psteps] * scale_loss, color=loss_color)\n",
    "# loss_ax.tick_params(axis='y')\n",
    "# loss_ax.set_ylim(0, 6e-6)\n",
    "# loss_ax.set_xlim(0, num_psteps)\n",
    "\n",
    "fig.savefig('opt-process.pdf')"
   ]
  },
  {
   "cell_type": "code",
   "execution_count": null,
   "metadata": {},
   "outputs": [],
   "source": [
    "loss[-1]*scale_loss"
   ]
  }
 ],
 "metadata": {
  "kernelspec": {
   "display_name": "Python 3 (ipykernel)",
   "language": "python",
   "name": "python3"
  },
  "language_info": {
   "codemirror_mode": {
    "name": "ipython",
    "version": 3
   },
   "file_extension": ".py",
   "mimetype": "text/x-python",
   "name": "python",
   "nbconvert_exporter": "python",
   "pygments_lexer": "ipython3",
   "version": "3.8.13"
  }
 },
 "nbformat": 4,
 "nbformat_minor": 4
}
