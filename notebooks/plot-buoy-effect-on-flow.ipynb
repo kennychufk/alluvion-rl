{
 "cells": [
  {
   "cell_type": "code",
   "execution_count": null,
   "metadata": {},
   "outputs": [],
   "source": [
    "import numpy as np\n",
    "import alluvion as al\n",
    "from matplotlib import pyplot as plt\n",
    "from util import populate_plt_settings, get_column_width, get_fig_size, get_latex_float"
   ]
  },
  {
   "cell_type": "code",
   "execution_count": null,
   "metadata": {},
   "outputs": [],
   "source": [
    "dp = al.Depot(np.float32)\n",
    "runner = dp.Runner()"
   ]
  },
  {
   "cell_type": "code",
   "execution_count": null,
   "metadata": {},
   "outputs": [],
   "source": [
    "def calculate_masked_mse(v1, v2, mask):\n",
    "    v_diff = v1 - v2\n",
    "    masked_se = np.sum(v_diff * v_diff, axis=1) * mask\n",
    "    num_masked = np.sum(mask)\n",
    "    return np.sum(masked_se)/num_masked if num_masked>0 else 0"
   ]
  },
  {
   "cell_type": "code",
   "execution_count": null,
   "metadata": {},
   "outputs": [],
   "source": [
    "truth_dirs = ['/media/kennychufk/vol1bk0/20210415_142855/',\n",
    "             '/media/kennychufk/vol1bk0/20210415_144021/',\n",
    "             '/media/kennychufk/vol1bk0/20210415_145307/',\n",
    "             '/media/kennychufk/vol1bk0/20210415_150358/',\n",
    "             '/media/kennychufk/vol1bk0/20210415_151554/',\n",
    "             '/media/kennychufk/vol1bk0/20210415_152942/'\n",
    "             ]\n",
    "v2_list = []\n",
    "for truth_dir in truth_dirs:\n",
    "    truth_v_piv = np.load(f'{truth_dir}/mat_results/vel_filtered.npy')\n",
    "    num_samples = truth_v_piv.shape[1]*truth_v_piv.shape[2]\n",
    "    truth_v_piv = truth_v_piv.reshape(-1, num_samples ,2)\n",
    "    mask_np = np.load(f'{truth_dir}/mat_results/mask-raisevlim.npy').reshape(-1, num_samples).astype(np.float32)\n",
    "\n",
    "    truth_v_np = np.zeros((*truth_v_piv.shape[:-1], 3))\n",
    "    truth_v_np[..., 2] = truth_v_piv[..., 0]\n",
    "    truth_v_np[..., 1] = truth_v_piv[..., 1]\n",
    "    \n",
    "    ground_truth = dp.create_coated((num_samples), 3)\n",
    "    zero3 = dp.create_coated_like(ground_truth)\n",
    "    zero3.set_zero()\n",
    "    mask = dp.create_coated((num_samples), 1)\n",
    "    v2 = np.zeros(len(truth_v_piv))\n",
    "    for frame_id in range(len(truth_v_piv)):\n",
    "        mask.set(mask_np[frame_id])\n",
    "        ground_truth.set(truth_v_np[frame_id])\n",
    "        v2[frame_id] = runner.calculate_se_yz_masked(zero3, ground_truth, mask,num_samples)/np.sum(mask_np[frame_id])\n",
    "    v2_list.append(v2)\n",
    "    \n",
    "    dp.remove(ground_truth)\n",
    "    dp.remove(zero3)"
   ]
  },
  {
   "cell_type": "code",
   "execution_count": null,
   "metadata": {},
   "outputs": [],
   "source": [
    "truth_dirs = ['/media/kennychufk/vol1bk0/20210415_142855/',\n",
    "             '/media/kennychufk/vol1bk0/20210415_144021/',\n",
    "             '/media/kennychufk/vol1bk0/20210415_145307/',\n",
    "             '/media/kennychufk/vol1bk0/20210415_150358/',\n",
    "             '/media/kennychufk/vol1bk0/20210415_151554/',\n",
    "             '/media/kennychufk/vol1bk0/20210415_152942/'\n",
    "             ]\n",
    "v2_list = []\n",
    "for truth_dir in truth_dirs:\n",
    "    truth_v_piv = np.load(f'{truth_dir}/mat_results/vel_filtered.npy')\n",
    "    num_samples = truth_v_piv.shape[1]*truth_v_piv.shape[2]\n",
    "    truth_v_piv = truth_v_piv.reshape(-1, num_samples ,2)\n",
    "    np.nan_to_num(truth_v_piv, copy=False)\n",
    "    mask_np = np.load(f'{truth_dir}/mat_results/mask-raisevlim.npy').reshape(-1, num_samples)\n",
    "    zero_vector =np.zeros_like(truth_v_piv[0])\n",
    "    v2 = np.zeros(len(truth_v_piv))\n",
    "    \n",
    "    for frame_id in range(len(truth_v_piv)):\n",
    "        v2[frame_id] = np.sqrt(calculate_masked_mse(truth_v_piv[frame_id], zero_vector, mask_np[frame_id]))\n",
    "    v2_list.append(v2)\n",
    "    "
   ]
  },
  {
   "cell_type": "code",
   "execution_count": null,
   "metadata": {},
   "outputs": [],
   "source": [
    "plt.plot(v2_list[1])"
   ]
  },
  {
   "cell_type": "code",
   "execution_count": null,
   "metadata": {},
   "outputs": [],
   "source": [
    "populate_plt_settings(plt)"
   ]
  },
  {
   "cell_type": "code",
   "execution_count": null,
   "metadata": {},
   "outputs": [],
   "source": [
    "#matplotlib.rcParams['axes.unicode_minus'] = False\n",
    "num_rows = 1\n",
    "num_cols = 1\n",
    "fig, ax = plt.subplots(num_rows, num_cols, figsize = get_fig_size(get_column_width()))\n",
    "cmap = plt.get_cmap(\"tab10\")\n",
    "\n",
    "for i, v2 in enumerate(v2_list):\n",
    "#     ax.plot((np.arange(1000)+2000)/500,v2[2000:3000], label=f'{i+4} buoys')\n",
    "    ax.plot((np.arange(3000)+400)/500,v2[400:3400], label=f'{i+4} buoys', linewidth=0.8)\n",
    "#     plt.plot(np.convolve(v2, np.ones(50)/30)[4000:6000], label=f'{i+4}')\n",
    "#     print(np.sqrt(np.mean(v2)))\n",
    "    ax.set_xlabel('Time (s)')\n",
    "    ax.set_ylabel('Root-mean-square speed (m/s)')\n",
    "ax.legend()\n",
    "fig.tight_layout(pad=0.05) # pad is 1.08 by default https://stackoverflow.com/a/59252633\n",
    "fig.savefig('buoy-effect-on-flow.pgf', bbox_inches='tight') # bbox_inches='tight' necessary for keeping the time legend inside the canvas"
   ]
  },
  {
   "cell_type": "code",
   "execution_count": null,
   "metadata": {},
   "outputs": [],
   "source": []
  }
 ],
 "metadata": {
  "kernelspec": {
   "display_name": "Python 3 (ipykernel)",
   "language": "python",
   "name": "python3"
  },
  "language_info": {
   "codemirror_mode": {
    "name": "ipython",
    "version": 3
   },
   "file_extension": ".py",
   "mimetype": "text/x-python",
   "name": "python",
   "nbconvert_exporter": "python",
   "pygments_lexer": "ipython3",
   "version": "3.8.13"
  }
 },
 "nbformat": 4,
 "nbformat_minor": 4
}
