{
 "cells": [
  {
   "cell_type": "code",
   "execution_count": null,
   "metadata": {},
   "outputs": [],
   "source": [
    "import wandb\n",
    "import numpy as np\n",
    "from matplotlib import pyplot as plt\n",
    "from sklearn.linear_model import LinearRegression\n",
    "from util import populate_plt_settings, get_column_width, get_fig_size, get_latex_float"
   ]
  },
  {
   "cell_type": "code",
   "execution_count": null,
   "metadata": {},
   "outputs": [],
   "source": [
    "api = wandb.Api()\n",
    "all_runs = api.runs('kennychufk/alluvion')"
   ]
  },
  {
   "cell_type": "code",
   "execution_count": null,
   "metadata": {
    "scrolled": true
   },
   "outputs": [],
   "source": [
    "selected_runs = []\n",
    "for run in all_runs:\n",
    "    if (len(run.tags) and run.tags[0]=='pellet_vis_sweep0' and run.state=='finished'):\n",
    "        selected_runs.append(run)"
   ]
  },
  {
   "cell_type": "code",
   "execution_count": null,
   "metadata": {},
   "outputs": [],
   "source": [
    "kinematic_vis = []\n",
    "vis = []\n",
    "bvis = []\n",
    "best_losses = []\n",
    "for run in selected_runs:\n",
    "    vis.append(run.summary['vis_real'])\n",
    "    bvis.append(run.summary['bvis_real'])\n",
    "#     vis.append(run.summary['best_x'][0])\n",
    "#     bvis.append(run.summary['best_x'][1])\n",
    "    kinematic_vis.append(run.config['kinematic_viscosity_real'])\n",
    "    best_losses.append(run.summary['best_loss'])"
   ]
  },
  {
   "cell_type": "code",
   "execution_count": null,
   "metadata": {},
   "outputs": [],
   "source": [
    "plt.plot(kinematic_vis, vis, marker='x')"
   ]
  },
  {
   "cell_type": "code",
   "execution_count": null,
   "metadata": {},
   "outputs": [],
   "source": [
    "plt.plot(kinematic_vis, bvis, marker='x')"
   ]
  },
  {
   "cell_type": "code",
   "execution_count": null,
   "metadata": {},
   "outputs": [],
   "source": [
    "populate_plt_settings(plt)"
   ]
  },
  {
   "cell_type": "code",
   "execution_count": null,
   "metadata": {},
   "outputs": [],
   "source": [
    "fig, ax = plt.subplots(1, 1, figsize=get_fig_size(get_column_width()))\n",
    "\n",
    "scale = 1e6\n",
    "vis_color = 'tab:blue'\n",
    "ax.scatter(np.array(kinematic_vis)*scale, np.array(vis)*scale, marker='.', color=vis_color)\n",
    "ax.set_ylabel(r\"Parameter value (cSt)\")\n",
    "\n",
    "bvis_color = 'tab:red'\n",
    "ax.scatter(np.array(kinematic_vis)*scale, np.array(bvis)*scale, marker='.', color=bvis_color)\n",
    "\n",
    "ax.set_xlabel(r\"Kinematic viscosity $\\nu$ (cSt)\")\n",
    "\n",
    "reg = LinearRegression().fit(np.array(kinematic_vis).reshape(-1, 1), vis)\n",
    "breg = LinearRegression().fit(np.array(kinematic_vis).reshape(-1, 1), bvis)\n",
    "xlim_upper_scaled = 21\n",
    "xlim_upper = xlim_upper_scaled * 1e-6\n",
    "vis_y0 = reg.predict(np.array([0]).reshape(-1, 1))[0]\n",
    "bvis_y0 = breg.predict(np.array([0]).reshape(-1, 1))[0]\n",
    "vis_y1 = reg.predict(np.array([xlim_upper]).reshape(-1, 1))[0]\n",
    "bvis_y1 = breg.predict(np.array([xlim_upper]).reshape(-1, 1))[0]\n",
    "ax.plot([0, xlim_upper_scaled], np.array([vis_y0, vis_y1])*scale, color=vis_color, label=r\"SPH viscosity $\\nu_{\\mathcal{F}}$\")\n",
    "ax.plot([0, xlim_upper_scaled], np.array([bvis_y0, bvis_y1])*scale, color=bvis_color, label=r\"SPH boundary viscosity $\\nu_{\\mathcal{B}}$\")\n",
    "\n",
    "vis_coef_str = f\"{reg.coef_[0]:.3f}\"\n",
    "vis_intercept_scaled = reg.intercept_*scale\n",
    "vis_intercept_str = f\"{'+' if vis_intercept_scaled>0 else ''}{get_latex_float(vis_intercept_scaled)}\"\n",
    "ax.annotate(\n",
    "    r\"$\"+\"\\\\nu_{\\mathcal{F}}=\"+vis_coef_str+\"\\\\nu \"+vis_intercept_str+\" \\\\mathrm{cSt}\"+r\"$\",\n",
    "    xy=(8, 6), xycoords='data',\n",
    "    bbox=dict(boxstyle=\"round,pad=0.2\", facecolor=\"white\", edgecolor=vis_color))\n",
    "\n",
    "bvis_coef_str = f\"{breg.coef_[0]:.3f}\"\n",
    "bvis_intercept_scaled = breg.intercept_*scale\n",
    "bvis_intercept_str = f\"{'+' if bvis_intercept_scaled>0 else ''}{get_latex_float(bvis_intercept_scaled)}\"\n",
    "ax.annotate(\n",
    "    r\"$\"+\"\\\\nu_{\\mathcal{B}}=\"+bvis_coef_str+\"\\\\nu \"+bvis_intercept_str+\" \\\\mathrm{cSt}\"+r\"$\",\n",
    "    xy=(0.5, 53), xycoords='data',\n",
    "    bbox=dict(boxstyle=\"round,pad=0.2\", facecolor=\"white\", edgecolor=bvis_color))\n",
    "\n",
    "\n",
    "ax.set_xlim(0,xlim_upper_scaled)\n",
    "ax.set_ylim(0,90)\n",
    "ax.legend(facecolor='white', frameon=True, edgecolor='None')\n",
    "fig.tight_layout(pad=0.05) # pad is 1.08 by default https://stackoverflow.com/a/59252633\n",
    "fig.savefig('vary-vis.pgf')"
   ]
  },
  {
   "cell_type": "code",
   "execution_count": null,
   "metadata": {},
   "outputs": [],
   "source": [
    "plt.plot(kinematic_vis, best_losses)"
   ]
  },
  {
   "cell_type": "code",
   "execution_count": null,
   "metadata": {},
   "outputs": [],
   "source": [
    "reg.coef_[0], reg.intercept_"
   ]
  },
  {
   "cell_type": "code",
   "execution_count": null,
   "metadata": {},
   "outputs": [],
   "source": [
    "breg.coef_[0], breg.intercept_"
   ]
  },
  {
   "cell_type": "code",
   "execution_count": null,
   "metadata": {},
   "outputs": [],
   "source": [
    "reg.predict(np.array([[1e-6]])), breg.predict(np.array([[1e-6]]))"
   ]
  }
 ],
 "metadata": {
  "kernelspec": {
   "display_name": "Python 3 (ipykernel)",
   "language": "python",
   "name": "python3"
  },
  "language_info": {
   "codemirror_mode": {
    "name": "ipython",
    "version": 3
   },
   "file_extension": ".py",
   "mimetype": "text/x-python",
   "name": "python",
   "nbconvert_exporter": "python",
   "pygments_lexer": "ipython3",
   "version": "3.8.13"
  }
 },
 "nbformat": 4,
 "nbformat_minor": 4
}
