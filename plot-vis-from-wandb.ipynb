{
 "cells": [
  {
   "cell_type": "code",
   "execution_count": null,
   "metadata": {},
   "outputs": [],
   "source": [
    "import wandb\n",
    "import numpy as np\n",
    "from matplotlib import pyplot as plt\n",
    "from sklearn.linear_model import LinearRegression"
   ]
  },
  {
   "cell_type": "code",
   "execution_count": null,
   "metadata": {},
   "outputs": [],
   "source": [
    "api = wandb.Api()\n",
    "all_runs = api.runs('kennychufk/alluvion')"
   ]
  },
  {
   "cell_type": "code",
   "execution_count": null,
   "metadata": {
    "scrolled": true
   },
   "outputs": [],
   "source": [
    "selected_runs = []\n",
    "for run in all_runs:\n",
    "    if (len(run.tags) and run.tags[0]=='vis_sweep2' and run.state=='finished'):\n",
    "        selected_runs.append(run)"
   ]
  },
  {
   "cell_type": "code",
   "execution_count": null,
   "metadata": {},
   "outputs": [],
   "source": [
    "kinematic_vis = []\n",
    "vis = []\n",
    "bvis = []\n",
    "best_losses = []\n",
    "for run in selected_runs:\n",
    "    vis.append(run.summary['vis_real'])\n",
    "    bvis.append(run.summary['bvis_real'])\n",
    "#     vis.append(run.summary['best_x'][0])\n",
    "#     bvis.append(run.summary['best_x'][1])\n",
    "    kinematic_vis.append(run.config['kinematic_viscosity_real'])\n",
    "    best_losses.append(run.summary['best_loss'])"
   ]
  },
  {
   "cell_type": "code",
   "execution_count": null,
   "metadata": {},
   "outputs": [],
   "source": [
    "plt.plot(kinematic_vis, vis, marker='x')"
   ]
  },
  {
   "cell_type": "code",
   "execution_count": null,
   "metadata": {},
   "outputs": [],
   "source": [
    "plt.plot(kinematic_vis, bvis, marker='x')"
   ]
  },
  {
   "cell_type": "code",
   "execution_count": null,
   "metadata": {},
   "outputs": [],
   "source": [
    "plt.rcParams.update({\n",
    "    \"pgf.texsystem\": \"pdflatex\",\n",
    "    \"font.family\": \"serif\",  # use serif/main font for text elements\n",
    "    \"text.usetex\": True,     # use inline math for ticks\n",
    "    \"pgf.rcfonts\": False,    # don't setup fonts from rc parameters\n",
    "    # Use 10pt font in plots, to match 10pt font in document\n",
    "    \"axes.labelsize\": 8,\n",
    "    \"font.size\": 8,\n",
    "    # Make the legend/label fonts a little smaller\n",
    "    \"legend.fontsize\": 8,\n",
    "    \"xtick.labelsize\": 8,\n",
    "    \"ytick.labelsize\": 8\n",
    "})\n",
    "plt.style.use('seaborn-whitegrid')\n",
    "textwidth = 510.295   #pt. # \\showthe\\textwidth\n",
    "columnwidth = 243.14749 #pt. # \\showthe\\columnwidth\n",
    "\n",
    "def set_size(width, fraction=1):\n",
    "    \"\"\"Set figure dimensions to avoid scaling in LaTeX.\n",
    "\n",
    "    Parameters\n",
    "    ----------\n",
    "    width: float\n",
    "            Document textwidth or columnwidth in pts\n",
    "    fraction: float, optional\n",
    "            Fraction of the width which you wish the figure to occupy\n",
    "\n",
    "    Returns\n",
    "    -------\n",
    "    fig_dim: tuple\n",
    "            Dimensions of figure in inches\n",
    "    \"\"\"\n",
    "    # Width of figure (in pts)\n",
    "    fig_width_pt = width * fraction\n",
    "\n",
    "    # Convert from pt to inches\n",
    "    inches_per_pt = 1 / 72.27\n",
    "\n",
    "    # Golden ratio to set aesthetic figure height\n",
    "    # https://disq.us/p/2940ij3\n",
    "    golden_ratio = (5**.5 - 1) / 2\n",
    "\n",
    "    # Figure width in inches\n",
    "    fig_width_in = fig_width_pt * inches_per_pt\n",
    "    # Figure height in inches\n",
    "    fig_height_in = fig_width_in * golden_ratio\n",
    "\n",
    "    fig_dim = (fig_width_in, fig_height_in)\n",
    "\n",
    "    return fig_dim\n"
   ]
  },
  {
   "cell_type": "code",
   "execution_count": null,
   "metadata": {},
   "outputs": [],
   "source": [
    "def latex_float(f):\n",
    "    float_str = \"{0:.3g}\".format(f)\n",
    "    if \"e\" in float_str:\n",
    "        base, exponent = float_str.split(\"e\")\n",
    "        return r\"{0} \\times 10^{{{1}}}\".format(base, int(exponent))\n",
    "    else:\n",
    "        return float_str\n",
    "    \n",
    "fig, ax = plt.subplots(1, 1, figsize=set_size(columnwidth))\n",
    "\n",
    "scale = 1e6\n",
    "vis_color = 'tab:blue'\n",
    "ax.scatter(np.array(kinematic_vis)*scale, np.array(vis)*scale, marker='o', color=vis_color)\n",
    "ax.set_ylabel(r\"Parameter value (cSt)\")\n",
    "\n",
    "bvis_color = 'tab:red'\n",
    "ax.scatter(np.array(kinematic_vis)*scale, np.array(bvis)*scale, marker='o', color=bvis_color)\n",
    "\n",
    "ax.set_xlabel(r\"Kinematic viscosity $\\nu$ (cSt)\")\n",
    "\n",
    "reg = LinearRegression().fit(np.array(kinematic_vis).reshape(-1, 1), vis)\n",
    "breg = LinearRegression().fit(np.array(kinematic_vis).reshape(-1, 1), bvis)\n",
    "xlim_upper_scaled = 22.5\n",
    "xlim_upper = xlim_upper_scaled * 1e-6\n",
    "vis_y0 = reg.predict(np.array([0]).reshape(-1, 1))[0]\n",
    "bvis_y0 = breg.predict(np.array([0]).reshape(-1, 1))[0]\n",
    "vis_y1 = reg.predict(np.array([xlim_upper]).reshape(-1, 1))[0]\n",
    "bvis_y1 = breg.predict(np.array([xlim_upper]).reshape(-1, 1))[0]\n",
    "ax.plot([0, xlim_upper_scaled], np.array([vis_y0, vis_y1])*scale, color=vis_color, label=r\"SPH viscosity $\\nu_{F}$\")\n",
    "ax.plot([0, xlim_upper_scaled], np.array([bvis_y0, bvis_y1])*scale, color=bvis_color, label=r\"SPH boundary viscosity $\\nu_{B}$\")\n",
    "\n",
    "vis_coef_str = f\"{reg.coef_[0]:.3f}\"\n",
    "vis_intercept_scaled = reg.intercept_*scale\n",
    "vis_intercept_str = f\"{'+' if vis_intercept_scaled>0 else ''}{latex_float(vis_intercept_scaled)}\"\n",
    "ax.annotate(\n",
    "    r\"$\"+\"\\\\nu_{B}=\"+vis_coef_str+\"\\\\nu \"+vis_intercept_str+\" \\\\mathrm{cSt} \"+r\"$\",\n",
    "    xy=(11, 53), xycoords='data',\n",
    "    bbox=dict(boxstyle=\"round\", facecolor=\"white\", edgecolor=vis_color))\n",
    "\n",
    "bvis_coef_str = f\"{breg.coef_[0]:.3f}\"\n",
    "bvis_intercept_scaled = breg.intercept_*scale\n",
    "bvis_intercept_str = f\"{'+' if bvis_intercept_scaled>0 else ''}{latex_float(bvis_intercept_scaled)}\"\n",
    "ax.annotate(\n",
    "    r\"$\"+\"\\\\nu_{B}=\"+bvis_coef_str+\"\\\\nu \"+bvis_intercept_str+\" \\\\mathrm{cSt} \"+r\"$\",\n",
    "    xy=(1, 85), xycoords='data',\n",
    "    bbox=dict(boxstyle=\"round\", facecolor=\"white\", edgecolor=bvis_color))\n",
    "\n",
    "\n",
    "ax.set_xlim(0,xlim_upper_scaled)\n",
    "ax.set_ylim(0,150)\n",
    "ax.legend(facecolor='white', frameon=True, edgecolor='None')\n",
    "fig.tight_layout(pad=0.05) # pad is 1.08 by default https://stackoverflow.com/a/59252633\n",
    "fig.savefig('vary-vis.pgf')"
   ]
  },
  {
   "cell_type": "code",
   "execution_count": null,
   "metadata": {},
   "outputs": [],
   "source": [
    "plt.plot(kinematic_vis, best_losses)"
   ]
  },
  {
   "cell_type": "code",
   "execution_count": null,
   "metadata": {},
   "outputs": [],
   "source": [
    "reg.coef_[0], reg.intercept_"
   ]
  },
  {
   "cell_type": "code",
   "execution_count": null,
   "metadata": {},
   "outputs": [],
   "source": [
    "breg.coef_[0], breg.intercept_"
   ]
  }
 ],
 "metadata": {
  "kernelspec": {
   "display_name": "Python 3",
   "language": "python",
   "name": "python3"
  },
  "language_info": {
   "codemirror_mode": {
    "name": "ipython",
    "version": 3
   },
   "file_extension": ".py",
   "mimetype": "text/x-python",
   "name": "python",
   "nbconvert_exporter": "python",
   "pygments_lexer": "ipython3",
   "version": "3.8.5"
  }
 },
 "nbformat": 4,
 "nbformat_minor": 4
}
