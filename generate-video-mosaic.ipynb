{
 "cells": [
  {
   "cell_type": "code",
   "execution_count": null,
   "metadata": {},
   "outputs": [],
   "source": [
    "import numpy as np\n",
    "import os\n",
    "import subprocess\n",
    "import glob\n",
    "from pathlib import Path "
   ]
  },
  {
   "cell_type": "code",
   "execution_count": null,
   "metadata": {},
   "outputs": [],
   "source": [
    "video_list = [\"/home/kennychufk/workspace/pythonWs/test-run-al-outside/truth/rltruth-27e78d56-1026.13.28.06/ren.mp4\", \"/home/kennychufk/workspace/pythonWs/test-run-al-outside/truth/rltruth-48d51866-1026.12.46.58/ren.mp4\", \"/home/kennychufk/workspace/pythonWs/test-run-al-outside/truth/rltruth-55255d89-1026.13.08.31/ren.mp4\", \"/home/kennychufk/workspace/pythonWs/test-run-al-outside/truth/rltruth-cff3a4f0-1026.18.33.28/ren.mp4\", \"/home/kennychufk/workspace/pythonWs/test-run-al-outside/truth/rltruth-5e06f1b4-1026.13.44.59/ren.mp4\", \"/home/kennychufk/workspace/pythonWs/test-run-al-outside/truth/rltruth-69937a1e-1027.19.15.09/ren.mp4\", \"/home/kennychufk/workspace/pythonWs/test-run-al-outside/truth/rltruth-7b7d9b3c-1026.15.05.53/ren.mp4\", \"/home/kennychufk/workspace/pythonWs/test-run-al-outside/truth/rltruth-c2276efc-1026.14.08.03/ren.mp4\", \"/home/kennychufk/workspace/pythonWs/test-run-al-outside/truth/rltruth-d23ac540-1026.19.38.53/ren.mp4\", \"/home/kennychufk/workspace/pythonWs/test-run-al-outside/truth/rltruth-d4a620c3-1026.12.17.12/ren.mp4\", \"/home/kennychufk/workspace/pythonWs/test-run-al-outside/truth/rltruth-9447355f-1026.16.57.36/ren.mp4\", \"/home/kennychufk/workspace/pythonWs/test-run-al-outside/truth/rltruth-1313ed22-1026.19.16.09/ren.mp4\"]"
   ]
  },
  {
   "cell_type": "code",
   "execution_count": null,
   "metadata": {},
   "outputs": [],
   "source": [
    "video_list = sorted(video_list)"
   ]
  },
  {
   "cell_type": "code",
   "execution_count": null,
   "metadata": {},
   "outputs": [],
   "source": [
    "selected_video_list = video_list"
   ]
  },
  {
   "cell_type": "code",
   "execution_count": null,
   "metadata": {},
   "outputs": [],
   "source": [
    "selected_video_list"
   ]
  },
  {
   "cell_type": "code",
   "execution_count": null,
   "metadata": {},
   "outputs": [],
   "source": [
    "# add framenum\n",
    "def overlay_frame_num(filename, width, height):\n",
    "    tokens = [\"ffmpeg\"]\n",
    "    tokens+=[\"-i\", filename]\n",
    "    tokens+=[\"-vf\"]\n",
    "    tokens+=[f\"scale={width}:{height},drawtext=fontfile=Arial.ttf:\"+\" text=%{n}: x=(w-tw)/2: y=h-(2*lh): fontcolor=white:fontsize=72: box=1: boxcolor=0x00000099\"]\n",
    "    tokens+=[str(Path(filename).with_suffix(''))+'_frame_num.mp4']\n",
    "    return run_process(tokens)"
   ]
  },
  {
   "cell_type": "code",
   "execution_count": null,
   "metadata": {},
   "outputs": [],
   "source": [
    "def trim_video(filename):\n",
    "    with open(Path(filename).parent.joinpath('frame.txt')) as f:\n",
    "        start_frame = int(f.read())\n",
    "    end_frame = start_frame+ 20 * 60\n",
    "    tokens = [\"ffmpeg\"]\n",
    "    tokens+=[\"-i\", filename]\n",
    "    tokens+=[\"-vf\"]\n",
    "    tokens+=[f\"select=between(n\\\\,{start_frame}\\\\,{end_frame}),setpts=PTS-STARTPTS\"]\n",
    "    tokens+=[\"-y\"]\n",
    "    tokens+=[str(Path(filename).with_suffix(''))+'-trimmed.mp4']\n",
    "    return run_process(tokens)"
   ]
  },
  {
   "cell_type": "code",
   "execution_count": null,
   "metadata": {},
   "outputs": [],
   "source": [
    "for filename in selected_video_list:\n",
    "    trim_video(filename)"
   ]
  },
  {
   "cell_type": "code",
   "execution_count": null,
   "metadata": {},
   "outputs": [],
   "source": [
    "mosaic_video_list = [str(Path(filename).with_suffix(''))+'-trimmed.mp4' for filename in selected_video_list]\n",
    "mosaic_video_list"
   ]
  },
  {
   "cell_type": "code",
   "execution_count": null,
   "metadata": {},
   "outputs": [],
   "source": [
    "def run_process(tokens):\n",
    "    process_popen = subprocess.Popen(tokens)\n",
    "    try:\n",
    "        process_popen.wait(timeout=360);\n",
    "    except subprocess.TimeoutExpired:\n",
    "        os.kill(process_popen.pid, signal.SIGTERM)\n",
    "    code = process_popen.returncode\n",
    "    return code"
   ]
  },
  {
   "cell_type": "code",
   "execution_count": null,
   "metadata": {},
   "outputs": [],
   "source": [
    "for video_path in video_list:\n",
    "    overlay_frame_num(video_path, 480, -1)"
   ]
  },
  {
   "cell_type": "code",
   "execution_count": null,
   "metadata": {},
   "outputs": [],
   "source": [
    "##### get start frame num ##########\n",
    "\n",
    "def get_start_frame_nums(paths):\n",
    "    result = []\n",
    "    for filename in paths:\n",
    "        with open(Path(filename).parent.joinpath('frame.txt')) as f:\n",
    "            start_frame_num = int(f.read())\n",
    "            result+=[start_frame_num]\n",
    "    return result"
   ]
  },
  {
   "cell_type": "code",
   "execution_count": null,
   "metadata": {},
   "outputs": [],
   "source": [
    "def get_coordinate(r,c):\n",
    "    widths = []\n",
    "    heights = []\n",
    "    for i in range(c):\n",
    "        widths+=[\"w\"+str(i)]\n",
    "    for i in range(r):\n",
    "        heights+=[\"h\"+str(i)]\n",
    "    x = (\"+\".join(widths)) if len(widths)>0 else \"0\"\n",
    "    y = (\"+\".join(heights)) if len(heights)>0 else \"0\"\n",
    "    return \"{}_{}\".format(x,y)\n",
    "def get_abs_coordinate(r,c, single_width, single_height):\n",
    "    return \"{}_{}\".format(c * single_width, r * single_height)\n",
    "# def gen_xstack_layout(row, col):\n",
    "#     size = col * row\n",
    "#     coordinates = []\n",
    "#     for r in range(row):\n",
    "#         for c in range(col):\n",
    "#             coordinates+=[get_coordinate(r,c)]\n",
    "#     return \"inputs=\"+str(size)+\":layout=\"+(\"|\".join(coordinates))"
   ]
  },
  {
   "cell_type": "code",
   "execution_count": null,
   "metadata": {},
   "outputs": [],
   "source": [
    "def get_spiral_layout(vid_count, row, col, single_width, single_height):\n",
    "    size = col * row\n",
    "    coordinates = []\n",
    "    c, r = col//2, row//2\n",
    "    counter = 0\n",
    "    filled_counter = 0\n",
    "    same_dir_extent=0\n",
    "    same_dir_travelled = 0\n",
    "    change_dir_counter = -1\n",
    "    sign=1\n",
    "    while (filled_counter<size and filled_counter < vid_count):\n",
    "#         print(\"r={}, c={}\".format(r,c))\n",
    "        if (c<col and r<row and c>=0 and r>=0):\n",
    "            coordinates+=[get_abs_coordinate(r,c, single_width, single_height)]\n",
    "            filled_counter+=1\n",
    "        if (same_dir_extent==same_dir_travelled):\n",
    "#             print(\"change direction\")\n",
    "            change_dir_counter+=1\n",
    "            same_dir_travelled = 0\n",
    "            if (change_dir_counter%2 ==0):\n",
    "                same_dir_extent+=1\n",
    "            if (change_dir_counter%4 == 1 or change_dir_counter%4 == 3):\n",
    "                sign*=-1\n",
    "        if (change_dir_counter%2==0):\n",
    "            c+=sign\n",
    "        else:\n",
    "            r+=sign\n",
    "        same_dir_travelled += 1\n",
    "        counter+=1\n",
    "    filter_str = \"\"\n",
    "    for i in range(filled_counter):\n",
    "        filter_str+=f\"[{i}:v]scale=480:-1[scaled{i}];\"\n",
    "    for i in range(filled_counter):\n",
    "        filter_str+=\"[scaled{}]\".format(i)\n",
    "    filter_str+=\"xstack=inputs=\"+str(filled_counter)\n",
    "    filter_str+=\":layout=\"+(\"|\".join(coordinates))+\"[v]\"\n",
    "    return \"{}\".format(filter_str)"
   ]
  },
  {
   "cell_type": "code",
   "execution_count": null,
   "metadata": {},
   "outputs": [],
   "source": [
    "def generate_mosaic(prefix, row, col, single_width, single_height, video_paths):\n",
    "    tokens = [\"ffmpeg\"]\n",
    "    input_tokens = []\n",
    "    size = min(row*col, len(video_paths))\n",
    "    for i in range(len(video_paths)):\n",
    "        input_tokens+=[\"-i\", video_paths[i]]\n",
    "    tokens+=input_tokens\n",
    "    tokens+=[\"-t\"]\n",
    "    tokens+=[\"20\"]\n",
    "    tokens+=[\"-filter_complex\"]\n",
    "    tokens+=[get_spiral_layout(size, row, col, single_width, single_height)]\n",
    "    tokens+=[\"-map\"]\n",
    "    tokens+=[\"[v]\"]\n",
    "    tokens+=[\"{}_{}by{}.mp4\".format(prefix, row, col)]\n",
    "    print(tokens)\n",
    "    print()\n",
    "    print(\" \".join(tokens))\n",
    "    ffmpeg_popen = subprocess.Popen(tokens)\n",
    "    try:\n",
    "        ffmpeg_popen.wait(timeout=360);\n",
    "    except subprocess.TimeoutExpired:\n",
    "        os.kill(ffmpeg_popen.pid, signal.SIGTERM)\n",
    "    code = ffmpeg_popen.returncode\n",
    "    return code"
   ]
  },
  {
   "cell_type": "code",
   "execution_count": null,
   "metadata": {},
   "outputs": [],
   "source": [
    "generate_mosaic('truthall', 3, 4, 480, 360, video_list)"
   ]
  }
 ],
 "metadata": {
  "kernelspec": {
   "display_name": "Python 3",
   "language": "python",
   "name": "python3"
  },
  "language_info": {
   "codemirror_mode": {
    "name": "ipython",
    "version": 3
   },
   "file_extension": ".py",
   "mimetype": "text/x-python",
   "name": "python",
   "nbconvert_exporter": "python",
   "pygments_lexer": "ipython3",
   "version": "3.8.5"
  }
 },
 "nbformat": 4,
 "nbformat_minor": 2
}
