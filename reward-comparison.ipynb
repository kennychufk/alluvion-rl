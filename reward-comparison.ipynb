{
 "cells": [
  {
   "cell_type": "code",
   "execution_count": null,
   "id": "cbceb1a1-12d4-4974-b3a3-b4cb8cdffc38",
   "metadata": {},
   "outputs": [],
   "source": [
    "import numpy as np\n",
    "from numpy import linalg as LA\n",
    "from matplotlib import pyplot as plt\n",
    "from util import populate_plt_settings, get_column_width, get_fig_size, get_latex_float\n",
    "import matplotlib\n",
    "import wandb"
   ]
  },
  {
   "cell_type": "code",
   "execution_count": null,
   "id": "bbb0d985-3414-4767-acd6-abb7616632c5",
   "metadata": {},
   "outputs": [],
   "source": [
    "populate_plt_settings(plt)"
   ]
  },
  {
   "cell_type": "code",
   "execution_count": null,
   "id": "4c438e2f-f886-45c8-8c58-b829f6c8e6d6",
   "metadata": {},
   "outputs": [],
   "source": [
    "api = wandb.Api(timeout=30)\n",
    "\n",
    "# run_ids = [\n",
    "#     'kennychufk/alluvion-rl/2dvg1pj7', # KL v\n",
    "#     'kennychufk/alluvion-rl/2v8uur8r', # density\n",
    "#     'kennychufk/alluvion-rl/3f0xin9v', # shape\n",
    "#     'kennychufk/alluvion-rl/3lk6qkjz', # v\n",
    "# ]\n",
    "\n",
    "run_ids = [\n",
    "    'kennychufk/alluvion-rl/2nw7bxr4', # statistical (kldiv)\n",
    "    'kennychufk/alluvion-rl/e290336m', # eulerian\n",
    "    'kennychufk/alluvion-rl/1g69ksir', # geometrical\n",
    "]"
   ]
  },
  {
   "cell_type": "code",
   "execution_count": null,
   "id": "9ddf4251-e5df-4226-a065-93791e9734ac",
   "metadata": {},
   "outputs": [],
   "source": [
    "labels = [\n",
    "    'Statistical reward',\n",
    "    'Eulerian reward',\n",
    "    'Geometric reward',\n",
    "]"
   ]
  },
  {
   "cell_type": "code",
   "execution_count": null,
   "id": "d9a8c575-35b3-42dc-8c4e-fd02c3a6ada1",
   "metadata": {},
   "outputs": [],
   "source": [
    "score100_curves = []\n",
    "score_curves = []\n",
    "\n",
    "for i in range(len(run_ids)):\n",
    "    run = api.run(run_ids[i])\n",
    "    score100_curve = []\n",
    "    score_curve = []\n",
    "    history = run.scan_history(keys=None,\n",
    "                               page_size=1000,\n",
    "                               min_step=None,\n",
    "                               max_step=None)\n",
    "\n",
    "    for row_id, row in enumerate(history):\n",
    "        episode_id = row_id + 1\n",
    "        if (row_id != row['_step']):\n",
    "            print('step id mismatch')\n",
    "        if 'score' in row:\n",
    "            score_curve.append(row['score'])\n",
    "        if 'score100' in row:\n",
    "            score100_curve.append(row['score100'])\n",
    "        else:\n",
    "            score100_curve.append(np.nan)\n",
    "    score100_curves.append(score100_curve)\n",
    "    score_curves.append(score_curve)\n",
    "    print('finished', run_ids[i])"
   ]
  },
  {
   "cell_type": "code",
   "execution_count": null,
   "id": "cb59b693-5af6-4fc4-b3d1-912cae9b7011",
   "metadata": {},
   "outputs": [],
   "source": [
    "for i in range(len(run_ids)):\n",
    "    score_curve = score_curves[i]\n",
    "    plt.plot(score_curve/-np.min(score_curve))"
   ]
  },
  {
   "cell_type": "code",
   "execution_count": null,
   "id": "4d65b493-742c-4fa9-b094-4f8c02b0452e",
   "metadata": {},
   "outputs": [],
   "source": [
    "fig, ax = plt.subplots(1, 1, figsize = get_fig_size(get_column_width()))\n",
    "\n",
    "for i in range(len(run_ids)):\n",
    "    score100_curve = score100_curves[i]\n",
    "    ax.plot(score100_curve/-np.min(np.nan_to_num((score100_curve))), label=labels[i])\n",
    "ax.legend()\n",
    "ax.set_title('Comparison of reward functions')\n",
    "ax.set_ylabel('Moving-average score') \n",
    "ax.set_xlabel('Episode')\n",
    "fig.savefig('reward-comparison.pgf', bbox_inches='tight')"
   ]
  }
 ],
 "metadata": {
  "kernelspec": {
   "display_name": "Python 3 (ipykernel)",
   "language": "python",
   "name": "python3"
  },
  "language_info": {
   "codemirror_mode": {
    "name": "ipython",
    "version": 3
   },
   "file_extension": ".py",
   "mimetype": "text/x-python",
   "name": "python",
   "nbconvert_exporter": "python",
   "pygments_lexer": "ipython3",
   "version": "3.8.13"
  }
 },
 "nbformat": 4,
 "nbformat_minor": 5
}
