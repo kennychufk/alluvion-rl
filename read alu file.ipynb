{
 "cells": [
  {
   "cell_type": "code",
   "execution_count": null,
   "metadata": {},
   "outputs": [],
   "source": [
    "import numpy as np\n",
    "import struct"
   ]
  },
  {
   "cell_type": "code",
   "execution_count": null,
   "metadata": {},
   "outputs": [],
   "source": [
    "def read_alu(filename):\n",
    "    with open(filename, 'rb') as f:\n",
    "        shape = []\n",
    "        while (True):\n",
    "            shape_item = np.frombuffer(f.read(np.dtype(np.uint32).itemsize), dtype=np.uint32)[0]\n",
    "            if (shape_item == 0):\n",
    "                break\n",
    "            shape.append(shape_item)\n",
    "        num_primitives_per_unit = np.frombuffer(f.read(np.dtype(np.uint32).itemsize), dtype=np.uint32)[0]\n",
    "        numeric_type_label = f.read(1).decode('ascii')\n",
    "        if (numeric_type_label=='f'):\n",
    "            nominal_dtype = np.float32\n",
    "        elif (numeric_type_label=='d'):\n",
    "            nominal_dtype = np.float64\n",
    "        elif (numeric_type_label=='u'):\n",
    "            nominal_dtype = np.uint32\n",
    "        elif (numeric_type_label=='i'):\n",
    "            nominal_dtype = np.int32\n",
    "        np_dtype = np.dtype(nominal_dtype)\n",
    "        num_bytes = np.prod(shape, dtype=np.uint32) * num_primitives_per_unit * np_dtype.itemsize\n",
    "        return np.frombuffer(f.read(num_bytes), dtype=np_dtype).reshape(*shape, num_primitives_per_unit)"
   ]
  }
 ],
 "metadata": {
  "kernelspec": {
   "display_name": "Python 3",
   "language": "python",
   "name": "python3"
  },
  "language_info": {
   "codemirror_mode": {
    "name": "ipython",
    "version": 3
   },
   "file_extension": ".py",
   "mimetype": "text/x-python",
   "name": "python",
   "nbconvert_exporter": "python",
   "pygments_lexer": "ipython3",
   "version": "3.8.5"
  }
 },
 "nbformat": 4,
 "nbformat_minor": 4
}
