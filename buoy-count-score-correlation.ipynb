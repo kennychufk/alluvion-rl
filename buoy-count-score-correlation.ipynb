{
 "cells": [
  {
   "cell_type": "code",
   "execution_count": null,
   "id": "932b5172-9911-4eec-b7f4-edb80c7d2a2f",
   "metadata": {},
   "outputs": [],
   "source": [
    "import numpy as np\n",
    "import wandb\n",
    "from matplotlib import pyplot as plt\n",
    "from util import populate_plt_settings, get_column_width, get_fig_size, get_latex_float\n",
    "import re\n",
    "import plotly.express as px\n",
    "import pandas as pd"
   ]
  },
  {
   "cell_type": "code",
   "execution_count": null,
   "id": "27761e6d-cdf4-4c24-8377-d29b93dbab30",
   "metadata": {},
   "outputs": [],
   "source": [
    "populate_plt_settings(plt)"
   ]
  },
  {
   "cell_type": "code",
   "execution_count": null,
   "id": "bc078c68-e732-46e2-a961-e0f638d8df53",
   "metadata": {},
   "outputs": [],
   "source": [
    "api = wandb.Api()\n",
    "# run = api.run('kennychufk/alluvion-rl/e290336mAuga')\n",
    "# run = api.run('kennychufk/alluvion-rl/76dyno5g')\n",
    "run = api.run('kennychufk/alluvion-rl/2amh43ojAugb')\n"
   ]
  },
  {
   "cell_type": "code",
   "execution_count": null,
   "id": "2d323716-4807-496d-af26-65f505282556",
   "metadata": {},
   "outputs": [],
   "source": [
    "history = run.scan_history(keys=None,\n",
    "                               page_size=1000,\n",
    "                               min_step=None,\n",
    "                               max_step=None)"
   ]
  },
  {
   "cell_type": "code",
   "execution_count": null,
   "id": "80319799-f7f4-4e40-9f22-d1d0651a6ee2",
   "metadata": {},
   "outputs": [],
   "source": [
    "pattern=re.compile('([0-9]+)-uth-.*m%')\n",
    "# pattern=re.compile('([0-9]+)-uth-.*%')\n",
    "buoy_counts = np.arange(4, 101, 2)\n",
    "\n",
    "\n",
    "num_artifacts = 0\n",
    "for row in history:\n",
    "    num_artifacts+=((row['_step']+1)%50==0)\n",
    "    \n",
    "val_scores = np.zeros((num_artifacts, len(buoy_counts)))\n",
    "\n",
    "artifact_id = 0\n",
    "for row_id, row in enumerate(history):\n",
    "    if (row['_step']+1)%50!=0:\n",
    "        continue\n",
    "    for key in row:\n",
    "        # if key.endswith('%') and not key.endswith('m%'):\n",
    "        if key.endswith('m%'):\n",
    "            num_buoys = int(pattern.match(key)[1])\n",
    "            val_scores[artifact_id, (num_buoys-4)//2] = row[key]\n",
    "    artifact_id+=1\n",
    "latest_val_scores = val_scores[-1]"
   ]
  },
  {
   "cell_type": "code",
   "execution_count": null,
   "id": "53ff2bf5-12a7-431f-b137-6d6d6d718e2c",
   "metadata": {},
   "outputs": [],
   "source": [
    "buoy_counts"
   ]
  },
  {
   "cell_type": "code",
   "execution_count": null,
   "id": "dc6efe2b-089e-4f60-bcf3-772ab87f1128",
   "metadata": {},
   "outputs": [],
   "source": [
    "num_rows = 1\n",
    "num_cols = 1\n",
    "fig, ax = plt.subplots(num_rows, num_cols, figsize = get_fig_size(get_column_width(), ratio=(np.sqrt(5)-1)*0.5))\n",
    "\n",
    "ax.scatter(x=buoy_counts, y=1-latest_val_scores)\n",
    "ax.set_xlabel('Number of buoys')\n",
    "ax.set_ylabel('Score')\n",
    "\n",
    "\n",
    "fig.tight_layout(pad=0.05) # should set tight_layout before add_axes()\n",
    "# fig.savefig('buoy-count-score-correlation.pgf')"
   ]
  },
  {
   "cell_type": "code",
   "execution_count": null,
   "id": "8747fb97-ca36-4cd7-9fbc-df59af4a8471",
   "metadata": {},
   "outputs": [],
   "source": []
  },
  {
   "cell_type": "code",
   "execution_count": null,
   "id": "cf454a89-7c07-45b6-b45a-e489fdcc8a33",
   "metadata": {},
   "outputs": [],
   "source": []
  },
  {
   "cell_type": "code",
   "execution_count": null,
   "id": "e0adfd0b-5193-485a-a848-fa283d7c3256",
   "metadata": {},
   "outputs": [],
   "source": [
    "entries = []\n",
    "\n",
    "for artifact_id in range(num_artifacts):\n",
    "    episode = (artifact_id+1)*50\n",
    "    for i, score in enumerate(val_scores[artifact_id]):\n",
    "        entries.append({'episode' : episode, 'num_buoys' : buoy_counts[i], 'score' : 1-score})\n",
    "\n",
    "val_df = pd.DataFrame(entries)"
   ]
  },
  {
   "cell_type": "code",
   "execution_count": null,
   "id": "03684d41-a4e3-4415-ab6d-569217ced28f",
   "metadata": {},
   "outputs": [],
   "source": [
    "fig = px.line(val_df, x=\"num_buoys\", y=\"score\", color='episode',  color_discrete_sequence=px.colors.sequential.Viridis)\n",
    "fig.show()"
   ]
  },
  {
   "cell_type": "code",
   "execution_count": null,
   "id": "110ba8f8-f8f5-47fd-8386-40f35b5d518e",
   "metadata": {},
   "outputs": [],
   "source": []
  },
  {
   "cell_type": "code",
   "execution_count": null,
   "id": "fa539076-26ed-4f4d-8686-572fe2189f1d",
   "metadata": {},
   "outputs": [],
   "source": [
    "from sklearn.linear_model import LinearRegression\n",
    "from scipy import stats\n",
    "import numpy as np\n"
   ]
  },
  {
   "cell_type": "code",
   "execution_count": null,
   "id": "816b2537-c3ba-439e-b0d8-393ba756fb26",
   "metadata": {},
   "outputs": [],
   "source": [
    "reg = LinearRegression(fit_intercept=True).fit(buoy_counts[:, np.newaxis], latest_val_scores)"
   ]
  },
  {
   "cell_type": "code",
   "execution_count": null,
   "id": "e174fc66-b9e7-4763-88d7-4cbf866aafc0",
   "metadata": {},
   "outputs": [],
   "source": [
    "reg.coef_"
   ]
  },
  {
   "cell_type": "code",
   "execution_count": null,
   "id": "09ace532-4516-4d40-b76d-0009707e6a6f",
   "metadata": {},
   "outputs": [],
   "source": [
    "reg.intercept_"
   ]
  },
  {
   "cell_type": "code",
   "execution_count": null,
   "id": "313e20c6-041f-4b4a-9d28-7d4f07fdd657",
   "metadata": {},
   "outputs": [],
   "source": [
    "reg.score(buoy_counts[:, np.newaxis], latest_val_scores)"
   ]
  },
  {
   "cell_type": "code",
   "execution_count": null,
   "id": "21e01cf9-701a-4c0e-8c1b-533fe757eb9d",
   "metadata": {},
   "outputs": [],
   "source": [
    "reg.coef_"
   ]
  },
  {
   "cell_type": "code",
   "execution_count": null,
   "id": "3866ae90-d86e-499b-9739-2c937ebc0a61",
   "metadata": {},
   "outputs": [],
   "source": [
    "reg.intercept_"
   ]
  }
 ],
 "metadata": {
  "kernelspec": {
   "display_name": "Python 3 (ipykernel)",
   "language": "python",
   "name": "python3"
  },
  "language_info": {
   "codemirror_mode": {
    "name": "ipython",
    "version": 3
   },
   "file_extension": ".py",
   "mimetype": "text/x-python",
   "name": "python",
   "nbconvert_exporter": "python",
   "pygments_lexer": "ipython3",
   "version": "3.8.13"
  }
 },
 "nbformat": 4,
 "nbformat_minor": 5
}
