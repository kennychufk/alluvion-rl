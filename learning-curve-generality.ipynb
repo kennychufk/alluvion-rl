{
 "cells": [
  {
   "cell_type": "code",
   "execution_count": null,
   "id": "932b5172-9911-4eec-b7f4-edb80c7d2a2f",
   "metadata": {},
   "outputs": [],
   "source": [
    "import numpy as np\n",
    "import wandb\n",
    "from matplotlib import pyplot as plt\n",
    "from util import populate_plt_settings, get_column_width, get_fig_size, get_latex_float\n",
    "import re\n",
    "import plotly.express as px\n",
    "import pandas as pd"
   ]
  },
  {
   "cell_type": "code",
   "execution_count": null,
   "id": "27761e6d-cdf4-4c24-8377-d29b93dbab30",
   "metadata": {},
   "outputs": [],
   "source": [
    "populate_plt_settings(plt)"
   ]
  },
  {
   "cell_type": "code",
   "execution_count": null,
   "id": "bc078c68-e732-46e2-a961-e0f638d8df53",
   "metadata": {},
   "outputs": [],
   "source": [
    "api = wandb.Api()\n",
    "\n",
    "# runs = {\n",
    "#     'Training set': api.run('kennychufk/alluvion-rl/2amh43ojAug-val'),\n",
    "#     'Nephroid': api.run('kennychufk/alluvion-rl/2amh43ojAug-nephroid'),\n",
    "#     'Bidirectional': api.run('kennychufk/alluvion-rl/2amh43ojAuga-bidir-circles'),\n",
    "#     'Epitrochoid': api.run('kennychufk/alluvion-rl/2amh43ojAug-interesting-loop')\n",
    "# }\n",
    "\n",
    "\n",
    "runs = {\n",
    "    'Training set': api.run('kennychufk/alluvion-rl/2v7m4mucAug-star-epicycloid'),\n",
    "    'Nephroid': api.run('kennychufk/alluvion-rl/2v7m4mucAug-nephroid'),\n",
    "    'Bidirectional': api.run('kennychufk/alluvion-rl/2v7m4mucAug-bidir-circles'),\n",
    "    'Epitrochoid': api.run('kennychufk/alluvion-rl/2v7m4mucAug-interesting-loop'),\n",
    "    'Diagonal': api.run('kennychufk/alluvion-rl/2v7m4mucAug-diagonal4')\n",
    "}"
   ]
  },
  {
   "cell_type": "code",
   "execution_count": null,
   "id": "4223518a-5286-4376-8bfc-ab49633b80d1",
   "metadata": {},
   "outputs": [],
   "source": [
    "display_names_asc = [ '\\emph{Stars \\& Trefoiloids}', '\\emph{Nephroids}', '\\emph{Alternating loops}', '\\emph{Epitrochoids}', '\\emph{Diagonal oscillations}']\n",
    "display_names = {}\n",
    "for i, key in enumerate(runs):\n",
    "    display_names[key]  = display_names_asc[i]"
   ]
  },
  {
   "cell_type": "code",
   "execution_count": null,
   "id": "2d323716-4807-496d-af26-65f505282556",
   "metadata": {},
   "outputs": [],
   "source": [
    "histories = {}\n",
    "\n",
    "for run_name in runs:\n",
    "    run = runs[run_name]\n",
    "    histories[run_name] = run.scan_history(keys=None,\n",
    "                           page_size=1000,\n",
    "                           min_step=None,\n",
    "                           max_step=None)"
   ]
  },
  {
   "cell_type": "code",
   "execution_count": null,
   "id": "80319799-f7f4-4e40-9f22-d1d0651a6ee2",
   "metadata": {},
   "outputs": [],
   "source": [
    "metric_name = 'eulerian_masked'\n",
    "# metric_name = 'eulerian'\n",
    "\n",
    "overall_name = f'overall-{metric_name}'\n",
    "\n",
    "\n",
    "step_interval = 50\n",
    "num_steps_per_sequence = 2000\n",
    "num_artifacts = {}\n",
    "overall_errors = {}\n",
    "step_numbers = {}\n",
    "\n",
    "for run_name in runs:\n",
    "    num_artifacts_tmp = 0\n",
    "    for row in histories[run_name]:\n",
    "        num_artifacts_tmp+=((row['_step']+1)%step_interval==0)\n",
    "    num_artifacts[run_name]=num_artifacts_tmp\n",
    "    \n",
    "    step_numbers[run_name] = (np.arange(num_artifacts_tmp)+1)*step_interval*num_steps_per_sequence\n",
    "\n",
    "    overall_errors[run_name] = np.zeros(num_artifacts_tmp)\n",
    "\n",
    "    artifact_id = 0\n",
    "    for row_id, row in enumerate(histories[run_name]):\n",
    "        if (row['_step']+1)%50!=0:\n",
    "            continue\n",
    "        for key in row:\n",
    "            if key == overall_name:\n",
    "                overall_errors[run_name][artifact_id] = row[key]\n",
    "        artifact_id+=1"
   ]
  },
  {
   "cell_type": "code",
   "execution_count": null,
   "id": "8747fb97-ca36-4cd7-9fbc-df59af4a8471",
   "metadata": {},
   "outputs": [],
   "source": [
    "from matplotlib.ticker import (AutoMinorLocator, MultipleLocator)\n",
    "num_rows = 1\n",
    "num_cols = 1\n",
    "fig, ax = plt.subplots(num_rows, num_cols, figsize = get_fig_size(get_column_width(), ratio=(np.sqrt(5)-1)*0.5))\n",
    "\n",
    "\n",
    "lines = [ax.plot(step_numbers[run_name], overall_errors[run_name]/np.max(overall_errors[run_name]), label=display_names[run_name], zorder=2)[0] for run_name in ['Training set', 'Diagonal', 'Nephroid', 'Bidirectional', 'Epitrochoid']]\n",
    "\n",
    "    \n",
    "ax.set_xlabel('Steps')\n",
    "ax.set_ylabel(r'Normalized Eulerian error')\n",
    "ax.set_xlim(0,6000000)\n",
    "ax.set_ylim(0.65,1)\n",
    "ax.xaxis.set_minor_locator(AutoMinorLocator(5))\n",
    "ax.grid(which='minor', color='#DDDDDD', linewidth=0.5)\n",
    "\n",
    "legend_left = ax.legend(handles=[lines[3], lines[4]], loc='upper center', bbox_to_anchor=(0.44, 0.98), ncol=1, frameon=True, handlelength=0.8, handleheight=0.8, labelspacing=0.3, borderpad=0, handletextpad=0.2,borderaxespad=0,columnspacing=1.0, edgecolor='None')\n",
    "\n",
    "ax.add_artist(legend_left)\n",
    "legend_right = ax.legend(handles=[lines[0], lines[1], lines[2]], loc='upper center', bbox_to_anchor=(0.79, 0.98), ncol=1, frameon=True, handlelength=0.8, handleheight=0.8, labelspacing=0.3, borderpad=0, handletextpad=0.2,borderaxespad=0,columnspacing=1.0, edgecolor='None')\n",
    "legend_left.set_zorder(1)\n",
    "legend_right.set_zorder(1)\n",
    "\n",
    "\n",
    "fig.tight_layout(pad=0.05) # should set tight_layout before add_axes()\n",
    "fig.savefig('learning-curve-generality.pdf')"
   ]
  },
  {
   "cell_type": "code",
   "execution_count": null,
   "id": "cf454a89-7c07-45b6-b45a-e489fdcc8a33",
   "metadata": {},
   "outputs": [],
   "source": [
    "step_numbers['Training set']"
   ]
  },
  {
   "cell_type": "code",
   "execution_count": null,
   "id": "e0adfd0b-5193-485a-a848-fa283d7c3256",
   "metadata": {},
   "outputs": [],
   "source": []
  }
 ],
 "metadata": {
  "kernelspec": {
   "display_name": "Python 3 (ipykernel)",
   "language": "python",
   "name": "python3"
  },
  "language_info": {
   "codemirror_mode": {
    "name": "ipython",
    "version": 3
   },
   "file_extension": ".py",
   "mimetype": "text/x-python",
   "name": "python",
   "nbconvert_exporter": "python",
   "pygments_lexer": "ipython3",
   "version": "3.8.13"
  }
 },
 "nbformat": 4,
 "nbformat_minor": 5
}
