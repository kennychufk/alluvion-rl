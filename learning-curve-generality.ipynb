{
 "cells": [
  {
   "cell_type": "code",
   "execution_count": null,
   "id": "932b5172-9911-4eec-b7f4-edb80c7d2a2f",
   "metadata": {},
   "outputs": [],
   "source": [
    "import numpy as np\n",
    "import wandb\n",
    "from matplotlib import pyplot as plt\n",
    "from util import populate_plt_settings, get_column_width, get_fig_size, get_latex_float\n",
    "import re\n",
    "import plotly.express as px\n",
    "import pandas as pd"
   ]
  },
  {
   "cell_type": "code",
   "execution_count": null,
   "id": "27761e6d-cdf4-4c24-8377-d29b93dbab30",
   "metadata": {},
   "outputs": [],
   "source": [
    "populate_plt_settings(plt)"
   ]
  },
  {
   "cell_type": "code",
   "execution_count": null,
   "id": "bc078c68-e732-46e2-a961-e0f638d8df53",
   "metadata": {},
   "outputs": [],
   "source": [
    "api = wandb.Api()\n",
    "\n",
    "runs = {\n",
    "    'Training set': api.run('kennychufk/alluvion-rl/2amh43ojAug-val'),\n",
    "    'Nephroid': api.run('kennychufk/alluvion-rl/2amh43ojAug-nephroid'),\n",
    "    'Bidirectional': api.run('kennychufk/alluvion-rl/2amh43ojAuga-bidir-circles'),\n",
    "    'Epitrochoid': api.run('kennychufk/alluvion-rl/2amh43ojAug-interesting-loop')\n",
    "}"
   ]
  },
  {
   "cell_type": "code",
   "execution_count": null,
   "id": "2d323716-4807-496d-af26-65f505282556",
   "metadata": {},
   "outputs": [],
   "source": [
    "histories = {}\n",
    "\n",
    "for run_name in runs:\n",
    "    run = runs[run_name]\n",
    "    histories[run_name] = run.scan_history(keys=None,\n",
    "                           page_size=1000,\n",
    "                           min_step=None,\n",
    "                           max_step=None)"
   ]
  },
  {
   "cell_type": "code",
   "execution_count": null,
   "id": "80319799-f7f4-4e40-9f22-d1d0651a6ee2",
   "metadata": {},
   "outputs": [],
   "source": [
    "metric_name = 'eulerian_masked'\n",
    "# metric_name = 'eulerian'\n",
    "\n",
    "overall_name = f'overall-{metric_name}'\n",
    "\n",
    "\n",
    "step_interval = 50\n",
    "num_steps_per_sequence = 2000\n",
    "num_artifacts = {}\n",
    "overall_errors = {}\n",
    "step_numbers = {}\n",
    "\n",
    "for run_name in runs:\n",
    "    num_artifacts_tmp = 0\n",
    "    for row in histories[run_name]:\n",
    "        num_artifacts_tmp+=((row['_step']+1)%step_interval==0)\n",
    "    num_artifacts[run_name]=num_artifacts_tmp\n",
    "    \n",
    "    step_numbers[run_name] = (np.arange(num_artifacts_tmp)+1)*step_interval*num_steps_per_sequence\n",
    "\n",
    "    overall_errors[run_name] = np.zeros(num_artifacts_tmp)\n",
    "\n",
    "    artifact_id = 0\n",
    "    for row_id, row in enumerate(histories[run_name]):\n",
    "        if (row['_step']+1)%50!=0:\n",
    "            continue\n",
    "        for key in row:\n",
    "            if key == overall_name:\n",
    "                overall_errors[run_name][artifact_id] = row[key]\n",
    "        artifact_id+=1"
   ]
  },
  {
   "cell_type": "code",
   "execution_count": null,
   "id": "8747fb97-ca36-4cd7-9fbc-df59af4a8471",
   "metadata": {},
   "outputs": [],
   "source": [
    "num_rows = 1\n",
    "num_cols = 1\n",
    "fig, ax = plt.subplots(num_rows, num_cols, figsize = get_fig_size(get_column_width(), ratio=(np.sqrt(5)-1)*0.5))\n",
    "\n",
    "\n",
    "for run_name in ['Bidirectional', 'Training set', 'Nephroid', 'Epitrochoid']:\n",
    "    ax.plot(step_numbers[run_name], overall_errors[run_name], label=run_name)\n",
    "ax.set_xlabel('Steps')\n",
    "ax.set_ylabel(r'Eulerian error ($\\textup{m}^{2}\\textup{s}^{-2}$)')\n",
    "ax.legend()\n",
    "\n",
    "\n",
    "fig.tight_layout(pad=0.05) # should set tight_layout before add_axes()\n",
    "fig.savefig('learning-curve-generality.pgf')"
   ]
  },
  {
   "cell_type": "code",
   "execution_count": null,
   "id": "cf454a89-7c07-45b6-b45a-e489fdcc8a33",
   "metadata": {},
   "outputs": [],
   "source": []
  },
  {
   "cell_type": "code",
   "execution_count": null,
   "id": "e0adfd0b-5193-485a-a848-fa283d7c3256",
   "metadata": {},
   "outputs": [],
   "source": []
  }
 ],
 "metadata": {
  "kernelspec": {
   "display_name": "Python 3 (ipykernel)",
   "language": "python",
   "name": "python3"
  },
  "language_info": {
   "codemirror_mode": {
    "name": "ipython",
    "version": 3
   },
   "file_extension": ".py",
   "mimetype": "text/x-python",
   "name": "python",
   "nbconvert_exporter": "python",
   "pygments_lexer": "ipython3",
   "version": "3.8.13"
  }
 },
 "nbformat": 4,
 "nbformat_minor": 5
}
