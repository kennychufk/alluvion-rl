{
 "cells": [
  {
   "cell_type": "code",
   "execution_count": null,
   "id": "fc95d50d-90fd-434e-bec4-7226db27a816",
   "metadata": {},
   "outputs": [],
   "source": [
    "import numpy as np\n",
    "from util import read_alu\n",
    "from util import populate_plt_settings, get_column_width, get_fig_size, get_latex_float\n",
    "from numpy import linalg as LA\n",
    "from matplotlib import pyplot as plt\n",
    "from sklearn.linear_model import LinearRegression"
   ]
  },
  {
   "cell_type": "code",
   "execution_count": null,
   "id": "c34127a2-9337-42db-8ca6-ef596441defe",
   "metadata": {},
   "outputs": [],
   "source": [
    "# dp = al.Depot()\n",
    "# runner = dp.Runner()\n",
    "# v = dp.create_coated((num_samples), 3)\n",
    "# s = dp.create_coated((num_samples), 1)\n",
    "num_samples = 30 * 30 * 30"
   ]
  },
  {
   "cell_type": "code",
   "execution_count": null,
   "id": "8d858de3-e668-4125-a119-4db6b9dd090c",
   "metadata": {},
   "outputs": [],
   "source": [
    "truth_dir = '/media/kennychufk/mldata/alluvion-data'\n",
    "dirnames = [f\"{truth_dir}/diagonal-train4/rltruth-dbdf3f05-0914.01.20.58\",\n",
    "            f\"{truth_dir}/diagonal-train4/rltruth-8cecae4f-0914.01.50.28\",\n",
    "            f\"{truth_dir}/diagonal-train4/rltruth-d949a937-0914.02.21.44\",\n",
    "            f\"{truth_dir}/diagonal-train4/rltruth-9d4aaf45-0914.02.52.46\",\n",
    "            f\"{truth_dir}/diagonal-train4/rltruth-448949d6-0914.03.23.47\",\n",
    "            f\"{truth_dir}/diagonal-train4/rltruth-33cbd54f-0914.03.59.31\",\n",
    "            f\"{truth_dir}/diagonal-train4/rltruth-d4537532-0914.04.30.48\",\n",
    "            f\"{truth_dir}/diagonal-train4/rltruth-350aefb5-0914.05.02.10\",\n",
    "            f\"{truth_dir}/diagonal-train4/rltruth-22ba32a5-0914.05.33.45\",\n",
    "            f\"{truth_dir}/diagonal-train4/rltruth-1dc784ae-0914.06.08.59\",\n",
    "            f\"{truth_dir}/diagonal-train4/rltruth-73469bdd-0914.06.43.30\",\n",
    "            f\"{truth_dir}/diagonal-train4/rltruth-8dfe9db8-0914.07.17.17\",\n",
    "            f\"{truth_dir}/diagonal-train4/rltruth-a35ca720-0914.07.49.48\",\n",
    "            f\"{truth_dir}/diagonal-train4/rltruth-ebc119cb-0914.08.22.41\",\n",
    "            f\"{truth_dir}/diagonal-train4/rltruth-3c127f13-0914.08.55.27\",\n",
    "            f\"{truth_dir}/diagonal-train4/rltruth-d24a33dc-0914.09.29.59\",\n",
    "            f\"{truth_dir}/diagonal-train4/rltruth-cada1ed3-0914.10.04.19\",\n",
    "            f\"{truth_dir}/diagonal-train4/rltruth-87b12884-0914.10.41.05\",\n",
    "            f\"{truth_dir}/diagonal-train4/rltruth-312c0cc8-0914.11.53.13\",\n",
    "            f\"{truth_dir}/diagonal-train4/rltruth-a93a68aa-0914.12.26.32\",\n",
    "            f\"{truth_dir}/diagonal-train4/rltruth-b9b86c25-0914.12.59.04\",\n",
    "            f\"{truth_dir}/diagonal-train4/rltruth-2d9afd64-0914.13.35.00\",\n",
    "            f\"{truth_dir}/diagonal-train4/rltruth-b5a1fc48-0914.14.09.07\",\n",
    "            f\"{truth_dir}/diagonal-train4/rltruth-2a98f2fb-0914.14.42.39\",\n",
    "            f\"{truth_dir}/diagonal-train4/rltruth-cf367ec6-0914.15.16.06\",\n",
    "            f\"{truth_dir}/diagonal-train4/rltruth-12ff5012-0914.15.52.21\",\n",
    "            f\"{truth_dir}/diagonal-train4/rltruth-b79afb3c-0914.16.27.42\",\n",
    "            f\"{truth_dir}/diagonal-train4/rltruth-2a7d4859-0914.17.10.05\",\n",
    "            f\"{truth_dir}/diagonal-train4/rltruth-5d9f1cd4-0914.17.47.12\",\n",
    "            f\"{truth_dir}/diagonal-train4/rltruth-882bd11e-0914.18.20.53\",\n",
    "            f\"{truth_dir}/diagonal-train4/rltruth-8150d9a2-0914.18.58.36\",\n",
    "            f\"{truth_dir}/diagonal-train4/rltruth-8834d9d4-0914.19.38.36\",\n",
    "            f\"{truth_dir}/diagonal-train4/rltruth-5640dc4e-0914.20.17.18\",\n",
    "            f\"{truth_dir}/diagonal-train4/rltruth-b9d5ee38-0914.20.51.11\",\n",
    "            f\"{truth_dir}/diagonal-train4/rltruth-b5351c5b-0914.21.28.35\",\n",
    "            f\"{truth_dir}/diagonal-train4/rltruth-aff784dd-0914.22.04.00\",\n",
    "            f\"{truth_dir}/diagonal-train4/rltruth-9196b61d-0914.22.41.50\",\n",
    "            f\"{truth_dir}/diagonal-train4/rltruth-9c9a292c-0914.23.16.52\",\n",
    "            f\"{truth_dir}/diagonal-train4/rltruth-1654bb10-0914.23.56.12\",\n",
    "            f\"{truth_dir}/diagonal-train4/rltruth-65288f7b-0915.00.38.11\",\n",
    "            f\"{truth_dir}/diagonal-train4/rltruth-f01c96fb-0915.01.15.43\",\n",
    "            f\"{truth_dir}/diagonal-train4/rltruth-2d482973-0915.01.58.26\",\n",
    "            f\"{truth_dir}/diagonal-train4/rltruth-d94bc10d-0915.02.33.42\",\n",
    "            f\"{truth_dir}/diagonal-train4/rltruth-e2f978b2-0915.03.10.03\",\n",
    "            f\"{truth_dir}/diagonal-train4/rltruth-1af3c395-0915.04.02.08\",\n",
    "            f\"{truth_dir}/diagonal-train4/rltruth-44eba036-0915.04.44.08\",\n",
    "            f\"{truth_dir}/diagonal-train4/rltruth-227ecffa-0915.05.25.49\",\n",
    "            f\"{truth_dir}/diagonal-train4/rltruth-ee7af950-0915.06.02.41\",\n",
    "            f\"{truth_dir}/diagonal-train4/rltruth-14f08550-0915.06.44.03\"]\n",
    "\n",
    "scene_speed_collections = []\n",
    "buoy_counts = []\n",
    "for dirname in dirnames:\n",
    "    print(np.load(f'{dirname}/num_buoys.npy'))\n",
    "    buoy_counts.append(np.load(f'{dirname}/num_buoys.npy').item())\n",
    "    frame_speeds = []\n",
    "    total_num_speeds = 0\n",
    "    for frame_id in range(1000):\n",
    "        s = LA.norm(read_alu(f'{dirname}/v-{frame_id}.alu'), axis=1)\n",
    "        weight = read_alu(f'{dirname}/density-weight-{frame_id}.alu')\n",
    "        masked = s[weight.ravel()==1]\n",
    "        masked_non_zero = masked[masked>0]\n",
    "        frame_speeds.append(masked_non_zero)\n",
    "        total_num_speeds+=len(masked_non_zero)\n",
    "\n",
    "    scene_speeds = np.empty(total_num_speeds, np.float32)\n",
    "    cursor = 0\n",
    "    for frame_speed in frame_speeds:\n",
    "        frame_size = len(frame_speed)\n",
    "        scene_speeds[cursor:cursor+frame_size] = frame_speed\n",
    "        cursor+=frame_size\n",
    "    scene_speed_collections.append(scene_speeds)"
   ]
  },
  {
   "cell_type": "code",
   "execution_count": null,
   "id": "75c9f9b5-4379-4aa8-969b-4ec7321ab370",
   "metadata": {},
   "outputs": [],
   "source": [
    "buoy_counts = np.array(buoy_counts)\n",
    "percentile10_trends = np.zeros(len(dirnames))\n",
    "percentile25_trends = np.zeros(len(dirnames))\n",
    "percentile50_trends = np.zeros(len(dirnames))\n",
    "percentile75_trends = np.zeros(len(dirnames))\n",
    "percentile90_trends = np.zeros(len(dirnames))\n",
    "for i, dirname in enumerate(dirnames):\n",
    "    percentile10_trends[i] = np.percentile(scene_speed_collections[i], 10)\n",
    "    percentile25_trends[i] = np.percentile(scene_speed_collections[i], 25)\n",
    "    percentile50_trends[i] = np.percentile(scene_speed_collections[i], 50)\n",
    "    percentile75_trends[i] = np.percentile(scene_speed_collections[i], 75)\n",
    "    percentile90_trends[i] = np.percentile(scene_speed_collections[i], 90)"
   ]
  },
  {
   "cell_type": "code",
   "execution_count": null,
   "id": "066cfc52-232a-458a-bccf-20df7df1677a",
   "metadata": {},
   "outputs": [],
   "source": [
    "populate_plt_settings(plt)"
   ]
  },
  {
   "cell_type": "code",
   "execution_count": null,
   "id": "b69a30f3-4a5a-4b4e-8713-599f1e697275",
   "metadata": {},
   "outputs": [],
   "source": [
    "reg10 = LinearRegression().fit(buoy_counts.reshape(-1, 1), percentile10_trends)\n",
    "reg25 = LinearRegression().fit(buoy_counts.reshape(-1, 1), percentile25_trends)\n",
    "reg50 = LinearRegression().fit(buoy_counts.reshape(-1, 1), percentile50_trends)\n",
    "reg75 = LinearRegression().fit(buoy_counts.reshape(-1, 1), percentile75_trends)\n",
    "reg90 = LinearRegression().fit(buoy_counts.reshape(-1, 1), percentile90_trends)"
   ]
  },
  {
   "cell_type": "code",
   "execution_count": null,
   "id": "dd467f94-ffca-48ce-bfbe-1ea22b7edc59",
   "metadata": {},
   "outputs": [],
   "source": [
    "fig, ax = plt.subplots(1, 1, figsize=get_fig_size(get_column_width()))\n",
    "ax.plot(buoy_counts, percentile90_trends, label='90th percentile')\n",
    "ax.plot(buoy_counts, percentile75_trends, label='75th percentile')\n",
    "ax.plot(buoy_counts, percentile50_trends, label='50th percentile')\n",
    "ax.plot(buoy_counts, percentile25_trends, label='25th percentile')\n",
    "ax.plot(buoy_counts, percentile10_trends, label='10th percentile')\n",
    "\n",
    "\n",
    "\n",
    "\n",
    "ax.set_ylabel(r\"Speed ($\\textup{m}\\textup{s}^{-1}$)\")\n",
    "ax.set_xlabel(\"No. of buoys\")\n",
    "ax.set_xlim(0,100)\n",
    "ax.legend(facecolor='white', frameon=True, edgecolor='None')\n",
    "fig.tight_layout(pad=0.05) # pad is 1.08 by default https://stackoverflow.com/a/59252633\n",
    "# fig.savefig('buoy-obstruction.pgf')"
   ]
  },
  {
   "cell_type": "code",
   "execution_count": null,
   "id": "8bb4a5f5-c2b2-4a96-b59f-05fe9b8fb671",
   "metadata": {},
   "outputs": [],
   "source": [
    "reg10.coef_[0]/reg10.intercept_*100"
   ]
  },
  {
   "cell_type": "code",
   "execution_count": null,
   "id": "4eed067f-f039-42d9-b3b9-2e835f2b332f",
   "metadata": {},
   "outputs": [],
   "source": [
    "reg25.coef_[0]/reg25.intercept_*100"
   ]
  },
  {
   "cell_type": "code",
   "execution_count": null,
   "id": "f8100a3b-10c1-4ac1-af68-8b6e2071dcbc",
   "metadata": {},
   "outputs": [],
   "source": [
    "reg50.coef_[0]/reg50.intercept_*100"
   ]
  },
  {
   "cell_type": "code",
   "execution_count": null,
   "id": "60d8ace2-e31f-4cfb-905a-f86520252afd",
   "metadata": {},
   "outputs": [],
   "source": [
    "reg75.coef_[0]/reg75.intercept_*100"
   ]
  },
  {
   "cell_type": "code",
   "execution_count": null,
   "id": "99b9a37d-0787-45ab-b01f-1f4d69ba69bb",
   "metadata": {},
   "outputs": [],
   "source": [
    "reg90.coef_[0]/reg90.intercept_*100"
   ]
  },
  {
   "cell_type": "code",
   "execution_count": null,
   "id": "f81fe3d1-ce64-4c63-895c-7ee4473000d5",
   "metadata": {},
   "outputs": [],
   "source": []
  },
  {
   "cell_type": "code",
   "execution_count": null,
   "id": "83ac99a4-b37f-4e2d-8af9-09327d7708a4",
   "metadata": {},
   "outputs": [],
   "source": []
  }
 ],
 "metadata": {
  "kernelspec": {
   "display_name": "Python 3 (ipykernel)",
   "language": "python",
   "name": "python3"
  },
  "language_info": {
   "codemirror_mode": {
    "name": "ipython",
    "version": 3
   },
   "file_extension": ".py",
   "mimetype": "text/x-python",
   "name": "python",
   "nbconvert_exporter": "python",
   "pygments_lexer": "ipython3",
   "version": "3.8.13"
  }
 },
 "nbformat": 4,
 "nbformat_minor": 5
}
